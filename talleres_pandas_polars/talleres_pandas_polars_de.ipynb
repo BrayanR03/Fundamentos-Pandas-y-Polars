{
 "cells": [
  {
   "cell_type": "markdown",
   "id": "70e02fad",
   "metadata": {},
   "source": [
    "### 📘 Talleres de Ingeniería de Datos con Pandas y Polars 🐼🐻‍❄️"
   ]
  },
  {
   "cell_type": "markdown",
   "id": "76db83f1",
   "metadata": {},
   "source": [
    "---\n",
    "\n",
    "👨‍💻 Autor: Brayan Neciosup  \n",
    "📍 Portafolio: [brayanneciosup](https://bryanneciosup626.wixsite.com/brayandataanalitics)  \n",
    "🔗 LinkedIn: [linkedin.com/brayanneciosup](https://www.linkedin.com/in/brayan-rafael-neciosup-bola%C3%B1os-407a59246/)  \n",
    "💻 GitHub: [github.com/BrayanR03](https://github.com/BrayanR03)  \n",
    "📚 Serie: Fundamentos de Pandas y Polars   \n",
    "📓 Estos talleres constarán de 3 niveles (Básico-Intermedio-Avanzado)   \n",
    "🔍 Abarcará temas desde Fundamentos de Data Wrangling hacia Casos de Uso Avanzado   \n",
    "📝 Cada ejercicio presenta su enunciado, dataset, resultado esperado y solución.   \n"
   ]
  },
  {
   "cell_type": "markdown",
   "id": "533cd600",
   "metadata": {},
   "source": [
    "#### FUNDAMENTOS DE DATA WRANGLING (MANIPULACIÓN DE DATOS)"
   ]
  },
  {
   "cell_type": "markdown",
   "id": "90306f5b",
   "metadata": {},
   "source": [
    "##### 🥉 NIVEL BÁSICO"
   ]
  },
  {
   "cell_type": "markdown",
   "id": "31f1a1a3",
   "metadata": {},
   "source": [
    "###### PANDAS 🐼"
   ]
  },
  {
   "cell_type": "code",
   "execution_count": null,
   "id": "8c51d9ff",
   "metadata": {},
   "outputs": [
    {
     "data": {
      "text/plain": [
       "np.int64(0)"
      ]
     },
     "execution_count": 1,
     "metadata": {},
     "output_type": "execute_result"
    }
   ],
   "source": [
    "import pandas as pd\n",
    "import seaborn as sns\n",
    "import numpy as np\n",
    "\"\"\"\n",
    "1. Detección de valores nulos en columnas principales\n",
    "\n",
    "🗃️ Dataset: TITANIC\n",
    "🗒️ Enunciado: Identifica cuántos valores faltantes hay en las columnas age, embarked y deck.\n",
    "✍️ Resultado esperado: un conteo por columna con la cantidad de valores nulos.\n",
    "\n",
    "\"\"\"\n",
    "## ✔️ Solución\n",
    "df_uno = sns.load_dataset(\"titanic\")\n",
    "# df_uno.head()\n",
    "# df_uno[[\"age\",\"embarked\",\"deck\"]].isnull().sum() ## ➡️ Cantidad de datos nulos: age(177) - embarked(2) - deck(688)\n",
    "\n",
    "\"\"\"\n",
    "2. Eliminación de filas duplicadas\n",
    "\n",
    "🗃️ Dataset: Diccionario\n",
    "🗒️ Enunciado: Elimina las filas duplicadas y conserva solo la primera aparición de cada registro.\n",
    "✍️ Resultado esperado: un DataFrame sin filas repetidas.\n",
    "\n",
    "\"\"\"\n",
    "## ✔️ Solución\n",
    "dict_data = {\n",
    " \"id\": [1,2,2,3,4,4,5],\n",
    " \"nombre\": [\"Ana\",\"Luis\",\"Luis\",\"María\",\"Pedro\",\"Pedro\",\"Sofía\"],\n",
    " \"edad\": [23,30,30,22,40,40,29]\n",
    "}\n",
    "df_dos = pd.DataFrame(dict_data)\n",
    "# df_dos.head()\n",
    "# df_dos.shape[0] ## ➡️ Cantidad de datos: 7\n",
    "df_dos.drop_duplicates(subset=[\"id\",\"nombre\",\"edad\"],keep=\"first\",inplace=True)\n",
    "# df_dos.head()\n",
    "df_dos.shape[0] ## ➡️ Cantidad de datos: 5\n",
    "\n",
    "\n",
    "\"\"\"\n",
    "3. Reemplazo simple de valores faltantes\n",
    "\n",
    "🗃️ Dataset: PENGUINS\n",
    "🗒️ Enunciado: Reemplaza los valores nulos en la columna bill_length_mm con la media de esa misma columna.\n",
    "✍️ Resultado esperado: columna sin valores nulos en bill_length_mm.\n",
    "\n",
    "\"\"\"\n",
    "## ✔️ Solución\n",
    "df_tres = sns.load_dataset(\"penguins\")\n",
    "# df_tres.head()\n",
    "# df_tres[\"bill_length_mm\"].isnull().sum() ## ➡️ Cantidad de datos nulos: 2\n",
    "media_bill_length_mm = float(np.mean(df_tres[\"bill_length_mm\"].dropna()).round(2))\n",
    "df_tres.fillna({\"bill_length_mm\":media_bill_length_mm},inplace=True)\n",
    "df_tres[\"bill_length_mm\"].isnull().sum() ## ➡️ Cantidad de datos nulos: 0\n",
    "\n"
   ]
  },
  {
   "cell_type": "markdown",
   "id": "c3644744",
   "metadata": {},
   "source": [
    "###### POLARS 🐻‍❄️"
   ]
  },
  {
   "cell_type": "code",
   "execution_count": null,
   "id": "f57f88ed",
   "metadata": {},
   "outputs": [
    {
     "data": {
      "text/plain": [
       "0"
      ]
     },
     "execution_count": 14,
     "metadata": {},
     "output_type": "execute_result"
    }
   ],
   "source": [
    "import polars as pl\n",
    "import numpy as np\n",
    "\"\"\"\n",
    "1. Detección de valores nulos en columnas principales\n",
    "\n",
    "🗃️ Dataset: TITANIC\n",
    "🗒️ Enunciado: Identifica cuántos valores faltantes hay en las columnas age, embarked y deck.\n",
    "✍️ Resultado esperado: un conteo por columna con la cantidad de valores nulos.\n",
    "\n",
    "\"\"\"\n",
    "## ✔️ Solución\n",
    "df_uno = pl.read_csv(\"../datasets/titanic.csv\",separator=\",\")\n",
    "# df_uno.head()\n",
    "df_uno.null_count()\n",
    "\n",
    "\"\"\"\n",
    "2. Eliminación de filas duplicadas\n",
    "\n",
    "🗃️ Dataset: Diccionario\n",
    "🗒️ Enunciado: Elimina las filas duplicadas y conserva solo la primera aparición de cada registro.\n",
    "✍️ Resultado esperado: un DataFrame sin filas repetidas.\n",
    "\n",
    "\"\"\"\n",
    "## ✔️ Solución\n",
    "dict_data = {\n",
    " \"id\": [1,2,2,3,4,4,5],\n",
    " \"nombre\": [\"Ana\",\"Luis\",\"Luis\",\"María\",\"Pedro\",\"Pedro\",\"Sofía\"],\n",
    " \"edad\": [23,30,30,22,40,40,29]\n",
    "}\n",
    "df_dos = pl.DataFrame(dict_data)\n",
    "# df_dos.head()\n",
    "df_dos = df_dos.unique(keep=\"first\")\n",
    "df_dos.head()\n",
    "\n",
    "\"\"\"\n",
    "3. Reemplazo simple de valores faltantes\n",
    "\n",
    "🗃️ Dataset: PENGUINS\n",
    "🗒️ Enunciado: Reemplaza los valores nulos en la columna bill_length_mm con la media de esa misma columna.\n",
    "✍️ Resultado esperado: columna sin valores nulos en bill_length_mm.\n",
    "\n",
    "\"\"\"\n",
    "## ✔️ Solución\n",
    "df_tres = pl.read_csv(\"../datasets/penguins.csv\",separator=\",\")\n",
    "# df_tres.head()\n",
    "# df_tres[\"bill_length_mm\"].null_count() ## ➡️ Cantidad Nulos: 2\n",
    "media_bill_length_mm = df_tres[\"bill_length_mm\"].mean().__round__(2)\n",
    "media_bill_length_mm\n",
    "df_tres = df_tres.with_columns(\n",
    "    pl.col(\"bill_length_mm\").fill_null(media_bill_length_mm).alias(\"bill_length_mm\")\n",
    ")\n",
    "# df_tres.head()\n",
    "df_tres[\"bill_length_mm\"].null_count() ## ➡️ Cantidad Nulos: 0"
   ]
  },
  {
   "cell_type": "code",
   "execution_count": null,
   "id": "3fcb8311",
   "metadata": {},
   "outputs": [],
   "source": []
  }
 ],
 "metadata": {
  "kernelspec": {
   "display_name": "venv",
   "language": "python",
   "name": "python3"
  },
  "language_info": {
   "codemirror_mode": {
    "name": "ipython",
    "version": 3
   },
   "file_extension": ".py",
   "mimetype": "text/x-python",
   "name": "python",
   "nbconvert_exporter": "python",
   "pygments_lexer": "ipython3",
   "version": "3.11.5"
  }
 },
 "nbformat": 4,
 "nbformat_minor": 5
}
