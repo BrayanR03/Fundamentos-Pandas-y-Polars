{
 "cells": [
  {
   "cell_type": "markdown",
   "id": "06b6c68b",
   "metadata": {},
   "source": [
    "## 📘 Domina tus datos con Pandas: Fundamentos esenciales para todo Analista 🐼"
   ]
  },
  {
   "cell_type": "markdown",
   "id": "aa693c21",
   "metadata": {},
   "source": [
    "---\n",
    "\n",
    "👨‍💻 Autor: Brayan Neciosup  \n",
    "📍 Portafolio: [brayanneciosup](https://bryanneciosup626.wixsite.com/brayandataanalitics)  \n",
    "🔗 LinkedIn: [linkedin.com/brayanneciosup](https://www.linkedin.com/in/brayan-rafael-neciosup-bola%C3%B1os-407a59246/)  \n",
    "💻 GitHub: [github.com/BrayanR03](https://github.com/BrayanR03)  \n",
    "📚 Serie: Fundamentos de Pandas y Polars\n"
   ]
  },
  {
   "cell_type": "code",
   "execution_count": 11,
   "id": "9e010b26",
   "metadata": {},
   "outputs": [],
   "source": [
    "# Instalar librería: pip install pandas\n",
    "# Importamos la librería\n",
    "import pandas as pd"
   ]
  },
  {
   "cell_type": "markdown",
   "id": "f2527fce",
   "metadata": {},
   "source": [
    "### 📌 Series en Pandas: El poder de una columna con alma de array"
   ]
  },
  {
   "cell_type": "markdown",
   "id": "5e395b30",
   "metadata": {},
   "source": [
    "#### ✅ DEFINICIÓN DE UNA SERIE EN PANDAS 🐼"
   ]
  },
  {
   "cell_type": "markdown",
   "id": "7f77bad3",
   "metadata": {},
   "source": [
    "Sintaxis: \n",
    "\n",
    "serie=pd.Series(elementos_serie,index=IndicesPreviamenteDefinidos) ⬅️ El parámetro \"index\", es opcional!.\n",
    "\n",
    "**Importante: Al definir los indices para las series establecidas, debemos tener la misma cantidad de elementos \n",
    "              para el indice y para la información. En caso, no establezcamos la propiedad index=,\n",
    "              Pandas mostrará para el indice de los datos una serie de números basado en la cantidad de datos (empezando en 0)."
   ]
  },
  {
   "cell_type": "code",
   "execution_count": null,
   "id": "40585620",
   "metadata": {},
   "outputs": [
    {
     "name": "stdout",
     "output_type": "stream",
     "text": [
      "==== SERIE 1 - ÍNDICES ESTABLECIDOS:\n",
      "A    1\n",
      "B    2\n",
      "C    3\n",
      "D    4\n",
      "E    5\n",
      "dtype: int64\n",
      "==== SERIE 1 - ÍNDICES NO ESTABLECIDOS\n",
      "0    1\n",
      "1    2\n",
      "2    3\n",
      "3    4\n",
      "4    5\n",
      "dtype: int64\n",
      "==== SERIE 1 - ÍNDICES NO ESTABLECIDOS\n",
      "0       1\n",
      "1     2.5\n",
      "2       3\n",
      "3    Hola\n",
      "4    True\n",
      "dtype: object\n"
     ]
    }
   ],
   "source": [
    "# Serie - Ejemplo 1 (Con índices establecidos):\n",
    "data_1=[1,2,3,4,5]\n",
    "serie_1=pd.Series(data=data_1,index=[\"A\",\"B\",\"C\",\"D\",\"E\"]) \n",
    "print(\"==== SERIE 1 - ÍNDICES ESTABLECIDOS:\")\n",
    "print(serie_1)\n",
    "# Serie - Ejemplo 2 (Sin índices establecidos):\n",
    "data_2=[1,2,3,4,5]\n",
    "serie_2=pd.Series(data=data_2)\n",
    "print(\"==== SERIE 1 - ÍNDICES NO ESTABLECIDOS\") \n",
    "print(serie_2)\n",
    "# Serie - Ejemplo 3 (Diversos tipos de datos en la Serie):\n",
    "data_2=[1,2.5,3,\"Hola\",True]\n",
    "serie_2=pd.Series(data=data_2)\n",
    "print(\"==== SERIE 1 - ÍNDICES NO ESTABLECIDOS\") \n",
    "print(serie_2)"
   ]
  },
  {
   "cell_type": "markdown",
   "id": "3c13a5c3",
   "metadata": {},
   "source": [
    "#### ✅ Operaciones con Series en Pandas"
   ]
  },
  {
   "cell_type": "code",
   "execution_count": 14,
   "id": "149d87ec",
   "metadata": {},
   "outputs": [
    {
     "data": {
      "text/plain": [
       "0    10\n",
       "1    15\n",
       "2    35\n",
       "3     2\n",
       "4    82\n",
       "5    15\n",
       "6    13\n",
       "dtype: int64"
      ]
     },
     "execution_count": 14,
     "metadata": {},
     "output_type": "execute_result"
    }
   ],
   "source": [
    "serie_example = pd.Series(data=[10,15,35,2,82,15,13]) # ⬅️ Trabajaré sin índices en esta serie de ejemplo\n",
    "serie_example"
   ]
  },
  {
   "cell_type": "code",
   "execution_count": 15,
   "id": "98853582",
   "metadata": {},
   "outputs": [
    {
     "name": "stdout",
     "output_type": "stream",
     "text": [
      "15\n"
     ]
    }
   ],
   "source": [
    "# a). Obtener un valor por el índice establecido\n",
    "print(serie_example[5]) # ⬅️ Accedemos el elemento del índice 5\n",
    "\n"
   ]
  },
  {
   "cell_type": "code",
   "execution_count": 16,
   "id": "586f77e7",
   "metadata": {},
   "outputs": [
    {
     "name": "stdout",
     "output_type": "stream",
     "text": [
      "2    35\n",
      "4    82\n",
      "dtype: int64\n"
     ]
    }
   ],
   "source": [
    "# b). Filtrar valores: Para realizar el filtrado debemos llamar a la serie y luego entre [] llamar a la serie y aplicar la condicion.\n",
    "# Sintaxis: print(nombre_serie[nombre_serie + condición]) ⬅️ condiciones usando operadores lógicos: > | < | = | >= | <= | !=\n",
    "# Ejemplo : \n",
    "print(serie_example[serie_example>18]) # ( Valores de la serie mayores a 18 )\n"
   ]
  },
  {
   "cell_type": "code",
   "execution_count": 17,
   "id": "3f691426",
   "metadata": {},
   "outputs": [
    {
     "name": "stdout",
     "output_type": "stream",
     "text": [
      "0    20\n",
      "1    25\n",
      "2    45\n",
      "3    12\n",
      "4    92\n",
      "5    25\n",
      "6    23\n",
      "dtype: int64\n"
     ]
    }
   ],
   "source": [
    "# c). Realizar operaciones aritméticas básicas:\n",
    "# Sintaxis: print(nombre_serie + | - | * | / | Valor)\n",
    "# Ejemplo : \n",
    "print(serie_example + 10) # ⬅️ Aumentar +10 cada elemento de la serie"
   ]
  },
  {
   "cell_type": "code",
   "execution_count": 29,
   "id": "ed34b919",
   "metadata": {},
   "outputs": [
    {
     "name": "stdout",
     "output_type": "stream",
     "text": [
      "========== SERIE 1\n",
      "0     10\n",
      "1     15\n",
      "2    100\n",
      "3      2\n",
      "4    100\n",
      "5     15\n",
      "6     13\n",
      "dtype: int64\n",
      "========== SERIE 2\n",
      "0     10\n",
      "1     15\n",
      "2    100\n",
      "3      2\n",
      "4    100\n",
      "5     15\n",
      "6     13\n",
      "dtype: int64\n",
      "========== SERIE 3\n",
      "0     10\n",
      "1     15\n",
      "2    100\n",
      "3      2\n",
      "4    100\n",
      "5     15\n",
      "6     13\n",
      "dtype: int64\n"
     ]
    }
   ],
   "source": [
    "# d). Reemplazar valores por condiciones (.mask(), .where(), .apply())\n",
    "# 💡Objetivo: Reemplazamos valores mayores a 30, por 100.\n",
    "# Sintaxis: \n",
    "\n",
    "# serie = nombre_serie.mask(condición_serie,valor_reemplazar) # ⬅️ Usando .mask() (llamamos a la serie y reemplaza donde el valor es True)\n",
    "# serie = serie.where(condición_serie_inversa,valor_reemplazar_condicion) # ⬅️ Usando .where() (Funciona inversamente al requerimiento)\n",
    "# serie = serie.apply(lambda x: valor_cumple if condicion else valor_no_cumple ) # Usando .apply() mediante lambda function.\n",
    "\n",
    "# Ejemplo:\n",
    "\n",
    "serie_1 = serie_example.mask(serie_example>30,100) # ⬅️ Usando .mask() (llamamos a la serie y condicionamos los valores mayor a 100)\n",
    "print(\"========== SERIE 1\")\n",
    "print(serie_1)\n",
    "serie_2 = serie_example.where(serie_example<30,100) # Usando .where() Los valores menor a 30 no cambian, los demás sí (100).\n",
    "print(\"========== SERIE 2\")\n",
    "print(serie_2)\n",
    "serie_3 = serie_example.apply(lambda x: 100 if x>30 else x ) # Usando .apply() El x, es cada elemento de la serie y se evalua.\n",
    "print(\"========== SERIE 3\")\n",
    "print(serie_3)"
   ]
  }
 ],
 "metadata": {
  "kernelspec": {
   "display_name": "venv",
   "language": "python",
   "name": "python3"
  },
  "language_info": {
   "codemirror_mode": {
    "name": "ipython",
    "version": 3
   },
   "file_extension": ".py",
   "mimetype": "text/x-python",
   "name": "python",
   "nbconvert_exporter": "python",
   "pygments_lexer": "ipython3",
   "version": "3.11.5"
  }
 },
 "nbformat": 4,
 "nbformat_minor": 5
}
