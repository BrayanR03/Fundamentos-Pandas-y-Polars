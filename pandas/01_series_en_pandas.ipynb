{
 "cells": [
  {
   "cell_type": "markdown",
   "id": "06b6c68b",
   "metadata": {},
   "source": [
    "## 📘 Domina tus datos con Pandas: Fundamentos esenciales para todo Analista 🐼"
   ]
  },
  {
   "cell_type": "markdown",
   "id": "aa693c21",
   "metadata": {},
   "source": [
    "---\n",
    "\n",
    "👨‍💻 Autor: Brayan Neciosup  \n",
    "📍 Portafolio: [brayanneciosup](https://bryanneciosup626.wixsite.com/brayandataanalitics)  \n",
    "🔗 LinkedIn: [linkedin.com/brayanneciosup](https://www.linkedin.com/in/brayan-rafael-neciosup-bola%C3%B1os-407a59246/)  \n",
    "💻 GitHub: [github.com/BrayanR03](https://github.com/BrayanR03)  \n",
    "📚 Serie: Fundamentos de Pandas y Polars\n"
   ]
  },
  {
   "cell_type": "code",
   "execution_count": 32,
   "id": "9e010b26",
   "metadata": {},
   "outputs": [],
   "source": [
    "# Instalar librería: pip install pandas\n",
    "# Importamos la librería\n",
    "import pandas as pd"
   ]
  },
  {
   "cell_type": "markdown",
   "id": "f2527fce",
   "metadata": {},
   "source": [
    "### 📌 Series en Pandas: El poder de una columna con alma de array"
   ]
  },
  {
   "cell_type": "markdown",
   "id": "5e395b30",
   "metadata": {},
   "source": [
    "#### ✅ DEFINICIÓN DE UNA SERIE EN PANDAS 🐼"
   ]
  },
  {
   "cell_type": "markdown",
   "id": "7f77bad3",
   "metadata": {},
   "source": [
    "Sintaxis: \n",
    "\n",
    "serie=pd.Series(elementos_serie,index=IndicesPreviamenteDefinidos) ⬅️ El parámetro \"index\", es opcional!.\n",
    "\n",
    "**Importante: Al definir los indices para las series establecidas, debemos tener la misma cantidad de elementos \n",
    "              para el indice y para la información. En caso, no establezcamos la propiedad index=,\n",
    "              Pandas mostrará para el indice de los datos una serie de números basado en la cantidad de datos (empezando en 0)."
   ]
  },
  {
   "cell_type": "code",
   "execution_count": null,
   "id": "40585620",
   "metadata": {},
   "outputs": [
    {
     "name": "stdout",
     "output_type": "stream",
     "text": [
      "==== SERIE 1 - ÍNDICES ESTABLECIDOS:\n",
      "A    1\n",
      "B    2\n",
      "C    3\n",
      "D    4\n",
      "E    5\n",
      "dtype: int64\n",
      "==== SERIE 1 - ÍNDICES NO ESTABLECIDOS\n",
      "0    1\n",
      "1    2\n",
      "2    3\n",
      "3    4\n",
      "4    5\n",
      "dtype: int64\n",
      "==== SERIE 1 - ÍNDICES NO ESTABLECIDOS\n",
      "0       1\n",
      "1     2.5\n",
      "2       3\n",
      "3    Hola\n",
      "4    True\n",
      "dtype: object\n"
     ]
    }
   ],
   "source": [
    "# Serie - Ejemplo 1 (Con índices establecidos):\n",
    "data_1=[1,2,3,4,5]\n",
    "serie_1=pd.Series(data=data_1,index=[\"A\",\"B\",\"C\",\"D\",\"E\"]) \n",
    "print(\"==== SERIE 1 - ÍNDICES ESTABLECIDOS:\")\n",
    "print(serie_1)\n",
    "# Serie - Ejemplo 2 (Sin índices establecidos):\n",
    "data_2=[1,2,3,4,5]\n",
    "serie_2=pd.Series(data=data_2)\n",
    "print(\"==== SERIE 1 - ÍNDICES NO ESTABLECIDOS\") \n",
    "print(serie_2)\n",
    "# Serie - Ejemplo 3 (Diversos tipos de datos en la Serie):\n",
    "data_2=[1,2.5,3,\"Hola\",True]\n",
    "serie_2=pd.Series(data=data_2)\n",
    "print(\"==== SERIE 1 - ÍNDICES NO ESTABLECIDOS\") \n",
    "print(serie_2)"
   ]
  },
  {
   "cell_type": "markdown",
   "id": "3c13a5c3",
   "metadata": {},
   "source": [
    "#### ✅ OPERACIONES CON SERIES EN PANDAS 🐼"
   ]
  },
  {
   "cell_type": "code",
   "execution_count": 14,
   "id": "149d87ec",
   "metadata": {},
   "outputs": [
    {
     "data": {
      "text/plain": [
       "0    10\n",
       "1    15\n",
       "2    35\n",
       "3     2\n",
       "4    82\n",
       "5    15\n",
       "6    13\n",
       "dtype: int64"
      ]
     },
     "execution_count": 14,
     "metadata": {},
     "output_type": "execute_result"
    }
   ],
   "source": [
    "serie_example = pd.Series(data=[10,15,35,2,82,15,13]) # ⬅️ Trabajaré sin índices en esta serie de ejemplo\n",
    "serie_example"
   ]
  },
  {
   "cell_type": "code",
   "execution_count": 15,
   "id": "98853582",
   "metadata": {},
   "outputs": [
    {
     "name": "stdout",
     "output_type": "stream",
     "text": [
      "15\n"
     ]
    }
   ],
   "source": [
    "# a). Obtener un valor por el índice establecido\n",
    "print(serie_example[5]) # ⬅️ Accedemos el elemento del índice 5\n",
    "\n"
   ]
  },
  {
   "cell_type": "code",
   "execution_count": 16,
   "id": "586f77e7",
   "metadata": {},
   "outputs": [
    {
     "name": "stdout",
     "output_type": "stream",
     "text": [
      "2    35\n",
      "4    82\n",
      "dtype: int64\n"
     ]
    }
   ],
   "source": [
    "# b). Filtrar valores: Para realizar el filtrado debemos llamar a la serie y luego entre [] llamar a la serie y aplicar la condicion.\n",
    "# Sintaxis: print(nombre_serie[nombre_serie + condición]) ⬅️ condiciones usando operadores lógicos: > | < | = | >= | <= | !=\n",
    "# Ejemplo : \n",
    "print(serie_example[serie_example>18]) # ( Valores de la serie mayores a 18 )\n"
   ]
  },
  {
   "cell_type": "code",
   "execution_count": 17,
   "id": "3f691426",
   "metadata": {},
   "outputs": [
    {
     "name": "stdout",
     "output_type": "stream",
     "text": [
      "0    20\n",
      "1    25\n",
      "2    45\n",
      "3    12\n",
      "4    92\n",
      "5    25\n",
      "6    23\n",
      "dtype: int64\n"
     ]
    }
   ],
   "source": [
    "# c). Realizar operaciones aritméticas básicas:\n",
    "# Sintaxis: print(nombre_serie + | - | * | / | Valor)\n",
    "# Ejemplo : \n",
    "print(serie_example + 10) # ⬅️ Aumentar +10 cada elemento de la serie"
   ]
  },
  {
   "cell_type": "code",
   "execution_count": 29,
   "id": "ed34b919",
   "metadata": {},
   "outputs": [
    {
     "name": "stdout",
     "output_type": "stream",
     "text": [
      "========== SERIE 1\n",
      "0     10\n",
      "1     15\n",
      "2    100\n",
      "3      2\n",
      "4    100\n",
      "5     15\n",
      "6     13\n",
      "dtype: int64\n",
      "========== SERIE 2\n",
      "0     10\n",
      "1     15\n",
      "2    100\n",
      "3      2\n",
      "4    100\n",
      "5     15\n",
      "6     13\n",
      "dtype: int64\n",
      "========== SERIE 3\n",
      "0     10\n",
      "1     15\n",
      "2    100\n",
      "3      2\n",
      "4    100\n",
      "5     15\n",
      "6     13\n",
      "dtype: int64\n"
     ]
    }
   ],
   "source": [
    "# d). Reemplazar valores por condiciones (.mask(), .where(), .apply())\n",
    "# 💡Objetivo: Reemplazamos valores mayores a 30, por 100.\n",
    "# Sintaxis: \n",
    "\n",
    "# serie = nombre_serie.mask(condición_serie,valor_reemplazar) # ⬅️ Usando .mask() (llamamos a la serie y reemplaza donde el valor es True)\n",
    "# serie = serie.where(condición_serie_inversa,valor_reemplazar_condicion) # ⬅️ Usando .where() (Funciona inversamente al requerimiento)\n",
    "# serie = serie.apply(lambda x: valor_cumple if condicion else valor_no_cumple ) # Usando .apply() mediante lambda function.\n",
    "\n",
    "# Ejemplo:\n",
    "\n",
    "serie_1 = serie_example.mask(serie_example>30,100) # ⬅️ Usando .mask() (llamamos a la serie y condicionamos los valores mayor a 100)\n",
    "print(\"========== SERIE 1\")\n",
    "print(serie_1)\n",
    "serie_2 = serie_example.where(serie_example<30,100) # Usando .where() Los valores menor a 30 no cambian, los demás sí (100).\n",
    "print(\"========== SERIE 2\")\n",
    "print(serie_2)\n",
    "serie_3 = serie_example.apply(lambda x: 100 if x>30 else x ) # Usando .apply() El x, es cada elemento de la serie y se evalua.\n",
    "print(\"========== SERIE 3\")\n",
    "print(serie_3)"
   ]
  },
  {
   "cell_type": "markdown",
   "id": "e1013537",
   "metadata": {},
   "source": [
    "### 📌 Dataframes en Pandas: ..."
   ]
  },
  {
   "cell_type": "markdown",
   "id": "c15b3d68",
   "metadata": {},
   "source": [
    "#### ✅ DEFINICIÓN DE UN DATAFRAME EN PANDAS 🐼"
   ]
  },
  {
   "cell_type": "markdown",
   "id": "3f762b8b",
   "metadata": {},
   "source": [
    "Son estructuras de datos bidimensionales, que permiten almacenar información en forma de una matriz (FilasxColumnas),\n",
    "las cuáles, deben estar de acorde al tipo de dato definido en la columna. Además, es una de las estructuras de datos\n",
    "más utilizadas en Análisis, Ingeniería y Ciencia de datos debido que permite la manipulación de información.\n",
    "\n",
    "SINTAXIS:\n",
    "\n",
    "        dataframe_nombre = pd.DataFrame(data=DatosDataframe,columns=NombreColumnasPreviamenteDefinidas,index=[Opcional])\n",
    "\n",
    "        data: Información que contedrá el dataframe\n",
    "        columns: Las columas que presentará el dataframe\n",
    "        index: Indices opcionales que podemos asignarle"
   ]
  },
  {
   "cell_type": "code",
   "execution_count": null,
   "id": "cc21543e",
   "metadata": {},
   "outputs": [
    {
     "data": {
      "text/html": [
       "<div>\n",
       "<style scoped>\n",
       "    .dataframe tbody tr th:only-of-type {\n",
       "        vertical-align: middle;\n",
       "    }\n",
       "\n",
       "    .dataframe tbody tr th {\n",
       "        vertical-align: top;\n",
       "    }\n",
       "\n",
       "    .dataframe thead th {\n",
       "        text-align: right;\n",
       "    }\n",
       "</style>\n",
       "<table border=\"1\" class=\"dataframe\">\n",
       "  <thead>\n",
       "    <tr style=\"text-align: right;\">\n",
       "      <th></th>\n",
       "      <th>Nombre</th>\n",
       "      <th>Edad</th>\n",
       "      <th>Nota</th>\n",
       "    </tr>\n",
       "  </thead>\n",
       "  <tbody>\n",
       "    <tr>\n",
       "      <th>0</th>\n",
       "      <td>Brayan</td>\n",
       "      <td>25</td>\n",
       "      <td>15</td>\n",
       "    </tr>\n",
       "    <tr>\n",
       "      <th>1</th>\n",
       "      <td>Rafael</td>\n",
       "      <td>27</td>\n",
       "      <td>10</td>\n",
       "    </tr>\n",
       "    <tr>\n",
       "      <th>2</th>\n",
       "      <td>Pepito</td>\n",
       "      <td>20</td>\n",
       "      <td>16</td>\n",
       "    </tr>\n",
       "  </tbody>\n",
       "</table>\n",
       "</div>"
      ],
      "text/plain": [
       "   Nombre  Edad  Nota\n",
       "0  Brayan    25    15\n",
       "1  Rafael    27    10\n",
       "2  Pepito    20    16"
      ]
     },
     "execution_count": 4,
     "metadata": {},
     "output_type": "execute_result"
    }
   ],
   "source": [
    "# DEFINIR UN DATAFRAME MEDIANTE UN DICCIONARIO\n",
    "\"\"\"\n",
    "📝 Nota: Si queremos definir un dataframe desde un diccionario, las claves del diccionario se convertirán\n",
    "         en las columnas del dataframe y los valores serán la información almacenada bidireccionalmente\n",
    "         por cada columna del dataframe.\n",
    "\"\"\"\n",
    "diccionario_example = {\n",
    "    \"Nombre\":[\"Brayan\",\"Rafael\",\"Pepito\"],\n",
    "    \"Edad\": [25,27,20],\n",
    "    \"Nota\":[15,10,16]\n",
    "}\n",
    "dict_to_df = pd.DataFrame(diccionario_example)\n",
    "dict_to_df.head() # ⬅️ Función básica que permite ver los 5 primeros registros de un dataframe. \n"
   ]
  },
  {
   "cell_type": "code",
   "execution_count": null,
   "id": "d53e6779",
   "metadata": {},
   "outputs": [
    {
     "data": {
      "text/html": [
       "<div>\n",
       "<style scoped>\n",
       "    .dataframe tbody tr th:only-of-type {\n",
       "        vertical-align: middle;\n",
       "    }\n",
       "\n",
       "    .dataframe tbody tr th {\n",
       "        vertical-align: top;\n",
       "    }\n",
       "\n",
       "    .dataframe thead th {\n",
       "        text-align: right;\n",
       "    }\n",
       "</style>\n",
       "<table border=\"1\" class=\"dataframe\">\n",
       "  <thead>\n",
       "    <tr style=\"text-align: right;\">\n",
       "      <th></th>\n",
       "      <th>Nombre</th>\n",
       "      <th>Edad</th>\n",
       "      <th>Nota</th>\n",
       "    </tr>\n",
       "  </thead>\n",
       "  <tbody>\n",
       "    <tr>\n",
       "      <th>0</th>\n",
       "      <td>Brayan</td>\n",
       "      <td>15</td>\n",
       "      <td>NaN</td>\n",
       "    </tr>\n",
       "    <tr>\n",
       "      <th>1</th>\n",
       "      <td>Rafael</td>\n",
       "      <td>10</td>\n",
       "      <td>15.0</td>\n",
       "    </tr>\n",
       "    <tr>\n",
       "      <th>2</th>\n",
       "      <td>Pepito</td>\n",
       "      <td>20</td>\n",
       "      <td>NaN</td>\n",
       "    </tr>\n",
       "  </tbody>\n",
       "</table>\n",
       "</div>"
      ],
      "text/plain": [
       "   Nombre  Edad  Nota\n",
       "0  Brayan    15   NaN\n",
       "1  Rafael    10  15.0\n",
       "2  Pepito    20   NaN"
      ]
     },
     "execution_count": 19,
     "metadata": {},
     "output_type": "execute_result"
    }
   ],
   "source": [
    "# DEFINIR UN DATAFRAME DESDE CERO\n",
    "dataframe = pd.DataFrame(data=[[\"Brayan\",25,15],[\"Rafael\",27,10],[\"Pepito\",20,16]],\n",
    "                         columns=[\"Nombre\",\"Edad\",\"Nota\"]) # ⬅️ Sin establecer índice\n",
    "# dataframe.head()\n",
    "dataframe_indice = pd.DataFrame(data=[[\"Brayan\",25,15],[\"Rafael\",27,10],[\"Pepito\",20,16]],\n",
    "                                columns=[\"Nombre\",\"Edad\",\"Nota\"],index=[\"A\",\"B\",\"C\"]) #⬅️ Estableciendo índice\n",
    "# dataframe_indice.head()\n",
    "\n",
    "\"\"\"\n",
    "💡 Importante: Al definir las columnas para el Dataframe debemos tener en cuenta que\n",
    "               si un solo registro tiene la misma cantidad de elementos de acuerdo a la cantidad de columnas,\n",
    "               por defecto, se asignará el valor NaN a los valores faltantes. Caso contrario, si genera error,\n",
    "               porque ninguna de sus filas, tiene la misma cantidad de elementos que la de sus columnas.\n",
    "               Por otro lado, la propiedad index en los dataframe será opcional y si es llamada \n",
    "               se realizará lo mismo que en las series.\n",
    "\"\"\"\n",
    "\n",
    "dataframe_valores_faltantes = pd.DataFrame(data=[[\"Brayan\",15],[\"Rafael\",10,15],[\"Pepito\",20]],\n",
    "                                columns=[\"Nombre\",\"Edad\",\"Nota\"])\n",
    "dataframe_valores_faltantes.head() # ✅ Los valores faltantes se vuelven NaN sin generar error.\n",
    "\n",
    "\n",
    "# dataframe_valores_faltantes = pd.DataFrame(data=[[\"Brayan\",15],[\"Rafael\",15],[\"Pepito\",20]],\n",
    "#                                 columns=[\"Nombre\",\"Edad\",\"Nota\"])\n",
    "# dataframe_valores_faltantes.head() # ❌ Genera error porque los datos solo tiene 2 elementos y el dataframe presenta 3 columnas.\n"
   ]
  },
  {
   "cell_type": "code",
   "execution_count": null,
   "id": "ba81c9d5",
   "metadata": {},
   "outputs": [
    {
     "data": {
      "text/html": [
       "<div>\n",
       "<style scoped>\n",
       "    .dataframe tbody tr th:only-of-type {\n",
       "        vertical-align: middle;\n",
       "    }\n",
       "\n",
       "    .dataframe tbody tr th {\n",
       "        vertical-align: top;\n",
       "    }\n",
       "\n",
       "    .dataframe thead th {\n",
       "        text-align: right;\n",
       "    }\n",
       "</style>\n",
       "<table border=\"1\" class=\"dataframe\">\n",
       "  <thead>\n",
       "    <tr style=\"text-align: right;\">\n",
       "      <th></th>\n",
       "      <th>ColumnaEdad</th>\n",
       "      <th>ColumnaObjeto</th>\n",
       "      <th>ColumnaError</th>\n",
       "    </tr>\n",
       "  </thead>\n",
       "  <tbody>\n",
       "    <tr>\n",
       "      <th>0</th>\n",
       "      <td>10</td>\n",
       "      <td>Brayan</td>\n",
       "      <td>23</td>\n",
       "    </tr>\n",
       "    <tr>\n",
       "      <th>1</th>\n",
       "      <td>16</td>\n",
       "      <td>15</td>\n",
       "      <td>True</td>\n",
       "    </tr>\n",
       "    <tr>\n",
       "      <th>2</th>\n",
       "      <td>18</td>\n",
       "      <td>45.5</td>\n",
       "      <td>None</td>\n",
       "    </tr>\n",
       "    <tr>\n",
       "      <th>3</th>\n",
       "      <td>20</td>\n",
       "      <td>10</td>\n",
       "      <td>None</td>\n",
       "    </tr>\n",
       "  </tbody>\n",
       "</table>\n",
       "</div>"
      ],
      "text/plain": [
       "   ColumnaEdad ColumnaObjeto ColumnaError\n",
       "0           10        Brayan           23\n",
       "1           16            15         True\n",
       "2           18          45.5         None\n",
       "3           20            10         None"
      ]
     },
     "execution_count": 29,
     "metadata": {},
     "output_type": "execute_result"
    }
   ],
   "source": [
    "# DEFINIR UN DATAFRAME COLUMNA POR COLUMNA\n",
    "\n",
    "dataframe_columna_a_columna = pd.DataFrame() # ⬅️ Inicializamos un dataframe vacío (Así como cuando inicializamos un objeto vacío en programación)\n",
    "# dataframe_columna_a_columna.head()\n",
    "\n",
    "\"\"\"\n",
    "    📝Nota: Para definir una nueva columna en un dataframe, debemos llamar al dataframe y\n",
    "            entre corchetes [\"NombreColumna\"] definimos la columna. Asimismo, cada columna que\n",
    "            se crea, Pandas internamente le asigna un tipo de dato (int,float,bool,etc), sin embargo,\n",
    "            si se definen diferentes tipos de datos Pandas asigna un tipo objeto.\n",
    "\"\"\"\n",
    "\n",
    "dataframe_columna_a_columna[\"ColumnaEdad\"] = [10,16,18,20] \n",
    "dataframe_columna_a_columna[\"ColumnaObjeto\"] = [\"Brayan\",15,45.5,10]\n",
    "# dataframe_columna_a_columna.head()\n",
    "\n",
    "\"\"\"\n",
    "    💡Importante: Al definir columna por columna un dataframe en Pandas debemos si o sí colocar\n",
    "                  la misma cantidad de datos entre cada columna.                  \n",
    "\"\"\"\n",
    "# dataframe_columna_a_columna[\"ColumnaError\"] = [23,True] # ❌ Esto genera un error.\n",
    "# dataframe_columna_a_columna.head() \n"
   ]
  },
  {
   "cell_type": "markdown",
   "id": "9d0e35c6",
   "metadata": {},
   "source": [
    "#### ✅ OPERACIONES CON DATAFRAMES EN PANDAS 🐼"
   ]
  },
  {
   "cell_type": "code",
   "execution_count": 64,
   "id": "e7407755",
   "metadata": {},
   "outputs": [
    {
     "data": {
      "text/html": [
       "<div>\n",
       "<style scoped>\n",
       "    .dataframe tbody tr th:only-of-type {\n",
       "        vertical-align: middle;\n",
       "    }\n",
       "\n",
       "    .dataframe tbody tr th {\n",
       "        vertical-align: top;\n",
       "    }\n",
       "\n",
       "    .dataframe thead th {\n",
       "        text-align: right;\n",
       "    }\n",
       "</style>\n",
       "<table border=\"1\" class=\"dataframe\">\n",
       "  <thead>\n",
       "    <tr style=\"text-align: right;\">\n",
       "      <th></th>\n",
       "      <th>Nombre</th>\n",
       "      <th>Edad</th>\n",
       "      <th>Nota</th>\n",
       "    </tr>\n",
       "  </thead>\n",
       "  <tbody>\n",
       "    <tr>\n",
       "      <th>0</th>\n",
       "      <td>BRAYAN</td>\n",
       "      <td>15</td>\n",
       "      <td>13</td>\n",
       "    </tr>\n",
       "    <tr>\n",
       "      <th>1</th>\n",
       "      <td>RAFAEL</td>\n",
       "      <td>25</td>\n",
       "      <td>19</td>\n",
       "    </tr>\n",
       "    <tr>\n",
       "      <th>2</th>\n",
       "      <td>PEPITO</td>\n",
       "      <td>20</td>\n",
       "      <td>10</td>\n",
       "    </tr>\n",
       "  </tbody>\n",
       "</table>\n",
       "</div>"
      ],
      "text/plain": [
       "   Nombre  Edad  Nota\n",
       "0  BRAYAN    15    13\n",
       "1  RAFAEL    25    19\n",
       "2  PEPITO    20    10"
      ]
     },
     "execution_count": 64,
     "metadata": {},
     "output_type": "execute_result"
    }
   ],
   "source": [
    "df_example = pd.DataFrame(data=[[\"BRAYAN\",15,13],[\"RAFAEL\",25,19],[\"PEPITO\",20,10]],\n",
    "                          columns=[\"Nombre\",\"Edad\",\"Nota\"])\n",
    "df_example.head()"
   ]
  },
  {
   "cell_type": "code",
   "execution_count": 70,
   "id": "ee571a58",
   "metadata": {},
   "outputs": [
    {
     "data": {
      "text/html": [
       "<div>\n",
       "<style scoped>\n",
       "    .dataframe tbody tr th:only-of-type {\n",
       "        vertical-align: middle;\n",
       "    }\n",
       "\n",
       "    .dataframe tbody tr th {\n",
       "        vertical-align: top;\n",
       "    }\n",
       "\n",
       "    .dataframe thead th {\n",
       "        text-align: right;\n",
       "    }\n",
       "</style>\n",
       "<table border=\"1\" class=\"dataframe\">\n",
       "  <thead>\n",
       "    <tr style=\"text-align: right;\">\n",
       "      <th></th>\n",
       "      <th>Nota</th>\n",
       "      <th>Nombre</th>\n",
       "    </tr>\n",
       "  </thead>\n",
       "  <tbody>\n",
       "    <tr>\n",
       "      <th>0</th>\n",
       "      <td>13</td>\n",
       "      <td>BRAYAN</td>\n",
       "    </tr>\n",
       "    <tr>\n",
       "      <th>1</th>\n",
       "      <td>19</td>\n",
       "      <td>RAFAEL</td>\n",
       "    </tr>\n",
       "    <tr>\n",
       "      <th>2</th>\n",
       "      <td>10</td>\n",
       "      <td>PEPITO</td>\n",
       "    </tr>\n",
       "  </tbody>\n",
       "</table>\n",
       "</div>"
      ],
      "text/plain": [
       "   Nota  Nombre\n",
       "0    13  BRAYAN\n",
       "1    19  RAFAEL\n",
       "2    10  PEPITO"
      ]
     },
     "execution_count": 70,
     "metadata": {},
     "output_type": "execute_result"
    }
   ],
   "source": [
    "# A). OBTENER EL VALOR O VALORES DE LA COLUMNA DE UN DATAFRAME MEDIANTE SU NOMBRE.\n",
    "\n",
    "\"\"\"\n",
    "    📝 SINTAXIS: \n",
    "    \n",
    "        dataframe_nombre[NombreColumna] ⬅️ Llamamos al dataframe directamente o\n",
    "        print(dataframe_nombre[NombreColumna]) ⬅️ Usamos print()\n",
    "        \n",
    "        **Importante: Cuando llamamos con solo un par de corchetes \"[]\", muestra los resultados,\n",
    "                      pero, si llamamos con dos pares de corchetes \"[[]]\" traerá el nombre de la columna.\n",
    "                      \n",
    "        ### 🧠 Tengamos en cuenta que podemos almacenar el resultado de estas operaciones en variables. \n",
    "\"\"\"\n",
    "# 💡 EJEMPLO 1: Usando un par de corchetes \"[]\"\n",
    "# df_example[\"Nota\"]\n",
    "# print(df_example[[\"Nota\"]])\n",
    "\n",
    "# 💡 EJEMPLO 2: Usando dos pares de corchetes \"[[]]\"\n",
    "# print(df_example[[\"Nota\"]])\n",
    "# df_example[[\"Nota\"]]\n",
    "\n",
    "# 💡 EJEMPLO 3: Obtener valores de varias columnas\n",
    "df_example[[\"Nota\",\"Nombre\"]]"
   ]
  },
  {
   "cell_type": "code",
   "execution_count": null,
   "id": "8e9379f2",
   "metadata": {},
   "outputs": [
    {
     "name": "stdout",
     "output_type": "stream",
     "text": [
      "Nombre    PEPITO\n",
      "Edad          20\n",
      "Nota          10\n",
      "Name: 2, dtype: object\n"
     ]
    }
   ],
   "source": [
    "# B). OBTENER UNA FILA DE VALORES ESPECÍFICAS DEL DATAFRAME\n",
    "\n",
    "\"\"\"\n",
    "    📝 SINTAXIS:\n",
    "    \n",
    "        dataframe_nombre.iloc[NumeroIndice] ⬅️ Recordemos que el indice empieza en 0.\n",
    "        \n",
    "        ### 🧠 Tengamos en cuenta que podemos almacenar el resultado de estas operaciones en variables.\n",
    "\"\"\"\n",
    "\n",
    "# 💡 EJEMPLO 1: NÚMERO DE ÍNDICE CORRECTO ✅ \n",
    "# df_example.iloc[2] # ⬅️ Número de indice: 2.\n",
    "print(df_example.iloc[2]) # ⬅️ Número de indice: 2.\n",
    "\n",
    "## 💡 EJEMPLO 2: NÚMERO DE ÍNDICE INCORRECTO ❌ \n",
    "\n",
    "## df_example.iloc[3] # ⬅️ Número de indice: 3.\n",
    "## print(df_example.iloc[3]) # ⬅️ Número de indice: 3.  \n",
    "## ❌ Error: Índice fuera de los límites"
   ]
  },
  {
   "cell_type": "code",
   "execution_count": null,
   "id": "4df6de90",
   "metadata": {},
   "outputs": [
    {
     "name": "stdout",
     "output_type": "stream",
     "text": [
      "19\n"
     ]
    }
   ],
   "source": [
    "# C). OBTENER UN VALOR ESPECÍFICO DE UN REGISTRO, BASADO EN SU NÚMERO DE ÍNDICE\n",
    "#     Y EL NOMBRE DE UNA COLUMNA.\n",
    "\"\"\"\n",
    "    📝 SINTAXIS: \n",
    "    \n",
    "        dataframe_nombre.loc[NumeroIndice,NombreColumna] ⬅️ Establecemos 2 parámetros en .loc[]\n",
    "        \n",
    "        ### 🧠 Tengamos en cuenta que podemos almacenar el resultado de estas operaciones en variables.\n",
    "\"\"\"\n",
    "# 💡 EJEMPLO: \n",
    "# df_example.loc[1,\"Nota\"] # ⬅️ Accedemos a la fila con índice 1 y la columna de nombre Nota.\n",
    "print(df_example.loc[1,\"Nota\"]) # ⬅️ Accedemos a la fila con índice 1 y la columna de nombre Nota."
   ]
  },
  {
   "cell_type": "code",
   "execution_count": null,
   "id": "1f89ba3a",
   "metadata": {},
   "outputs": [
    {
     "data": {
      "text/html": [
       "<div>\n",
       "<style scoped>\n",
       "    .dataframe tbody tr th:only-of-type {\n",
       "        vertical-align: middle;\n",
       "    }\n",
       "\n",
       "    .dataframe tbody tr th {\n",
       "        vertical-align: top;\n",
       "    }\n",
       "\n",
       "    .dataframe thead th {\n",
       "        text-align: right;\n",
       "    }\n",
       "</style>\n",
       "<table border=\"1\" class=\"dataframe\">\n",
       "  <thead>\n",
       "    <tr style=\"text-align: right;\">\n",
       "      <th></th>\n",
       "      <th>Nombre</th>\n",
       "      <th>Edad</th>\n",
       "      <th>Nota</th>\n",
       "    </tr>\n",
       "  </thead>\n",
       "  <tbody>\n",
       "    <tr>\n",
       "      <th>1</th>\n",
       "      <td>RAFAEL</td>\n",
       "      <td>25</td>\n",
       "      <td>19</td>\n",
       "    </tr>\n",
       "    <tr>\n",
       "      <th>2</th>\n",
       "      <td>PEPITO</td>\n",
       "      <td>20</td>\n",
       "      <td>10</td>\n",
       "    </tr>\n",
       "  </tbody>\n",
       "</table>\n",
       "</div>"
      ],
      "text/plain": [
       "   Nombre  Edad  Nota\n",
       "1  RAFAEL    25    19\n",
       "2  PEPITO    20    10"
      ]
     },
     "execution_count": 39,
     "metadata": {},
     "output_type": "execute_result"
    }
   ],
   "source": [
    "# D). FILTRAR VALORES EN UN DATAFRAME:\n",
    "\n",
    "\"\"\" \n",
    "    Para realizar el filtro de valores debemos de llamar al Dataframe \n",
    "    y luego entre corchetes volver a llamar al Dataframe y una\n",
    "    columna específica con una condición a evaluar.\n",
    "    \n",
    "     📝 SINTAXIS:\n",
    "     \n",
    "        dataframe_nombre[dataframe_nombre[NombreColumna] + condición] ⬅️ La condición pueden ser mediante operadores lógicos\n",
    "                                                                         pero, respetando el requerimiento a filtrar.\n",
    "                                                                         \n",
    "        condiciones = ( > || < || >= || <= || != ) ⬅️ Operadores lógicos \n",
    "        \n",
    "        ### 🧠 Tengamos en cuenta que podemos almacenar el resultado de estas operaciones en variables.\n",
    "\"\"\"\n",
    "# 💡 EJEMPLO 1: USANDO OPERADORES LÓGICOS (EN UNA COLUMNA)\n",
    "\n",
    "# df_example[df_example[\"Nota\"]>15] # ⬅️ Notas mayores a 15\n",
    "# df_example[df_example[\"Nombre\"]!='RAFAEL'] # ⬅️ Todos los nombre diferentes a RAFAEL\n",
    "\n",
    "\n",
    "# 💡 EJEMPLO 2: USANDO OPERADORES LÓGICOS (EN MÁS DE UNA COLUMNA)\n",
    "\n",
    "# df_example[(df_example[\"Edad\"]==20) & (df_example[\"Nota\"]==10)] # ⬅️ Edad igual a 20 y Nota 10. (2 columnas)\n",
    "### ➡️ Cada condición de filtro, la debemos separar mediante paréntesis ().\n",
    "\n",
    "\n",
    "\"\"\" \n",
    "    También podemos usar el método .query() para realizar filtrados en una sola linea,\n",
    "    llamando directamente a las columnas dentro de las comillas simples ''. Sin embargo,\n",
    "    si requerimos filtrar en columnas tipo String, el valor debe estar dentro de comillas dobles \"\".\n",
    "    \n",
    "    ### 🧠 Tengamos en cuenta que podemos almacenar el resultado de estas operaciones en variables.\n",
    "    \n",
    "    📝 SINTAXIS:\n",
    "    \n",
    "        dataframe_filtrado = dataframe_nombre.query('NombreColumna1 + condición1 and|or NombreColumna2 + condición2 ') ⬅️ Utilizamos and y or\n",
    "\"\"\"\n",
    "\n",
    "# 💡 EJEMPLO 3:\n",
    "\n",
    "# df_filtrado = df_example.query('Nombre==\"RAFAEL\" and Nota==19') # Filtrando por dos columnas (Usamos and)\n",
    "# df_filtrado.head()\n",
    "\n",
    "# 💡 EJEMPLO 4:\n",
    "\n",
    "df_filtrado = df_example.query('Edad==20 or Nota==19') # Filtrando por dos columnas (Usamos or)\n",
    "df_filtrado.head()"
   ]
  },
  {
   "cell_type": "code",
   "execution_count": 65,
   "id": "b36a3a7d",
   "metadata": {},
   "outputs": [
    {
     "data": {
      "text/html": [
       "<div>\n",
       "<style scoped>\n",
       "    .dataframe tbody tr th:only-of-type {\n",
       "        vertical-align: middle;\n",
       "    }\n",
       "\n",
       "    .dataframe tbody tr th {\n",
       "        vertical-align: top;\n",
       "    }\n",
       "\n",
       "    .dataframe thead th {\n",
       "        text-align: right;\n",
       "    }\n",
       "</style>\n",
       "<table border=\"1\" class=\"dataframe\">\n",
       "  <thead>\n",
       "    <tr style=\"text-align: right;\">\n",
       "      <th></th>\n",
       "      <th>Nombre</th>\n",
       "      <th>Edad</th>\n",
       "      <th>Nota</th>\n",
       "      <th>Puntaje</th>\n",
       "      <th>Ranking</th>\n",
       "    </tr>\n",
       "  </thead>\n",
       "  <tbody>\n",
       "    <tr>\n",
       "      <th>0</th>\n",
       "      <td>BRAYAN</td>\n",
       "      <td>15</td>\n",
       "      <td>13</td>\n",
       "      <td>1</td>\n",
       "      <td>13</td>\n",
       "    </tr>\n",
       "    <tr>\n",
       "      <th>1</th>\n",
       "      <td>RAFAEL</td>\n",
       "      <td>25</td>\n",
       "      <td>19</td>\n",
       "      <td>2</td>\n",
       "      <td>38</td>\n",
       "    </tr>\n",
       "    <tr>\n",
       "      <th>2</th>\n",
       "      <td>PEPITO</td>\n",
       "      <td>20</td>\n",
       "      <td>10</td>\n",
       "      <td>3</td>\n",
       "      <td>30</td>\n",
       "    </tr>\n",
       "  </tbody>\n",
       "</table>\n",
       "</div>"
      ],
      "text/plain": [
       "   Nombre  Edad  Nota  Puntaje  Ranking\n",
       "0  BRAYAN    15    13        1       13\n",
       "1  RAFAEL    25    19        2       38\n",
       "2  PEPITO    20    10        3       30"
      ]
     },
     "execution_count": 65,
     "metadata": {},
     "output_type": "execute_result"
    }
   ],
   "source": [
    "# E). AGREGAR UNA O VARIAS COLUMNAS AL DATAFRAME:\n",
    "\n",
    "\"\"\"\n",
    "    La o las columnas agregadas al dataframe son el resultado de nueva información\n",
    "    o de cálculos realizados entre las columnas existentes del dataframe.\n",
    "    \n",
    "    📝 SINTAXIS:\n",
    "\n",
    "        dataframe_nombre[\"NuevaColumna\"] = [NuevaInformacion] || dataframe_nombre[\"NombreColumna1\"] + 10\n",
    "        \n",
    "    ### 🧠 Tengamos en cuenta que podemos almacenar el resultado de estas operaciones en variables.\n",
    "\"\"\"\n",
    "\n",
    "# 💡 EJERCICIO 1: NUEVA COLUMNA CON INFORMACIÓN\n",
    "\n",
    "df_example[\"Puntaje\"] = [1,2,3] # ⬅️ Recodemos que para esta forma de agregar información\n",
    "                                #    debe contener la misma cantidad de datos que \n",
    "                                #    el total de registros.\n",
    "# df_example.head()\n",
    "\n",
    "# 💡 EJERCICIO 2: NUEVA COLUMNA CALCULADA\n",
    "\n",
    "df_example[\"Ranking\"] = df_example[\"Nota\"] * df_example[\"Puntaje\"] # ⬅️ Recordemos que debemos acceder \n",
    "                                                                   #    a las columnas a través de los corchetes [].\n",
    "df_example.head()"
   ]
  },
  {
   "cell_type": "code",
   "execution_count": null,
   "id": "0f8a648b",
   "metadata": {},
   "outputs": [
    {
     "data": {
      "text/html": [
       "<div>\n",
       "<style scoped>\n",
       "    .dataframe tbody tr th:only-of-type {\n",
       "        vertical-align: middle;\n",
       "    }\n",
       "\n",
       "    .dataframe tbody tr th {\n",
       "        vertical-align: top;\n",
       "    }\n",
       "\n",
       "    .dataframe thead th {\n",
       "        text-align: right;\n",
       "    }\n",
       "</style>\n",
       "<table border=\"1\" class=\"dataframe\">\n",
       "  <thead>\n",
       "    <tr style=\"text-align: right;\">\n",
       "      <th></th>\n",
       "      <th>Nombre</th>\n",
       "      <th>Edad</th>\n",
       "      <th>Nota</th>\n",
       "      <th>Puntaje</th>\n",
       "    </tr>\n",
       "  </thead>\n",
       "  <tbody>\n",
       "    <tr>\n",
       "      <th>0</th>\n",
       "      <td>BRAYAN</td>\n",
       "      <td>15</td>\n",
       "      <td>13</td>\n",
       "      <td>1</td>\n",
       "    </tr>\n",
       "    <tr>\n",
       "      <th>1</th>\n",
       "      <td>RAFAEL</td>\n",
       "      <td>25</td>\n",
       "      <td>19</td>\n",
       "      <td>2</td>\n",
       "    </tr>\n",
       "    <tr>\n",
       "      <th>2</th>\n",
       "      <td>PEPITO</td>\n",
       "      <td>20</td>\n",
       "      <td>10</td>\n",
       "      <td>3</td>\n",
       "    </tr>\n",
       "  </tbody>\n",
       "</table>\n",
       "</div>"
      ],
      "text/plain": [
       "   Nombre  Edad  Nota  Puntaje\n",
       "0  BRAYAN    15    13        1\n",
       "1  RAFAEL    25    19        2\n",
       "2  PEPITO    20    10        3"
      ]
     },
     "execution_count": 53,
     "metadata": {},
     "output_type": "execute_result"
    }
   ],
   "source": [
    "# F). ELIMINAR COLUMNAS DEL DATAFRAME:\n",
    "\n",
    "\"\"\"\n",
    "    📝 SINTAXIS:\n",
    "    \n",
    "        dataframe_nombre.drop(columns=[\"NombreDeColumnaEliminar\"], inplace=True | False)\n",
    "        \n",
    "    💡 Importante: Al llamar a la propiedad inplace y establecer el valor en True, eliminamos\n",
    "                   la columna del dataframe original. Sin embargo, al no llamar al parámetros\n",
    "                   inplace o llamarlo pero estableciendo un valor false, Pandas devuelve una\n",
    "                   copia del Dataframe sin las columnas eliminadas.\n",
    "\n",
    "    ### 🧠 En este caso, si eliminamos directamente en el dataframe, no hay necesidad\n",
    "    ###     de almacenarlo en una variable, pero, si en caso requeramos, realizaremos una copia\n",
    "    ###     del dataframe original y eliminamos la columna.\n",
    "\"\"\"\n",
    "\n",
    "# 💡 EJEMPLO 1:\n",
    "# df_example.drop(columns=\"Ranking\",inplace=True) # ⬅️ Establecemos True en inplace ✅\n",
    "# df_example.head() # ⬅️ Verificamos que si se elimino correctamente la columna\n",
    "\n",
    "### 💡 EJEMPLO 2:\n",
    "### df_example.drop(columns=\"Ranking\",inplace=False) # ⬅️ Establecemos False en inplace ❌\n",
    "### df_example.head() # ⬅️ Verificamos que NO SE ELIMINÓ correctamente la columna ❌\n",
    "\n",
    "# 💡 EJEMPLO 3:\n",
    "df_copia = df_example.copy() # ⬅️ Método .copy() que permite copiar el dataframe a otra variable.\n",
    "df_copia.drop(columns=\"Ranking\",inplace=True) # ⬅️ Establecemos True en inplace ✅\n",
    "df_copia.head() # ⬅️ Verificamos que si se elimino correctamente la columna\n"
   ]
  },
  {
   "cell_type": "code",
   "execution_count": null,
   "id": "87f21573",
   "metadata": {},
   "outputs": [
    {
     "data": {
      "text/html": [
       "<div>\n",
       "<style scoped>\n",
       "    .dataframe tbody tr th:only-of-type {\n",
       "        vertical-align: middle;\n",
       "    }\n",
       "\n",
       "    .dataframe tbody tr th {\n",
       "        vertical-align: top;\n",
       "    }\n",
       "\n",
       "    .dataframe thead th {\n",
       "        text-align: right;\n",
       "    }\n",
       "</style>\n",
       "<table border=\"1\" class=\"dataframe\">\n",
       "  <thead>\n",
       "    <tr style=\"text-align: right;\">\n",
       "      <th></th>\n",
       "      <th>Nombre</th>\n",
       "      <th>Edad</th>\n",
       "      <th>Nota</th>\n",
       "      <th>Puntaje</th>\n",
       "      <th>Ranking</th>\n",
       "    </tr>\n",
       "  </thead>\n",
       "  <tbody>\n",
       "    <tr>\n",
       "      <th>0</th>\n",
       "      <td>BRAYAN</td>\n",
       "      <td>15</td>\n",
       "      <td>13</td>\n",
       "      <td>1</td>\n",
       "      <td>13</td>\n",
       "    </tr>\n",
       "    <tr>\n",
       "      <th>2</th>\n",
       "      <td>PEPITO</td>\n",
       "      <td>20</td>\n",
       "      <td>10</td>\n",
       "      <td>3</td>\n",
       "      <td>30</td>\n",
       "    </tr>\n",
       "    <tr>\n",
       "      <th>1</th>\n",
       "      <td>RAFAEL</td>\n",
       "      <td>25</td>\n",
       "      <td>19</td>\n",
       "      <td>2</td>\n",
       "      <td>38</td>\n",
       "    </tr>\n",
       "  </tbody>\n",
       "</table>\n",
       "</div>"
      ],
      "text/plain": [
       "   Nombre  Edad  Nota  Puntaje  Ranking\n",
       "0  BRAYAN    15    13        1       13\n",
       "2  PEPITO    20    10        3       30\n",
       "1  RAFAEL    25    19        2       38"
      ]
     },
     "execution_count": 69,
     "metadata": {},
     "output_type": "execute_result"
    }
   ],
   "source": [
    "# G). ORDERNAR LOS DATOS DEL DATAFRAME POR UNA O VARIAS COLUMNAS\n",
    "\n",
    "\"\"\"\n",
    "    📝 SINTAXIS: \n",
    "\n",
    "        dataframe_nombre.sort_values(by='ColumnaAOrdenar',ascending= True | False) ⬅️ Ordenamos por los nombres de columnas\n",
    "        \n",
    "    💡 Importante: Al establecer el valor de ascending en True, los datos se ordenan\n",
    "                   de menor a mayor por la columna que especifiquemos. Sin embargo, sino \n",
    "                   llamamos a la propiedad ascending o por el contrario, se establece el valor en False,\n",
    "                   los datos se ordenan de mayor a menor.\n",
    "                   \n",
    "        ### 🧠 Tengamos en cuenta que podemos almacenar el resultado de estas operaciones en variables.\n",
    "\"\"\"\n",
    "# 💡 EJEMPLO 1: ➡️ Ordenamos Alfabéticamente (A-Z)\n",
    "\n",
    "# df_example.sort_values(by=\"Nombre\",ascending=True).head()\n",
    "\n",
    "# 💡 EJEMPLO 2: ➡️ Ordenamos Alfabéticamente (Z-A)\n",
    "\n",
    "# df_example.sort_values(by=\"Nombre\",ascending=False).head()\n",
    "\n",
    "# 💡 EJEMPLO 3: ➡️ Ordenamos por columna Numérica (De mayor a menor)\n",
    "\n",
    "# df_example.sort_values(by=\"Edad\",ascending=False).head()\n",
    "\n",
    "# 💡 EJEMPLO 4: ➡️ Ordenamos por columna Numérica (De menor a mayor)\n",
    "\n",
    "df_example.sort_values(by=\"Edad\",ascending=True).head()\n"
   ]
  },
  {
   "cell_type": "markdown",
   "id": "1a8aca97",
   "metadata": {},
   "source": [
    "#### ✅ RANGO INTERQUARTIL EN PANDAS 🐼"
   ]
  },
  {
   "cell_type": "markdown",
   "id": "59c2d12e",
   "metadata": {},
   "source": [
    "El rango interquartil (IQR) es una métrica estadística utilizada para identificar valores atípicos en un conjunto de datos. Su uso es esencial en procesos de limpieza y validación, debido que permite evaluar la integridad del dataset al detectar registros que se desvían significativamente del comportamiento general. En proyectos de Machine Learning, una correcta identificación de outliers a través del IQR permite mejorar la calidad de los datos de entrada, lo que impacta directamente en el rendimiento y generalización de los modelos. Para perfiles como Data Analysts y Data Engineers, el IQR se convierte en una herramienta clave en la etapa de preprocesamiento de datos."
   ]
  },
  {
   "cell_type": "code",
   "execution_count": null,
   "id": "16253348",
   "metadata": {},
   "outputs": [
    {
     "name": "stdout",
     "output_type": "stream",
     "text": [
      "Cantidad de datos inicial: 891\n",
      "Cantidad de datos atípicos: 116\n",
      "Cantidad de datos normales: 775\n"
     ]
    }
   ],
   "source": [
    "# ESTADÍSTICA BÁSICA EN PANDAS: Mediante la función .describe()\n",
    "\"\"\"\n",
    "    📝 SINTAXIS:\n",
    "    \n",
    "        dataframe_nombre.describe() ⬅️ Esta función devuelve: cantidad_valores||media||desviación_estándar||\n",
    "                                                               valor_mínimo||valor_máximo||quartil_(1,2,3) ⬅️ Quartiles con.desribe()\n",
    "    \n",
    "    ### 💡 Importante: Esta función solo devuelve para las columnas con datos numéricos. También,\n",
    "    ###                 para poder realizar calculos del IQR (Rango Interquartil), podemos calcular\n",
    "    ###                 los quartiles mediante Numpy y su función np.percentile().\n",
    "    \n",
    "        ### Instalar Numpy: pip install numpy\n",
    "        ### Importar Numpy: import numpy as np\n",
    "\"\"\"\n",
    "\"\"\" ✅ PARA LOS EJEMPLOS DE IQR, USAREMOS UN DATASET DE LA CARPETA datasets: titanic.csv\"\"\"\n",
    "\n",
    "df_titanic = pd.read_csv(\"../datasets/titanic.csv\",sep=\",\") # ⬅️ Lo explicaremos en próximos temas\n",
    "# df_titanic.head()\n",
    "\n",
    "# 💡 EJEMPLO 1 : \n",
    "\n",
    "# df_titanic.describe() # ⬅️ Verificamos las estadísticas básicas descriptivas del dataset\n",
    "\n",
    "\"\"\" \n",
    "    QUARTILES:\n",
    "\n",
    "    Los quartiles hacen referencia a las partes iguales divididas en 4 de todo el conjunto de datos.\n",
    "    Q1 (25% de los datos) - Q2 (50% de los datos) - Q3 (75% de los datos) y Q4 (100% de los datos).\n",
    "    \n",
    "    📝 SINTAXIS:\n",
    "\n",
    "    valor_quartil = np.percentile(ColumnaDeDataframeOSerie,CantidadCuartil)\n",
    "    \n",
    "    ### 🧠 Para los valores atípico solo usaremos los quartiles 1 y 3.\n",
    "\"\"\"\n",
    "\n",
    "# 💡 EJEMPLO 2: RANGO INTERQUARTIL (Columna \"fare\")\n",
    "import numpy as np\n",
    "\n",
    "q1_fare = np.percentile(df_titanic[\"fare\"],25) # Percentil o Quartil 1\n",
    "q3_fare = np.percentile(df_titanic[\"fare\"],75) # Percentil o Quartil 3\n",
    "\n",
    "range_iqr_body = q3_fare - q1_fare # Cálculo del rango interquartil \n",
    "\n",
    "# Límite inferior\n",
    "lower_bound_fare  = q1_fare - 1.5 * range_iqr_body # Formula para hallar valores no atípicos, es decir, valores normales.\n",
    "# Límite superior\n",
    "upper_bound_fare  = q3_fare + 1.5 * range_iqr_body # Formula para hallar valores atípicos, es decir, valores no normales.\n",
    "\n",
    "df_titanic_atipicos = df_titanic[(df_titanic[\"fare\"]<lower_bound_fare) | (df_titanic[\"fare\"]>upper_bound_fare)]\n",
    "# df_titanic_atipicos.head()\n",
    "\n",
    "df_titanic_normales = df_titanic[(df_titanic[\"fare\"]>=lower_bound_fare) & (df_titanic[\"fare\"]<=upper_bound_fare)]\n",
    "# df_titanic_normales.head()\n",
    "\n",
    "print(f\"Cantidad de datos inicial: {df_titanic.shape[0]}\")\n",
    "print(f\"Cantidad de datos atípicos: {df_titanic_atipicos.shape[0]}\")\n",
    "print(f\"Cantidad de datos normales: {df_titanic_normales.shape[0]}\")"
   ]
  },
  {
   "cell_type": "markdown",
   "id": "0d0fb859",
   "metadata": {},
   "source": [
    "#### ✅ MANIPULACIÓN DE DATOS EN PANDAS 🐼"
   ]
  },
  {
   "cell_type": "markdown",
   "id": "83ecbb9a",
   "metadata": {},
   "source": [
    "La manipulación de datos, también conocida como data wrangling, es una fase \n",
    "fundamental en todo proyecto de análisis de datos. Consiste en transformar \n",
    "un dataset crudo, es decir, datos en su forma original, posiblemente desordenada o\n",
    "incompleta en un formato estructurado y útil, como un DataFrame."
   ]
  },
  {
   "cell_type": "markdown",
   "id": "8f1305bf",
   "metadata": {},
   "source": [
    "##### Fase 1. Fuentes de Datos 🗃️"
   ]
  },
  {
   "cell_type": "markdown",
   "id": "3392b0dd",
   "metadata": {},
   "source": [
    "\"\"\"\n",
    "    Pandas 🐼 permite leer datos desde múltiples fuentes como archivos CSV, Excel, JSON, \n",
    "    bases de datos SQL, entre otros formatos comunes. Esta flexibilidad facilita el trabajo\n",
    "    con datasets provenientes de distintos orígenes, tanto locales como remotos.\n",
    "\"\"\""
   ]
  },
  {
   "cell_type": "code",
   "execution_count": 29,
   "id": "573ef63d",
   "metadata": {},
   "outputs": [
    {
     "name": "stdout",
     "output_type": "stream",
     "text": [
      "['penguins.csv', 'titanic.csv']\n"
     ]
    }
   ],
   "source": [
    "# Paso A). DEFINIR LA CARPETA ORIGEN DE DONDE PROVIENE NUESTROS DATASETS (LOCAL)\n",
    "\"\"\"\n",
    "    📝 SINTAXIS: \n",
    "        \n",
    "        carpeta_origen = \"RutaCarpetaOrigen\"\n",
    "    \n",
    "    ### 🧠 Va a depender en que entorno nos encontremos porque las rutas \n",
    "    ###     de carpetas pueden ser (\\) o (/).\n",
    "\"\"\"\n",
    "# 💡 EJEMPLO 1 (Ruta completa):\n",
    "\n",
    "# carpeta_origen = \"C:/Users/USER/Documents/FundamentosPandasPolars/datasets\" \n",
    "\n",
    "# print(carpeta_origen)\n",
    "\n",
    "# 💡 EJEMPLO 2 (Ruta relativa):\n",
    "\n",
    "carpeta_origen = f\"../datasets/\"\n",
    "# print(carpeta_origen)\n",
    "import os # ⬅️ Permite trabajar con archivos\n",
    "print(os.listdir(carpeta_origen)) # ⬅️ Mostrar los archivos de la carpeta"
   ]
  },
  {
   "cell_type": "code",
   "execution_count": 30,
   "id": "4941afde",
   "metadata": {},
   "outputs": [],
   "source": [
    "# Paso B). DEFINIR EL NOMBRE DEL ARCHIVO DEL DATASET\n",
    "\"\"\"\n",
    "    📝 SINTAXIS:\n",
    "    \n",
    "        nombre_archivo = \"NombreArchivo.extension\"\n",
    "\n",
    "    ### 🧠 Dependerá de la extensión del archivo para indicarle a Pandas que función utilizar.\n",
    "\"\"\"\n",
    "# 💡 EJEMPLO 1 (.csv): \n",
    "archivos_csv = \"penguins.csv\"\n",
    "\n",
    "# 💡 EJEMPLO 2 (.xlsx): \n",
    "archivos_xlsx = \"Pedidos.xlsx\"\n",
    "\n",
    "# 💡 EJEMPLO 3 (.json): \n",
    "archivos_json = \"eventos_logs.json\"\n"
   ]
  },
  {
   "cell_type": "code",
   "execution_count": null,
   "id": "10f13e07",
   "metadata": {},
   "outputs": [
    {
     "data": {
      "text/html": [
       "<div>\n",
       "<style scoped>\n",
       "    .dataframe tbody tr th:only-of-type {\n",
       "        vertical-align: middle;\n",
       "    }\n",
       "\n",
       "    .dataframe tbody tr th {\n",
       "        vertical-align: top;\n",
       "    }\n",
       "\n",
       "    .dataframe thead th {\n",
       "        text-align: right;\n",
       "    }\n",
       "</style>\n",
       "<table border=\"1\" class=\"dataframe\">\n",
       "  <thead>\n",
       "    <tr style=\"text-align: right;\">\n",
       "      <th></th>\n",
       "      <th>evento.usuario_id</th>\n",
       "      <th>evento.accion</th>\n",
       "      <th>evento.timestamp</th>\n",
       "    </tr>\n",
       "  </thead>\n",
       "  <tbody>\n",
       "    <tr>\n",
       "      <th>0</th>\n",
       "      <td>U846</td>\n",
       "      <td>compra</td>\n",
       "      <td>2025-05-25T21:07:47.202219Z</td>\n",
       "    </tr>\n",
       "    <tr>\n",
       "      <th>1</th>\n",
       "      <td>U321</td>\n",
       "      <td>registro</td>\n",
       "      <td>2025-05-23T11:50:47.202219Z</td>\n",
       "    </tr>\n",
       "    <tr>\n",
       "      <th>2</th>\n",
       "      <td>U813</td>\n",
       "      <td>login</td>\n",
       "      <td>2025-05-25T19:09:47.202219Z</td>\n",
       "    </tr>\n",
       "    <tr>\n",
       "      <th>3</th>\n",
       "      <td>U677</td>\n",
       "      <td>registro</td>\n",
       "      <td>2025-05-27T09:41:47.202219Z</td>\n",
       "    </tr>\n",
       "    <tr>\n",
       "      <th>4</th>\n",
       "      <td>U425</td>\n",
       "      <td>compra</td>\n",
       "      <td>2025-05-23T14:44:47.202219Z</td>\n",
       "    </tr>\n",
       "  </tbody>\n",
       "</table>\n",
       "</div>"
      ],
      "text/plain": [
       "  evento.usuario_id evento.accion             evento.timestamp\n",
       "0              U846        compra  2025-05-25T21:07:47.202219Z\n",
       "1              U321      registro  2025-05-23T11:50:47.202219Z\n",
       "2              U813         login  2025-05-25T19:09:47.202219Z\n",
       "3              U677      registro  2025-05-27T09:41:47.202219Z\n",
       "4              U425        compra  2025-05-23T14:44:47.202219Z"
      ]
     },
     "execution_count": 55,
     "metadata": {},
     "output_type": "execute_result"
    }
   ],
   "source": [
    "# Paso C). LECTURA DE LOS ARCHIVOS (PASO A + PASO B)\n",
    "\"\"\"\n",
    "    ### 🧠 Para los archivos .csv, se recomienda conocer el separador o\n",
    "    ###     delimitador presente en el archivo e indicarle a Pandas.\n",
    "\n",
    "    📝 SINTAXIS:\n",
    "    \n",
    "        dataset_nombre = pd.read_extensión(carpeta_origen+nombre_archivo.extensión)\n",
    "\"\"\"\n",
    "import pandas as pd # ✅ No olvidar importar pandas al inicio del notebook\n",
    "\n",
    "# 💡 EJEMPLO 1 (Lectura de .csv): \n",
    "\n",
    "dataset_csv = pd.read_csv(carpeta_origen+archivos_csv,sep=\",\") # ⬅️ Indicamos el delimitador en sep.\n",
    "# dataset_csv.head() # ⬅️ Función que permite leer y retornar los 5 primeros registros del archivo.\n",
    "\"\"\"===============================================================================================\"\"\"\n",
    "# 💡 EJEMPLO 2 (Lectura de .xlsx): \n",
    "\n",
    "dataset_excel = pd.read_excel(\n",
    "                 io=carpeta_origen+archivos_xlsx,\n",
    "                 sheet_name=\"Hoja1\") # ⬅️ Indicamos el nombre de la Hoja donde se encuentra\n",
    "                                     #     la información.\n",
    "# dataset_excel.head() # ⬅️ Función que permite leer y retornar los 5 primeros registros del archivo.\n",
    "\n",
    "\"\"\" ⚠️ En caso les arroje error sobre No module named 'openpyxl\n",
    "       solo instalemos el módulo con: pip install openpyxl\n",
    "'\"\"\"\n",
    "# dataset_excel.head() # ⬅️ Función que permite leer y retornar los 5 primeros registros del archivo.\n",
    "\"\"\"===============================================================================================\"\"\"\n",
    "# 💡 EJEMPLO 3 (Lectura de .json):\n",
    "\n",
    "### Archivo básico JSON\n",
    "archivo_json_basico = \"json_basico.json\" # ⬅️ Nombre de archivo básico JSON\n",
    "dataset_json1 = pd.read_json(carpeta_origen+archivo_json_basico) # ⬅️ Lectura de JSON básico\n",
    "# dataset_json1.head()\n",
    "\n",
    "### Archivo complejo JSON\n",
    "import json # ⬅️ Utilizaremos la librería json para el aplanamiento del Archivo JSON complejo.\n",
    "archivo_json_complejo = \"eventos_logs.json\" # ⬅️ Nombre de archivo complejo JSON\n",
    "with open(carpeta_origen + archivo_json_complejo, \"r\", encoding=\"utf-8\") as file_data:\n",
    "    data_archivo_json_complejo = json.load(file_data)\n",
    "dataset_json2 = pd.json_normalize(data_archivo_json_complejo) # ⬅️ Lectura de archivo JSON complejo.\n",
    "dataset_json2.head() # ⬅️ Función que permite leer y retornar los 5 primeros registros del archivo.\n"
   ]
  }
 ],
 "metadata": {
  "kernelspec": {
   "display_name": "venv",
   "language": "python",
   "name": "python3"
  },
  "language_info": {
   "codemirror_mode": {
    "name": "ipython",
    "version": 3
   },
   "file_extension": ".py",
   "mimetype": "text/x-python",
   "name": "python",
   "nbconvert_exporter": "python",
   "pygments_lexer": "ipython3",
   "version": "3.11.5"
  }
 },
 "nbformat": 4,
 "nbformat_minor": 5
}
