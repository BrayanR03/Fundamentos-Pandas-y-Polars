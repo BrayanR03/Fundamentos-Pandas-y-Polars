{
 "cells": [
  {
   "cell_type": "markdown",
   "id": "06b6c68b",
   "metadata": {},
   "source": [
    "## 📘 Domina tus datos con Pandas: Fundamentos esenciales para todo Analista 🐼"
   ]
  },
  {
   "cell_type": "markdown",
   "id": "aa693c21",
   "metadata": {},
   "source": [
    "---\n",
    "\n",
    "👨‍💻 Autor: Brayan Neciosup  \n",
    "📍 Portafolio: [brayanneciosup](https://bryanneciosup626.wixsite.com/brayandataanalitics)  \n",
    "🔗 LinkedIn: [linkedin.com/brayanneciosup](https://www.linkedin.com/in/brayan-rafael-neciosup-bola%C3%B1os-407a59246/)  \n",
    "💻 GitHub: [github.com/BrayanR03](https://github.com/BrayanR03)  \n",
    "📚 Serie: Fundamentos de Pandas y Polars\n"
   ]
  },
  {
   "cell_type": "code",
   "execution_count": null,
   "id": "9e010b26",
   "metadata": {},
   "outputs": [],
   "source": [
    "# Instalar librería: pip install pandas\n",
    "# Importamos la librería\n",
    "import pandas as pd"
   ]
  },
  {
   "cell_type": "markdown",
   "id": "f2527fce",
   "metadata": {},
   "source": [
    "### 📌 Series en Pandas: El poder de una columna con alma de array"
   ]
  },
  {
   "cell_type": "markdown",
   "id": "5e395b30",
   "metadata": {},
   "source": [
    "#### DEFINICIÓN DE UNA SERIE EN PANDAS 🐼"
   ]
  },
  {
   "cell_type": "markdown",
   "id": "7f77bad3",
   "metadata": {},
   "source": [
    "Sintaxis: \n",
    "\n",
    "serie=pd.Series(elementos_serie,index=IndicesPreviamenteDefinidos) ⬅️ El parámetro \"index\", es opcional!.\n",
    "\n",
    "**Importante: Al definir los indices para las series establecidas, debemos tener la misma cantidad de elementos \n",
    "              para el indice y para la información. En caso, no establezcamos la propiedad index=,\n",
    "              Pandas mostrará para el indice de los datos una serie de números basado en la cantidad de datos (empezando en 0)."
   ]
  },
  {
   "cell_type": "code",
   "execution_count": null,
   "id": "40585620",
   "metadata": {},
   "outputs": [
    {
     "name": "stdout",
     "output_type": "stream",
     "text": [
      "==== SERIE 1 - ÍNDICES ESTABLECIDOS:\n",
      "A    1\n",
      "B    2\n",
      "C    3\n",
      "D    4\n",
      "E    5\n",
      "dtype: int64\n",
      "==== SERIE 1 - ÍNDICES NO ESTABLECIDOS\n",
      "0    1\n",
      "1    2\n",
      "2    3\n",
      "3    4\n",
      "4    5\n",
      "dtype: int64\n",
      "==== SERIE 1 - ÍNDICES NO ESTABLECIDOS\n",
      "0       1\n",
      "1     2.5\n",
      "2       3\n",
      "3    Hola\n",
      "4    True\n",
      "dtype: object\n"
     ]
    }
   ],
   "source": [
    "# Serie - Ejemplo 1 (Con índices establecidos):\n",
    "data_1=[1,2,3,4,5]\n",
    "serie_1=pd.Series(data=data_1,index=[\"A\",\"B\",\"C\",\"D\",\"E\"]) \n",
    "print(\"==== SERIE 1 - ÍNDICES ESTABLECIDOS:\")\n",
    "print(serie_1)\n",
    "# Serie - Ejemplo 2 (Sin índices establecidos):\n",
    "data_2=[1,2,3,4,5]\n",
    "serie_2=pd.Series(data=data_2)\n",
    "print(\"==== SERIE 1 - ÍNDICES NO ESTABLECIDOS\") \n",
    "print(serie_2)\n",
    "# Serie - Ejemplo 3 (Diversos tipos de datos en la Serie):\n",
    "data_2=[1,2.5,3,\"Hola\",True]\n",
    "serie_2=pd.Series(data=data_2)\n",
    "print(\"==== SERIE 1 - ÍNDICES NO ESTABLECIDOS\") \n",
    "print(serie_2)"
   ]
  }
 ],
 "metadata": {
  "kernelspec": {
   "display_name": "venv",
   "language": "python",
   "name": "python3"
  },
  "language_info": {
   "codemirror_mode": {
    "name": "ipython",
    "version": 3
   },
   "file_extension": ".py",
   "mimetype": "text/x-python",
   "name": "python",
   "nbconvert_exporter": "python",
   "pygments_lexer": "ipython3",
   "version": "3.11.5"
  }
 },
 "nbformat": 4,
 "nbformat_minor": 5
}
