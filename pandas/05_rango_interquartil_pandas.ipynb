{
 "cells": [
  {
   "cell_type": "markdown",
   "id": "9189cf16",
   "metadata": {},
   "source": [
    "## 📘 Domina tus datos con Pandas: Fundamentos esenciales para todo Analista 🐼"
   ]
  },
  {
   "cell_type": "markdown",
   "id": "511d0ee1",
   "metadata": {},
   "source": [
    "---\n",
    "\n",
    "👨‍💻 Autor: Brayan Neciosup  \n",
    "📍 Portafolio: [brayanneciosup](https://bryanneciosup626.wixsite.com/brayandataanalitics)  \n",
    "🔗 LinkedIn: [linkedin.com/brayanneciosup](https://www.linkedin.com/in/brayan-rafael-neciosup-bola%C3%B1os-407a59246/)  \n",
    "💻 GitHub: [github.com/BrayanR03](https://github.com/BrayanR03)  \n",
    "📚 Serie: Fundamentos de Pandas y Polars\n"
   ]
  },
  {
   "cell_type": "code",
   "execution_count": 1,
   "id": "2f69cb91",
   "metadata": {},
   "outputs": [],
   "source": [
    "# Instalar librería: pip install pandas\n",
    "# Importamos la librería\n",
    "import pandas as pd"
   ]
  },
  {
   "cell_type": "markdown",
   "id": "4c8cad20",
   "metadata": {},
   "source": [
    "### 📌 Dataframes en Pandas: ..."
   ]
  },
  {
   "cell_type": "markdown",
   "id": "518c08be",
   "metadata": {},
   "source": [
    "#### ✅ RANGO INTERQUARTIL EN PANDAS 🐼"
   ]
  },
  {
   "cell_type": "markdown",
   "id": "8b268c1c",
   "metadata": {},
   "source": [
    "El rango interquartil (IQR) es una métrica estadística utilizada para identificar valores atípicos en un conjunto de datos. Su uso es esencial en procesos de limpieza y validación, debido que permite evaluar la integridad del dataset al detectar registros que se desvían significativamente del comportamiento general. En proyectos de Machine Learning, una correcta identificación de outliers a través del IQR permite mejorar la calidad de los datos de entrada, lo que impacta directamente en el rendimiento y generalización de los modelos. Para perfiles como Data Analysts y Data Engineers, el IQR se convierte en una herramienta clave en la etapa de preprocesamiento de datos."
   ]
  },
  {
   "cell_type": "code",
   "execution_count": 2,
   "id": "8e0f7708",
   "metadata": {},
   "outputs": [
    {
     "name": "stdout",
     "output_type": "stream",
     "text": [
      "Cantidad de datos inicial: 891\n",
      "Cantidad de datos atípicos: 116\n",
      "Cantidad de datos normales: 775\n"
     ]
    }
   ],
   "source": [
    "# ESTADÍSTICA BÁSICA EN PANDAS: Mediante la función .describe()\n",
    "\"\"\"\n",
    "    📝 SINTAXIS:\n",
    "    \n",
    "        dataframe_nombre.describe() ⬅️ Esta función devuelve: cantidad_valores||media||desviación_estándar||\n",
    "                                                               valor_mínimo||valor_máximo||quartil_(1,2,3) ⬅️ Quartiles con.desribe()\n",
    "    \n",
    "    ### 💡 Importante: Esta función solo devuelve para las columnas con datos numéricos. También,\n",
    "    ###                 para poder realizar calculos del IQR (Rango Interquartil), podemos calcular\n",
    "    ###                 los quartiles mediante Numpy y su función np.percentile().\n",
    "    \n",
    "        ### Instalar Numpy: pip install numpy\n",
    "        ### Importar Numpy: import numpy as np\n",
    "\"\"\"\n",
    "\"\"\" ✅ PARA LOS EJEMPLOS DE IQR, USAREMOS UN DATASET DE LA CARPETA datasets: titanic.csv\"\"\"\n",
    "\n",
    "df_titanic = pd.read_csv(\"../datasets/titanic.csv\",sep=\",\") # ⬅️ Lo explicaremos en próximos temas\n",
    "# df_titanic.head()\n",
    "\n",
    "# 💡 EJEMPLO 1 : \n",
    "\n",
    "# df_titanic.describe() # ⬅️ Verificamos las estadísticas básicas descriptivas del dataset\n",
    "\n",
    "\"\"\" \n",
    "    QUARTILES:\n",
    "\n",
    "    Los quartiles hacen referencia a las partes iguales divididas en 4 de todo el conjunto de datos.\n",
    "    Q1 (25% de los datos) - Q2 (50% de los datos) - Q3 (75% de los datos) y Q4 (100% de los datos).\n",
    "    \n",
    "    📝 SINTAXIS:\n",
    "\n",
    "    valor_quartil = np.percentile(ColumnaDeDataframeOSerie,CantidadCuartil)\n",
    "    \n",
    "    ### 🧠 Para los valores atípico solo usaremos los quartiles 1 y 3.\n",
    "\"\"\"\n",
    "\n",
    "# 💡 EJEMPLO 2: RANGO INTERQUARTIL (Columna \"fare\")\n",
    "import numpy as np\n",
    "\n",
    "q1_fare = np.percentile(df_titanic[\"fare\"],25) # Percentil o Quartil 1\n",
    "q3_fare = np.percentile(df_titanic[\"fare\"],75) # Percentil o Quartil 3\n",
    "\n",
    "range_iqr_body = q3_fare - q1_fare # Cálculo del rango interquartil \n",
    "\n",
    "# Límite inferior\n",
    "lower_bound_fare  = q1_fare - 1.5 * range_iqr_body # Formula para hallar valores no atípicos, es decir, valores normales.\n",
    "# Límite superior\n",
    "upper_bound_fare  = q3_fare + 1.5 * range_iqr_body # Formula para hallar valores atípicos, es decir, valores no normales.\n",
    "\n",
    "df_titanic_atipicos = df_titanic[(df_titanic[\"fare\"]<lower_bound_fare) | (df_titanic[\"fare\"]>upper_bound_fare)]\n",
    "# df_titanic_atipicos.head()\n",
    "\n",
    "df_titanic_normales = df_titanic[(df_titanic[\"fare\"]>=lower_bound_fare) & (df_titanic[\"fare\"]<=upper_bound_fare)]\n",
    "# df_titanic_normales.head()\n",
    "\n",
    "print(f\"Cantidad de datos inicial: {df_titanic.shape[0]}\")\n",
    "print(f\"Cantidad de datos atípicos: {df_titanic_atipicos.shape[0]}\")\n",
    "print(f\"Cantidad de datos normales: {df_titanic_normales.shape[0]}\")"
   ]
  }
 ],
 "metadata": {
  "kernelspec": {
   "display_name": "venv",
   "language": "python",
   "name": "python3"
  },
  "language_info": {
   "codemirror_mode": {
    "name": "ipython",
    "version": 3
   },
   "file_extension": ".py",
   "mimetype": "text/x-python",
   "name": "python",
   "nbconvert_exporter": "python",
   "pygments_lexer": "ipython3",
   "version": "3.11.5"
  }
 },
 "nbformat": 4,
 "nbformat_minor": 5
}
