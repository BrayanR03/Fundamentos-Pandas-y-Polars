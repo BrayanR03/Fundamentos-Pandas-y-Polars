{
 "cells": [
  {
   "cell_type": "markdown",
   "id": "4ef7c992",
   "metadata": {},
   "source": [
    "## 📘 Domina tus datos con Pandas: Fundamentos esenciales para todo Analista 🐼"
   ]
  },
  {
   "cell_type": "markdown",
   "id": "7c886608",
   "metadata": {},
   "source": [
    "---\n",
    "\n",
    "👨‍💻 Autor: Brayan Neciosup  \n",
    "📍 Portafolio: [brayanneciosup](https://bryanneciosup626.wixsite.com/brayandataanalitics)  \n",
    "🔗 LinkedIn: [linkedin.com/brayanneciosup](https://www.linkedin.com/in/brayan-rafael-neciosup-bola%C3%B1os-407a59246/)  \n",
    "💻 GitHub: [github.com/BrayanR03](https://github.com/BrayanR03)  \n",
    "📚 Serie: Fundamentos de Pandas y Polars\n"
   ]
  },
  {
   "cell_type": "code",
   "execution_count": 1,
   "id": "e7b82c16",
   "metadata": {},
   "outputs": [],
   "source": [
    "# Instalar librería: pip install pandas\n",
    "# Importamos la librería\n",
    "import pandas as pd"
   ]
  },
  {
   "cell_type": "markdown",
   "id": "fdc1c7da",
   "metadata": {},
   "source": [
    "### 📌 Dataframes en Pandas: ..."
   ]
  },
  {
   "cell_type": "markdown",
   "id": "e9cfb310",
   "metadata": {},
   "source": [
    "#### ✅ DEFINICIÓN DE UN DATAFRAME EN PANDAS 🐼"
   ]
  },
  {
   "cell_type": "markdown",
   "id": "3691d9c9",
   "metadata": {},
   "source": [
    "Son estructuras de datos bidimensionales, que permiten almacenar información en forma de una matriz (FilasxColumnas),\n",
    "las cuáles, deben estar de acorde al tipo de dato definido en la columna. Además, es una de las estructuras de datos\n",
    "más utilizadas en Análisis, Ingeniería y Ciencia de datos debido que permite la manipulación de información.\n",
    "\n",
    "SINTAXIS:\n",
    "\n",
    "        dataframe_nombre = pd.DataFrame(data=DatosDataframe,columns=NombreColumnasPreviamenteDefinidas,index=[Opcional])\n",
    "\n",
    "        data: Información que contedrá el dataframe\n",
    "        columns: Las columas que presentará el dataframe\n",
    "        index: Indices opcionales que podemos asignarle"
   ]
  },
  {
   "cell_type": "code",
   "execution_count": 2,
   "id": "cfdc6cb1",
   "metadata": {},
   "outputs": [
    {
     "data": {
      "text/html": [
       "<div>\n",
       "<style scoped>\n",
       "    .dataframe tbody tr th:only-of-type {\n",
       "        vertical-align: middle;\n",
       "    }\n",
       "\n",
       "    .dataframe tbody tr th {\n",
       "        vertical-align: top;\n",
       "    }\n",
       "\n",
       "    .dataframe thead th {\n",
       "        text-align: right;\n",
       "    }\n",
       "</style>\n",
       "<table border=\"1\" class=\"dataframe\">\n",
       "  <thead>\n",
       "    <tr style=\"text-align: right;\">\n",
       "      <th></th>\n",
       "      <th>Nombre</th>\n",
       "      <th>Edad</th>\n",
       "      <th>Nota</th>\n",
       "    </tr>\n",
       "  </thead>\n",
       "  <tbody>\n",
       "    <tr>\n",
       "      <th>0</th>\n",
       "      <td>Brayan</td>\n",
       "      <td>25</td>\n",
       "      <td>15</td>\n",
       "    </tr>\n",
       "    <tr>\n",
       "      <th>1</th>\n",
       "      <td>Rafael</td>\n",
       "      <td>27</td>\n",
       "      <td>10</td>\n",
       "    </tr>\n",
       "    <tr>\n",
       "      <th>2</th>\n",
       "      <td>Pepito</td>\n",
       "      <td>20</td>\n",
       "      <td>16</td>\n",
       "    </tr>\n",
       "  </tbody>\n",
       "</table>\n",
       "</div>"
      ],
      "text/plain": [
       "   Nombre  Edad  Nota\n",
       "0  Brayan    25    15\n",
       "1  Rafael    27    10\n",
       "2  Pepito    20    16"
      ]
     },
     "execution_count": 2,
     "metadata": {},
     "output_type": "execute_result"
    }
   ],
   "source": [
    "# DEFINIR UN DATAFRAME MEDIANTE UN DICCIONARIO\n",
    "\"\"\"\n",
    "📝 Nota: Si queremos definir un dataframe desde un diccionario, las claves del diccionario se convertirán\n",
    "         en las columnas del dataframe y los valores serán la información almacenada bidireccionalmente\n",
    "         por cada columna del dataframe.\n",
    "\"\"\"\n",
    "diccionario_example = {\n",
    "    \"Nombre\":[\"Brayan\",\"Rafael\",\"Pepito\"],\n",
    "    \"Edad\": [25,27,20],\n",
    "    \"Nota\":[15,10,16]\n",
    "}\n",
    "dict_to_df = pd.DataFrame(diccionario_example)\n",
    "dict_to_df.head() # ⬅️ Función básica que permite ver los 5 primeros registros de un dataframe. \n"
   ]
  },
  {
   "cell_type": "code",
   "execution_count": 3,
   "id": "3f0cc7cc",
   "metadata": {},
   "outputs": [
    {
     "data": {
      "text/html": [
       "<div>\n",
       "<style scoped>\n",
       "    .dataframe tbody tr th:only-of-type {\n",
       "        vertical-align: middle;\n",
       "    }\n",
       "\n",
       "    .dataframe tbody tr th {\n",
       "        vertical-align: top;\n",
       "    }\n",
       "\n",
       "    .dataframe thead th {\n",
       "        text-align: right;\n",
       "    }\n",
       "</style>\n",
       "<table border=\"1\" class=\"dataframe\">\n",
       "  <thead>\n",
       "    <tr style=\"text-align: right;\">\n",
       "      <th></th>\n",
       "      <th>Nombre</th>\n",
       "      <th>Edad</th>\n",
       "      <th>Nota</th>\n",
       "    </tr>\n",
       "  </thead>\n",
       "  <tbody>\n",
       "    <tr>\n",
       "      <th>0</th>\n",
       "      <td>Brayan</td>\n",
       "      <td>15</td>\n",
       "      <td>NaN</td>\n",
       "    </tr>\n",
       "    <tr>\n",
       "      <th>1</th>\n",
       "      <td>Rafael</td>\n",
       "      <td>10</td>\n",
       "      <td>15.0</td>\n",
       "    </tr>\n",
       "    <tr>\n",
       "      <th>2</th>\n",
       "      <td>Pepito</td>\n",
       "      <td>20</td>\n",
       "      <td>NaN</td>\n",
       "    </tr>\n",
       "  </tbody>\n",
       "</table>\n",
       "</div>"
      ],
      "text/plain": [
       "   Nombre  Edad  Nota\n",
       "0  Brayan    15   NaN\n",
       "1  Rafael    10  15.0\n",
       "2  Pepito    20   NaN"
      ]
     },
     "execution_count": 3,
     "metadata": {},
     "output_type": "execute_result"
    }
   ],
   "source": [
    "# DEFINIR UN DATAFRAME DESDE CERO\n",
    "dataframe = pd.DataFrame(data=[[\"Brayan\",25,15],[\"Rafael\",27,10],[\"Pepito\",20,16]],\n",
    "                         columns=[\"Nombre\",\"Edad\",\"Nota\"]) # ⬅️ Sin establecer índice\n",
    "# dataframe.head()\n",
    "dataframe_indice = pd.DataFrame(data=[[\"Brayan\",25,15],[\"Rafael\",27,10],[\"Pepito\",20,16]],\n",
    "                                columns=[\"Nombre\",\"Edad\",\"Nota\"],index=[\"A\",\"B\",\"C\"]) #⬅️ Estableciendo índice\n",
    "# dataframe_indice.head()\n",
    "\n",
    "\"\"\"\n",
    "💡 Importante: Al definir las columnas para el Dataframe debemos tener en cuenta que\n",
    "               si un solo registro tiene la misma cantidad de elementos de acuerdo a la cantidad de columnas,\n",
    "               por defecto, se asignará el valor NaN a los valores faltantes. Caso contrario, si genera error,\n",
    "               porque ninguna de sus filas, tiene la misma cantidad de elementos que la de sus columnas.\n",
    "               Por otro lado, la propiedad index en los dataframe será opcional y si es llamada \n",
    "               se realizará lo mismo que en las series.\n",
    "\"\"\"\n",
    "\n",
    "dataframe_valores_faltantes = pd.DataFrame(data=[[\"Brayan\",15],[\"Rafael\",10,15],[\"Pepito\",20]],\n",
    "                                columns=[\"Nombre\",\"Edad\",\"Nota\"])\n",
    "dataframe_valores_faltantes.head() # ✅ Los valores faltantes se vuelven NaN sin generar error.\n",
    "\n",
    "\n",
    "# dataframe_valores_faltantes = pd.DataFrame(data=[[\"Brayan\",15],[\"Rafael\",15],[\"Pepito\",20]],\n",
    "#                                 columns=[\"Nombre\",\"Edad\",\"Nota\"])\n",
    "# dataframe_valores_faltantes.head() # ❌ Genera error porque los datos solo tiene 2 elementos y el dataframe presenta 3 columnas.\n"
   ]
  },
  {
   "cell_type": "code",
   "execution_count": 8,
   "id": "ba5eabc2",
   "metadata": {},
   "outputs": [
    {
     "data": {
      "text/html": [
       "<div>\n",
       "<style scoped>\n",
       "    .dataframe tbody tr th:only-of-type {\n",
       "        vertical-align: middle;\n",
       "    }\n",
       "\n",
       "    .dataframe tbody tr th {\n",
       "        vertical-align: top;\n",
       "    }\n",
       "\n",
       "    .dataframe thead th {\n",
       "        text-align: right;\n",
       "    }\n",
       "</style>\n",
       "<table border=\"1\" class=\"dataframe\">\n",
       "  <thead>\n",
       "    <tr style=\"text-align: right;\">\n",
       "      <th></th>\n",
       "      <th>ColumnaEdad</th>\n",
       "      <th>ColumnaObjeto</th>\n",
       "    </tr>\n",
       "  </thead>\n",
       "  <tbody>\n",
       "    <tr>\n",
       "      <th>0</th>\n",
       "      <td>10</td>\n",
       "      <td>Brayan</td>\n",
       "    </tr>\n",
       "    <tr>\n",
       "      <th>1</th>\n",
       "      <td>16</td>\n",
       "      <td>15</td>\n",
       "    </tr>\n",
       "    <tr>\n",
       "      <th>2</th>\n",
       "      <td>18</td>\n",
       "      <td>45.5</td>\n",
       "    </tr>\n",
       "    <tr>\n",
       "      <th>3</th>\n",
       "      <td>20</td>\n",
       "      <td>10</td>\n",
       "    </tr>\n",
       "  </tbody>\n",
       "</table>\n",
       "</div>"
      ],
      "text/plain": [
       "   ColumnaEdad ColumnaObjeto\n",
       "0           10        Brayan\n",
       "1           16            15\n",
       "2           18          45.5\n",
       "3           20            10"
      ]
     },
     "execution_count": 8,
     "metadata": {},
     "output_type": "execute_result"
    }
   ],
   "source": [
    "# DEFINIR UN DATAFRAME COLUMNA POR COLUMNA\n",
    "\n",
    "dataframe_columna_a_columna = pd.DataFrame() # ⬅️ Inicializamos un dataframe vacío (Así como cuando inicializamos un objeto vacío en programación)\n",
    "# dataframe_columna_a_columna.head()\n",
    "\n",
    "\"\"\"\n",
    "    📝Nota: Para definir una nueva columna en un dataframe, debemos llamar al dataframe y\n",
    "            entre corchetes [\"NombreColumna\"] definimos la columna. Asimismo, cada columna que\n",
    "            se crea, Pandas internamente le asigna un tipo de dato (int,float,bool,etc), sin embargo,\n",
    "            si se definen diferentes tipos de datos Pandas asigna un tipo objeto.\n",
    "\"\"\"\n",
    "\n",
    "dataframe_columna_a_columna[\"ColumnaEdad\"] = [10,16,18,20] \n",
    "dataframe_columna_a_columna[\"ColumnaObjeto\"] = [\"Brayan\",15,45.5,10]\n",
    "dataframe_columna_a_columna.head()\n",
    "\n",
    "\"\"\"\n",
    "    💡Importante: Al definir columna por columna un dataframe en Pandas debemos si o sí colocar\n",
    "                  la misma cantidad de datos entre cada columna.                  \n",
    "\"\"\"\n",
    "# dataframe_columna_a_columna[\"ColumnaError\"] = [23,True] # ❌ Esto genera un error.\n",
    "# dataframe_columna_a_columna.head() \n"
   ]
  },
  {
   "cell_type": "code",
   "execution_count": null,
   "id": "f3243481",
   "metadata": {},
   "outputs": [],
   "source": []
  }
 ],
 "metadata": {
  "kernelspec": {
   "display_name": "venv",
   "language": "python",
   "name": "python3"
  },
  "language_info": {
   "codemirror_mode": {
    "name": "ipython",
    "version": 3
   },
   "file_extension": ".py",
   "mimetype": "text/x-python",
   "name": "python",
   "nbconvert_exporter": "python",
   "pygments_lexer": "ipython3",
   "version": "3.11.5"
  }
 },
 "nbformat": 4,
 "nbformat_minor": 5
}
