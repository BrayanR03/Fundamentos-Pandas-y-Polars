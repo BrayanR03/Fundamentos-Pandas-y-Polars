{
 "cells": [
  {
   "cell_type": "markdown",
   "id": "5cb401c5",
   "metadata": {},
   "source": [
    "## ⚡ Analítica Turbo con Polars: Fundamentos que todo Analista Moderno debe conocer 🐻‍❄️"
   ]
  },
  {
   "cell_type": "markdown",
   "id": "2ba008a1",
   "metadata": {},
   "source": [
    "---\n",
    "\n",
    "👨‍💻 Autor: Brayan Neciosup  \n",
    "📍 Portafolio: [brayanneciosup](https://bryanneciosup626.wixsite.com/brayandataanalitics)  \n",
    "🔗 LinkedIn: [linkedin.com/brayanneciosup](https://www.linkedin.com/in/brayan-rafael-neciosup-bola%C3%B1os-407a59246/)  \n",
    "💻 GitHub: [github.com/BrayanR03](https://github.com/BrayanR03)  \n",
    "📚 Serie: Fundamentos de Pandas y Polars\n"
   ]
  },
  {
   "cell_type": "code",
   "execution_count": 1,
   "id": "3c231f98",
   "metadata": {},
   "outputs": [],
   "source": [
    "# Instalar librería de polars: pip install polars\n",
    "# Importamos la librería\n",
    "import polars as pl"
   ]
  },
  {
   "cell_type": "markdown",
   "id": "80701532",
   "metadata": {},
   "source": [
    "### 📌 Manipulación de Datos en Polars: ..."
   ]
  },
  {
   "cell_type": "markdown",
   "id": "d0b3078e",
   "metadata": {},
   "source": [
    "La manipulación de datos, también conocida como data wrangling, es una fase \n",
    "fundamental en todo proyecto de análisis de datos. Consiste en transformar \n",
    "un dataset crudo, es decir, datos en su forma original, posiblemente desordenada o\n",
    "incompleta en un formato estructurado y útil, como un DataFrame."
   ]
  },
  {
   "cell_type": "markdown",
   "id": "c3be9c10",
   "metadata": {},
   "source": [
    "#### Fase 1. Fuentes de Datos 🗃️"
   ]
  },
  {
   "cell_type": "code",
   "execution_count": null,
   "id": "581dd6cb",
   "metadata": {},
   "outputs": [],
   "source": [
    "\"\"\"\n",
    "    Polars 🐻‍❄️ permite leer datos desde múltiples fuentes como archivos CSV, Excel, JSON, \n",
    "    bases de datos SQL, entre otros formatos comunes. Esta flexibilidad facilita el trabajo\n",
    "    con datasets provenientes de distintos orígenes, tanto locales como remotos de manera optimizada.\n",
    "\"\"\""
   ]
  },
  {
   "cell_type": "code",
   "execution_count": 2,
   "id": "503d90ac",
   "metadata": {},
   "outputs": [
    {
     "name": "stdout",
     "output_type": "stream",
     "text": [
      "['eventos_logs.json', 'json_basico.json', 'Pedidos.xlsx', 'penguins.csv', 'titanic.csv']\n"
     ]
    }
   ],
   "source": [
    "# Paso A). DEFINIR LA CARPETA ORIGEN DE DONDE PROVIENE NUESTROS DATASETS (LOCAL)\n",
    "\"\"\"\n",
    "    📝 SINTAXIS: \n",
    "        \n",
    "        carpeta_origen = \"RutaCarpetaOrigen\"\n",
    "    \n",
    "    ### 🧠 Va a depender en que entorno nos encontremos porque las rutas \n",
    "    ###     de carpetas pueden ser (\\) o (/).\n",
    "\"\"\"\n",
    "# 💡 EJEMPLO 1 (Ruta completa):\n",
    "\n",
    "# carpeta_origen = \"C:/Users/USER/Documents/FundamentosPandasPolars/datasets\" \n",
    "\n",
    "# print(carpeta_origen)\n",
    "\n",
    "# 💡 EJEMPLO 2 (Ruta relativa):\n",
    "\n",
    "carpeta_origen = f\"../datasets/\"\n",
    "# print(carpeta_origen)\n",
    "import os # ⬅️ Permite trabajar con archivos\n",
    "print(os.listdir(carpeta_origen)) # ⬅️ Mostrar los archivos de la carpeta"
   ]
  },
  {
   "cell_type": "code",
   "execution_count": 3,
   "id": "5d8968a9",
   "metadata": {},
   "outputs": [],
   "source": [
    "# Paso B). DEFINIR EL NOMBRE DEL ARCHIVO DEL DATASET\n",
    "\"\"\"\n",
    "    📝 SINTAXIS:\n",
    "    \n",
    "        nombre_archivo = \"NombreArchivo.extension\"\n",
    "\n",
    "    ### 🧠 Dependerá de la extensión del archivo para indicarle a Polars que función utilizar.\n",
    "\"\"\"\n",
    "# 💡 EJEMPLO 1 (.csv): \n",
    "archivos_csv = \"penguins.csv\"\n",
    "\n",
    "# 💡 EJEMPLO 2 (.xlsx): \n",
    "archivos_xlsx = \"Pedidos.xlsx\"\n",
    "\n",
    "# 💡 EJEMPLO 3 (.json): \n",
    "archivos_json = \"eventos_logs.json\"\n"
   ]
  },
  {
   "cell_type": "code",
   "execution_count": 4,
   "id": "d64c3212",
   "metadata": {},
   "outputs": [
    {
     "data": {
      "text/html": [
       "<div><style>\n",
       ".dataframe > thead > tr,\n",
       ".dataframe > tbody > tr {\n",
       "  text-align: right;\n",
       "  white-space: pre-wrap;\n",
       "}\n",
       "</style>\n",
       "<small>shape: (5, 3)</small><table border=\"1\" class=\"dataframe\"><thead><tr><th>evento.usuario_id</th><th>evento.accion</th><th>evento.timestamp</th></tr><tr><td>str</td><td>str</td><td>str</td></tr></thead><tbody><tr><td>&quot;U846&quot;</td><td>&quot;compra&quot;</td><td>&quot;2025-05-25T21:07:47.202219Z&quot;</td></tr><tr><td>&quot;U321&quot;</td><td>&quot;registro&quot;</td><td>&quot;2025-05-23T11:50:47.202219Z&quot;</td></tr><tr><td>&quot;U813&quot;</td><td>&quot;login&quot;</td><td>&quot;2025-05-25T19:09:47.202219Z&quot;</td></tr><tr><td>&quot;U677&quot;</td><td>&quot;registro&quot;</td><td>&quot;2025-05-27T09:41:47.202219Z&quot;</td></tr><tr><td>&quot;U425&quot;</td><td>&quot;compra&quot;</td><td>&quot;2025-05-23T14:44:47.202219Z&quot;</td></tr></tbody></table></div>"
      ],
      "text/plain": [
       "shape: (5, 3)\n",
       "┌───────────────────┬───────────────┬─────────────────────────────┐\n",
       "│ evento.usuario_id ┆ evento.accion ┆ evento.timestamp            │\n",
       "│ ---               ┆ ---           ┆ ---                         │\n",
       "│ str               ┆ str           ┆ str                         │\n",
       "╞═══════════════════╪═══════════════╪═════════════════════════════╡\n",
       "│ U846              ┆ compra        ┆ 2025-05-25T21:07:47.202219Z │\n",
       "│ U321              ┆ registro      ┆ 2025-05-23T11:50:47.202219Z │\n",
       "│ U813              ┆ login         ┆ 2025-05-25T19:09:47.202219Z │\n",
       "│ U677              ┆ registro      ┆ 2025-05-27T09:41:47.202219Z │\n",
       "│ U425              ┆ compra        ┆ 2025-05-23T14:44:47.202219Z │\n",
       "└───────────────────┴───────────────┴─────────────────────────────┘"
      ]
     },
     "execution_count": 4,
     "metadata": {},
     "output_type": "execute_result"
    }
   ],
   "source": [
    "# Paso C). LECTURA DE LOS ARCHIVOS (PASO A + PASO B)\n",
    "\"\"\"\n",
    "    ### 🧠 Para los archivos .csv, se recomienda conocer el separador o\n",
    "    ###     delimitador presente en el archivo e indicarle a Polars.\n",
    "\n",
    "    📝 SINTAXIS:\n",
    "    \n",
    "        dataset_nombre = pl.read_extensión(carpeta_origen+nombre_archivo.extensión)\n",
    "\"\"\"\n",
    "import polars as pl # ✅ No olvidar importar polars al inicio del notebook\n",
    "\n",
    "# 💡 EJEMPLO 1 (Lectura de .csv): \n",
    "\n",
    "dataset_csv = pl.read_csv(carpeta_origen+archivos_csv,separator=\",\") # ⬅️ Indicamos el delimitador en separator.\n",
    "# dataset_csv.head() # ⬅️ Función que permite leer y retornar los 5 primeros registros del archivo.\n",
    "\"\"\"===============================================================================================\"\"\"\n",
    "# 💡 EJEMPLO 2 (Lectura de .xlsx): \n",
    "\n",
    "dataset_excel = pl.read_excel(\n",
    "                 source=carpeta_origen+archivos_xlsx,\n",
    "                 sheet_name=\"Hoja1\") # ⬅️ Indicamos el nombre de la Hoja donde se encuentra\n",
    "                                     #     la información.\n",
    "# dataset_excel.head() # ⬅️ Función que permite leer y retornar los 5 primeros registros del archivo.\n",
    "\n",
    "\"\"\" ⚠️ En caso les arroje error sobre: \" requiered package 'fastexcel' not found \"\n",
    "       solo instalemos el módulo con: pip install fastexcel\n",
    "'\"\"\"\n",
    "# dataset_excel.head() # ⬅️ Función que permite leer y retornar los 5 primeros registros del archivo.\n",
    "\"\"\"===============================================================================================\"\"\"\n",
    "# 💡 EJEMPLO 3 (Lectura de .json):\n",
    "\n",
    "### Archivo básico JSON\n",
    "archivo_json_basico = \"json_basico.json\" # ⬅️ Nombre de archivo básico JSON\n",
    "dataset_json1 = pl.read_json(carpeta_origen+archivo_json_basico) # ⬅️ Lectura de JSON básico\n",
    "# dataset_json1.head()\n",
    "\n",
    "# Archivo complejo JSON\n",
    "import json # ⬅️ Utilizaremos la librería json para el aplanamiento del Archivo JSON complejo.\n",
    "archivo_json_complejo = \"eventos_logs.json\" # ⬅️ Nombre de archivo complejo JSON\n",
    "with open(carpeta_origen + archivo_json_complejo, \"r\", encoding=\"utf-8\") as file_data:\n",
    "    data_archivo_json_complejo = json.load(file_data)\n",
    "dataset_json2 = pl.json_normalize(data_archivo_json_complejo) # ⬅️ Lectura de archivo JSON complejo.\n",
    "dataset_json2.head() # ⬅️ Función que permite leer y retornar los 5 primeros registros del archivo."
   ]
  },
  {
   "cell_type": "markdown",
   "id": "4af78c5f",
   "metadata": {},
   "source": [
    "#### Fase 2. Exploración Inicial 🔍"
   ]
  },
  {
   "cell_type": "code",
   "execution_count": 5,
   "id": "fbeb76e8",
   "metadata": {},
   "outputs": [
    {
     "data": {
      "text/html": [
       "<div><style>\n",
       ".dataframe > thead > tr,\n",
       ".dataframe > tbody > tr {\n",
       "  text-align: right;\n",
       "  white-space: pre-wrap;\n",
       "}\n",
       "</style>\n",
       "<small>shape: (5, 7)</small><table border=\"1\" class=\"dataframe\"><thead><tr><th>species</th><th>island</th><th>bill_length_mm</th><th>bill_depth_mm</th><th>flipper_length_mm</th><th>body_mass_g</th><th>sex</th></tr><tr><td>str</td><td>str</td><td>f64</td><td>f64</td><td>f64</td><td>f64</td><td>str</td></tr></thead><tbody><tr><td>&quot;Adelie&quot;</td><td>&quot;Torgersen&quot;</td><td>39.1</td><td>18.7</td><td>181.0</td><td>3750.0</td><td>&quot;Male&quot;</td></tr><tr><td>&quot;Adelie&quot;</td><td>&quot;Torgersen&quot;</td><td>39.5</td><td>17.4</td><td>186.0</td><td>3800.0</td><td>&quot;Female&quot;</td></tr><tr><td>&quot;Adelie&quot;</td><td>&quot;Torgersen&quot;</td><td>40.3</td><td>18.0</td><td>195.0</td><td>3250.0</td><td>&quot;Female&quot;</td></tr><tr><td>&quot;Adelie&quot;</td><td>&quot;Torgersen&quot;</td><td>null</td><td>null</td><td>null</td><td>null</td><td>null</td></tr><tr><td>&quot;Adelie&quot;</td><td>&quot;Torgersen&quot;</td><td>36.7</td><td>19.3</td><td>193.0</td><td>3450.0</td><td>&quot;Female&quot;</td></tr></tbody></table></div>"
      ],
      "text/plain": [
       "shape: (5, 7)\n",
       "┌─────────┬───────────┬────────────────┬───────────────┬───────────────────┬─────────────┬────────┐\n",
       "│ species ┆ island    ┆ bill_length_mm ┆ bill_depth_mm ┆ flipper_length_mm ┆ body_mass_g ┆ sex    │\n",
       "│ ---     ┆ ---       ┆ ---            ┆ ---           ┆ ---               ┆ ---         ┆ ---    │\n",
       "│ str     ┆ str       ┆ f64            ┆ f64           ┆ f64               ┆ f64         ┆ str    │\n",
       "╞═════════╪═══════════╪════════════════╪═══════════════╪═══════════════════╪═════════════╪════════╡\n",
       "│ Adelie  ┆ Torgersen ┆ 39.1           ┆ 18.7          ┆ 181.0             ┆ 3750.0      ┆ Male   │\n",
       "│ Adelie  ┆ Torgersen ┆ 39.5           ┆ 17.4          ┆ 186.0             ┆ 3800.0      ┆ Female │\n",
       "│ Adelie  ┆ Torgersen ┆ 40.3           ┆ 18.0          ┆ 195.0             ┆ 3250.0      ┆ Female │\n",
       "│ Adelie  ┆ Torgersen ┆ null           ┆ null          ┆ null              ┆ null        ┆ null   │\n",
       "│ Adelie  ┆ Torgersen ┆ 36.7           ┆ 19.3          ┆ 193.0             ┆ 3450.0      ┆ Female │\n",
       "└─────────┴───────────┴────────────────┴───────────────┴───────────────────┴─────────────┴────────┘"
      ]
     },
     "execution_count": 5,
     "metadata": {},
     "output_type": "execute_result"
    }
   ],
   "source": [
    "\"\"\"\n",
    "    Utilizaremos el dataset de penguins (dataset de Seaborn importado en un csv)\n",
    "\"\"\"\n",
    "df_penguins = pl.read_csv(\"../datasets/penguins.csv\",separator=\",\") # ⬅️ Accedemos al archivo en la carpeta datasets\n",
    "df_penguins.head()"
   ]
  },
  {
   "cell_type": "code",
   "execution_count": 6,
   "id": "6a712abe",
   "metadata": {},
   "outputs": [
    {
     "data": {
      "text/html": [
       "<div><style>\n",
       ".dataframe > thead > tr,\n",
       ".dataframe > tbody > tr {\n",
       "  text-align: right;\n",
       "  white-space: pre-wrap;\n",
       "}\n",
       "</style>\n",
       "<small>shape: (5, 4)</small><table border=\"1\" class=\"dataframe\"><thead><tr><th>column_1</th><th>column_2</th><th>column_3</th><th>column_4</th></tr><tr><td>str</td><td>str</td><td>str</td><td>str</td></tr></thead><tbody><tr><td>&quot;DetallePedidosPedidoID&quot;</td><td>&quot;PedidoFechaHoraRegistro&quot;</td><td>&quot;PedidoEstado&quot;</td><td>&quot;Total&quot;</td></tr><tr><td>&quot;1&quot;</td><td>&quot;2025-05-26 18:02:01.240&quot;</td><td>&quot;F&quot;</td><td>&quot;524361.11&quot;</td></tr><tr><td>&quot;2&quot;</td><td>&quot;2025-05-26 18:02:02.430&quot;</td><td>&quot;F&quot;</td><td>&quot;524387.46&quot;</td></tr><tr><td>&quot;3&quot;</td><td>&quot;2025-05-26 18:02:46.287&quot;</td><td>&quot;F&quot;</td><td>&quot;515269.86&quot;</td></tr><tr><td>&quot;4&quot;</td><td>&quot;2025-05-26 18:02:46.290&quot;</td><td>&quot;F&quot;</td><td>&quot;523261.27&quot;</td></tr></tbody></table></div>"
      ],
      "text/plain": [
       "shape: (5, 4)\n",
       "┌────────────────────────┬─────────────────────────┬──────────────┬───────────┐\n",
       "│ column_1               ┆ column_2                ┆ column_3     ┆ column_4  │\n",
       "│ ---                    ┆ ---                     ┆ ---          ┆ ---       │\n",
       "│ str                    ┆ str                     ┆ str          ┆ str       │\n",
       "╞════════════════════════╪═════════════════════════╪══════════════╪═══════════╡\n",
       "│ DetallePedidosPedidoID ┆ PedidoFechaHoraRegistro ┆ PedidoEstado ┆ Total     │\n",
       "│ 1                      ┆ 2025-05-26 18:02:01.240 ┆ F            ┆ 524361.11 │\n",
       "│ 2                      ┆ 2025-05-26 18:02:02.430 ┆ F            ┆ 524387.46 │\n",
       "│ 3                      ┆ 2025-05-26 18:02:46.287 ┆ F            ┆ 515269.86 │\n",
       "│ 4                      ┆ 2025-05-26 18:02:46.290 ┆ F            ┆ 523261.27 │\n",
       "└────────────────────────┴─────────────────────────┴──────────────┴───────────┘"
      ]
     },
     "execution_count": 6,
     "metadata": {},
     "output_type": "execute_result"
    }
   ],
   "source": [
    "\"\"\"\n",
    "    A). Quitar encabezados originales provenientes del Dataset.\n",
    "    \n",
    "        📝 SINTAXIS:\n",
    "        \n",
    "            dataset_nombre = pl.read_extension(ruta_carpeta_archivo,separator=\"Delimitador\",has_header=True|False)\n",
    "            \n",
    "            💡 Importante: has_header, es el parámetro que si establecemos en False, los encabezados se vuelven parte\n",
    "                           de los registros del dataset, además, Polars agregará la posición de cada columna\n",
    "                           con un prefijo: columna_posición.\n",
    "                                        \n",
    "            ### 🧠 Tener en cuenta que solo se aplicará a las extensiones .excel y .csv\n",
    "    \n",
    "#### PARA LOS EJEMPLOS USAREMOS ALGUNOS DATASET PREVIAMENTE VISTOS EN LA FASE 1.\n",
    "\"\"\"\n",
    "\n",
    "# 💡 EJEMPLO 1: Archivo CSV \n",
    "\n",
    "df_penguins = pl.read_csv(carpeta_origen+archivos_csv,separator=\",\",has_header=True) #⬅️ Mostramos los encabezados\n",
    "# df_penguins.head()\n",
    "\n",
    "# 💡 EJEMPLO 2: Archivo CSV\n",
    "\n",
    "df_penguins = pl.read_csv(carpeta_origen+archivos_csv,separator=\",\",has_header=False) #⬅️ Ocultamos los encabezados\n",
    "# df_penguins.head()\n",
    "\n",
    "# 💡 EJEMPLO 3: Archivo EXCEL \n",
    "\n",
    "df_penguins_excel = pl.read_excel(carpeta_origen+archivos_xlsx,sheet_name=\"Hoja1\",has_header=True) #⬅️ Mostramos los encabezados\n",
    "# df_penguins_excel.head()\n",
    "\n",
    "# 💡 EJEMPLO 4: Archivo EXCEL\n",
    "\n",
    "df_penguins_excel = pl.read_excel(carpeta_origen+archivos_xlsx,sheet_name=\"Hoja1\",has_header=False) #⬅️ Ocultamos los encabezados\n",
    "df_penguins_excel.head()"
   ]
  },
  {
   "cell_type": "code",
   "execution_count": 7,
   "id": "90290b81",
   "metadata": {},
   "outputs": [
    {
     "data": {
      "text/html": [
       "<div><style>\n",
       ".dataframe > thead > tr,\n",
       ".dataframe > tbody > tr {\n",
       "  text-align: right;\n",
       "  white-space: pre-wrap;\n",
       "}\n",
       "</style>\n",
       "<small>shape: (10, 7)</small><table border=\"1\" class=\"dataframe\"><thead><tr><th>column_1</th><th>column_2</th><th>column_3</th><th>column_4</th><th>column_5</th><th>column_6</th><th>column_7</th></tr><tr><td>str</td><td>str</td><td>str</td><td>str</td><td>str</td><td>str</td><td>str</td></tr></thead><tbody><tr><td>&quot;species&quot;</td><td>&quot;island&quot;</td><td>&quot;bill_length_mm&quot;</td><td>&quot;bill_depth_mm&quot;</td><td>&quot;flipper_length_mm&quot;</td><td>&quot;body_mass_g&quot;</td><td>&quot;sex&quot;</td></tr><tr><td>&quot;Adelie&quot;</td><td>&quot;Torgersen&quot;</td><td>&quot;39.1&quot;</td><td>&quot;18.7&quot;</td><td>&quot;181.0&quot;</td><td>&quot;3750.0&quot;</td><td>&quot;Male&quot;</td></tr><tr><td>&quot;Adelie&quot;</td><td>&quot;Torgersen&quot;</td><td>&quot;39.5&quot;</td><td>&quot;17.4&quot;</td><td>&quot;186.0&quot;</td><td>&quot;3800.0&quot;</td><td>&quot;Female&quot;</td></tr><tr><td>&quot;Adelie&quot;</td><td>&quot;Torgersen&quot;</td><td>&quot;40.3&quot;</td><td>&quot;18.0&quot;</td><td>&quot;195.0&quot;</td><td>&quot;3250.0&quot;</td><td>&quot;Female&quot;</td></tr><tr><td>&quot;Adelie&quot;</td><td>&quot;Torgersen&quot;</td><td>null</td><td>null</td><td>null</td><td>null</td><td>null</td></tr><tr><td>&quot;Adelie&quot;</td><td>&quot;Torgersen&quot;</td><td>&quot;36.7&quot;</td><td>&quot;19.3&quot;</td><td>&quot;193.0&quot;</td><td>&quot;3450.0&quot;</td><td>&quot;Female&quot;</td></tr><tr><td>&quot;Adelie&quot;</td><td>&quot;Torgersen&quot;</td><td>&quot;39.3&quot;</td><td>&quot;20.6&quot;</td><td>&quot;190.0&quot;</td><td>&quot;3650.0&quot;</td><td>&quot;Male&quot;</td></tr><tr><td>&quot;Adelie&quot;</td><td>&quot;Torgersen&quot;</td><td>&quot;38.9&quot;</td><td>&quot;17.8&quot;</td><td>&quot;181.0&quot;</td><td>&quot;3625.0&quot;</td><td>&quot;Female&quot;</td></tr><tr><td>&quot;Adelie&quot;</td><td>&quot;Torgersen&quot;</td><td>&quot;39.2&quot;</td><td>&quot;19.6&quot;</td><td>&quot;195.0&quot;</td><td>&quot;4675.0&quot;</td><td>&quot;Male&quot;</td></tr><tr><td>&quot;Adelie&quot;</td><td>&quot;Torgersen&quot;</td><td>&quot;34.1&quot;</td><td>&quot;18.1&quot;</td><td>&quot;193.0&quot;</td><td>&quot;3475.0&quot;</td><td>null</td></tr></tbody></table></div>"
      ],
      "text/plain": [
       "shape: (10, 7)\n",
       "┌──────────┬───────────┬────────────────┬───────────────┬─────────────────┬─────────────┬──────────┐\n",
       "│ column_1 ┆ column_2  ┆ column_3       ┆ column_4      ┆ column_5        ┆ column_6    ┆ column_7 │\n",
       "│ ---      ┆ ---       ┆ ---            ┆ ---           ┆ ---             ┆ ---         ┆ ---      │\n",
       "│ str      ┆ str       ┆ str            ┆ str           ┆ str             ┆ str         ┆ str      │\n",
       "╞══════════╪═══════════╪════════════════╪═══════════════╪═════════════════╪═════════════╪══════════╡\n",
       "│ species  ┆ island    ┆ bill_length_mm ┆ bill_depth_mm ┆ flipper_length_ ┆ body_mass_g ┆ sex      │\n",
       "│          ┆           ┆                ┆               ┆ mm              ┆             ┆          │\n",
       "│ Adelie   ┆ Torgersen ┆ 39.1           ┆ 18.7          ┆ 181.0           ┆ 3750.0      ┆ Male     │\n",
       "│ Adelie   ┆ Torgersen ┆ 39.5           ┆ 17.4          ┆ 186.0           ┆ 3800.0      ┆ Female   │\n",
       "│ Adelie   ┆ Torgersen ┆ 40.3           ┆ 18.0          ┆ 195.0           ┆ 3250.0      ┆ Female   │\n",
       "│ Adelie   ┆ Torgersen ┆ null           ┆ null          ┆ null            ┆ null        ┆ null     │\n",
       "│ Adelie   ┆ Torgersen ┆ 36.7           ┆ 19.3          ┆ 193.0           ┆ 3450.0      ┆ Female   │\n",
       "│ Adelie   ┆ Torgersen ┆ 39.3           ┆ 20.6          ┆ 190.0           ┆ 3650.0      ┆ Male     │\n",
       "│ Adelie   ┆ Torgersen ┆ 38.9           ┆ 17.8          ┆ 181.0           ┆ 3625.0      ┆ Female   │\n",
       "│ Adelie   ┆ Torgersen ┆ 39.2           ┆ 19.6          ┆ 195.0           ┆ 4675.0      ┆ Male     │\n",
       "│ Adelie   ┆ Torgersen ┆ 34.1           ┆ 18.1          ┆ 193.0           ┆ 3475.0      ┆ null     │\n",
       "└──────────┴───────────┴────────────────┴───────────────┴─────────────────┴─────────────┴──────────┘"
      ]
     },
     "execution_count": 7,
     "metadata": {},
     "output_type": "execute_result"
    }
   ],
   "source": [
    "\"\"\"\n",
    "    B). Mostrar los N primeros registros de un dataset\n",
    "    \n",
    "        📝 SINTAXIS:\n",
    "    \n",
    "            dataset_nombre.head(NúmeroDeRegistros) ⬅️ Indicamos un número para la cantidad de registros a mostrar    \n",
    "\"\"\"\n",
    "# 💡 EJEMPO 1: \n",
    "\n",
    "# df_penguins.head(5) ## ⬅️ Mostrar 5 primeros registros del dataset\n",
    "\n",
    "# 💡 EJEMPO 2: \n",
    "\n",
    "df_penguins.head(10) ## ⬅️ Mostrar 10 primeros registros del dataset"
   ]
  },
  {
   "cell_type": "code",
   "execution_count": 8,
   "id": "70b98fd7",
   "metadata": {},
   "outputs": [
    {
     "data": {
      "text/html": [
       "<div><style>\n",
       ".dataframe > thead > tr,\n",
       ".dataframe > tbody > tr {\n",
       "  text-align: right;\n",
       "  white-space: pre-wrap;\n",
       "}\n",
       "</style>\n",
       "<small>shape: (10, 7)</small><table border=\"1\" class=\"dataframe\"><thead><tr><th>column_1</th><th>column_2</th><th>column_3</th><th>column_4</th><th>column_5</th><th>column_6</th><th>column_7</th></tr><tr><td>str</td><td>str</td><td>str</td><td>str</td><td>str</td><td>str</td><td>str</td></tr></thead><tbody><tr><td>&quot;Gentoo&quot;</td><td>&quot;Biscoe&quot;</td><td>&quot;46.2&quot;</td><td>&quot;14.1&quot;</td><td>&quot;217.0&quot;</td><td>&quot;4375.0&quot;</td><td>&quot;Female&quot;</td></tr><tr><td>&quot;Gentoo&quot;</td><td>&quot;Biscoe&quot;</td><td>&quot;55.1&quot;</td><td>&quot;16.0&quot;</td><td>&quot;230.0&quot;</td><td>&quot;5850.0&quot;</td><td>&quot;Male&quot;</td></tr><tr><td>&quot;Gentoo&quot;</td><td>&quot;Biscoe&quot;</td><td>&quot;44.5&quot;</td><td>&quot;15.7&quot;</td><td>&quot;217.0&quot;</td><td>&quot;4875.0&quot;</td><td>null</td></tr><tr><td>&quot;Gentoo&quot;</td><td>&quot;Biscoe&quot;</td><td>&quot;48.8&quot;</td><td>&quot;16.2&quot;</td><td>&quot;222.0&quot;</td><td>&quot;6000.0&quot;</td><td>&quot;Male&quot;</td></tr><tr><td>&quot;Gentoo&quot;</td><td>&quot;Biscoe&quot;</td><td>&quot;47.2&quot;</td><td>&quot;13.7&quot;</td><td>&quot;214.0&quot;</td><td>&quot;4925.0&quot;</td><td>&quot;Female&quot;</td></tr><tr><td>&quot;Gentoo&quot;</td><td>&quot;Biscoe&quot;</td><td>null</td><td>null</td><td>null</td><td>null</td><td>null</td></tr><tr><td>&quot;Gentoo&quot;</td><td>&quot;Biscoe&quot;</td><td>&quot;46.8&quot;</td><td>&quot;14.3&quot;</td><td>&quot;215.0&quot;</td><td>&quot;4850.0&quot;</td><td>&quot;Female&quot;</td></tr><tr><td>&quot;Gentoo&quot;</td><td>&quot;Biscoe&quot;</td><td>&quot;50.4&quot;</td><td>&quot;15.7&quot;</td><td>&quot;222.0&quot;</td><td>&quot;5750.0&quot;</td><td>&quot;Male&quot;</td></tr><tr><td>&quot;Gentoo&quot;</td><td>&quot;Biscoe&quot;</td><td>&quot;45.2&quot;</td><td>&quot;14.8&quot;</td><td>&quot;212.0&quot;</td><td>&quot;5200.0&quot;</td><td>&quot;Female&quot;</td></tr><tr><td>&quot;Gentoo&quot;</td><td>&quot;Biscoe&quot;</td><td>&quot;49.9&quot;</td><td>&quot;16.1&quot;</td><td>&quot;213.0&quot;</td><td>&quot;5400.0&quot;</td><td>&quot;Male&quot;</td></tr></tbody></table></div>"
      ],
      "text/plain": [
       "shape: (10, 7)\n",
       "┌──────────┬──────────┬──────────┬──────────┬──────────┬──────────┬──────────┐\n",
       "│ column_1 ┆ column_2 ┆ column_3 ┆ column_4 ┆ column_5 ┆ column_6 ┆ column_7 │\n",
       "│ ---      ┆ ---      ┆ ---      ┆ ---      ┆ ---      ┆ ---      ┆ ---      │\n",
       "│ str      ┆ str      ┆ str      ┆ str      ┆ str      ┆ str      ┆ str      │\n",
       "╞══════════╪══════════╪══════════╪══════════╪══════════╪══════════╪══════════╡\n",
       "│ Gentoo   ┆ Biscoe   ┆ 46.2     ┆ 14.1     ┆ 217.0    ┆ 4375.0   ┆ Female   │\n",
       "│ Gentoo   ┆ Biscoe   ┆ 55.1     ┆ 16.0     ┆ 230.0    ┆ 5850.0   ┆ Male     │\n",
       "│ Gentoo   ┆ Biscoe   ┆ 44.5     ┆ 15.7     ┆ 217.0    ┆ 4875.0   ┆ null     │\n",
       "│ Gentoo   ┆ Biscoe   ┆ 48.8     ┆ 16.2     ┆ 222.0    ┆ 6000.0   ┆ Male     │\n",
       "│ Gentoo   ┆ Biscoe   ┆ 47.2     ┆ 13.7     ┆ 214.0    ┆ 4925.0   ┆ Female   │\n",
       "│ Gentoo   ┆ Biscoe   ┆ null     ┆ null     ┆ null     ┆ null     ┆ null     │\n",
       "│ Gentoo   ┆ Biscoe   ┆ 46.8     ┆ 14.3     ┆ 215.0    ┆ 4850.0   ┆ Female   │\n",
       "│ Gentoo   ┆ Biscoe   ┆ 50.4     ┆ 15.7     ┆ 222.0    ┆ 5750.0   ┆ Male     │\n",
       "│ Gentoo   ┆ Biscoe   ┆ 45.2     ┆ 14.8     ┆ 212.0    ┆ 5200.0   ┆ Female   │\n",
       "│ Gentoo   ┆ Biscoe   ┆ 49.9     ┆ 16.1     ┆ 213.0    ┆ 5400.0   ┆ Male     │\n",
       "└──────────┴──────────┴──────────┴──────────┴──────────┴──────────┴──────────┘"
      ]
     },
     "execution_count": 8,
     "metadata": {},
     "output_type": "execute_result"
    }
   ],
   "source": [
    "\"\"\"\n",
    "    C). Mostrar los N últimos registros de un dataset\n",
    "    \n",
    "        📝 SINTAXIS:\n",
    "    \n",
    "            dataset_nombre.tail(NúmeroDeRegistros) ⬅️ Indicamos un número para la cantidad de registros a mostrar    \n",
    "\"\"\"\n",
    "# 💡 EJEMPO 1: \n",
    "\n",
    "# df_penguins.tail(5) ## ⬅️ Mostrar 5 últimos registros del dataset\n",
    "\n",
    "# 💡 EJEMPO 2: \n",
    "\n",
    "df_penguins.tail(10) ## ⬅️ Mostrar 10 últimos registros del dataset"
   ]
  },
  {
   "cell_type": "code",
   "execution_count": 9,
   "id": "73203557",
   "metadata": {},
   "outputs": [
    {
     "data": {
      "text/plain": [
       "7"
      ]
     },
     "execution_count": 9,
     "metadata": {},
     "output_type": "execute_result"
    }
   ],
   "source": [
    "\"\"\"\n",
    "    D). Mostrar el volúmen del dataset (Cantidad de filas y columnas respectivamente) \n",
    "    \n",
    "        📝 SINTAXIS:\n",
    "    \n",
    "            dataset_nombre.shape ⬅️ Nos muestra la cantidad de filas y columnas en forma de tupla (,)\n",
    "            \n",
    "            #### 🧠 Podemos acceder a la cantidad de filas o columnas basándonos en la posición\n",
    "                     de los datos que retorna la tupla, gracias a .shape ➡️ 0 = filas y 1 = columnas    \n",
    "\"\"\"\n",
    "# 💡 EJEMPO 1: \n",
    "\n",
    "df_penguins.shape ## ⬅️ Muestra el volúmen de registros del dataset en forma de tupla. (CantidadFilas,CantidadColumnas)\n",
    "\n",
    "# 💡 EJEMPO 2: \n",
    "\n",
    "df_penguins.shape[0] ## ⬅️ Muestra la cantidad de registros (filas) del dataset\n",
    "\n",
    "# 💡 EJEMPO 3: \n",
    "\n",
    "df_penguins.shape[1] ## ⬅️ Muestra la cantidad de columnas del dataset\n"
   ]
  }
 ],
 "metadata": {
  "kernelspec": {
   "display_name": "venv",
   "language": "python",
   "name": "python3"
  },
  "language_info": {
   "codemirror_mode": {
    "name": "ipython",
    "version": 3
   },
   "file_extension": ".py",
   "mimetype": "text/x-python",
   "name": "python",
   "nbconvert_exporter": "python",
   "pygments_lexer": "ipython3",
   "version": "3.11.5"
  }
 },
 "nbformat": 4,
 "nbformat_minor": 5
}
