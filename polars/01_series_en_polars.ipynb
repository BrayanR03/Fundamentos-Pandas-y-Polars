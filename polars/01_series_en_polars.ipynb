{
 "cells": [
  {
   "cell_type": "markdown",
   "id": "a73a22a1",
   "metadata": {},
   "source": [
    "## ⚡ Analítica Turbo con Polars: Fundamentos que todo Analista Moderno debe conocer 🐻‍❄️"
   ]
  },
  {
   "cell_type": "markdown",
   "id": "15ee2147",
   "metadata": {},
   "source": [
    "---\n",
    "\n",
    "👨‍💻 Autor: Brayan Neciosup  \n",
    "📍 Portafolio: [brayanneciosup](https://bryanneciosup626.wixsite.com/brayandataanalitics)  \n",
    "🔗 LinkedIn: [linkedin.com/brayanneciosup](https://www.linkedin.com/in/brayan-rafael-neciosup-bola%C3%B1os-407a59246/)  \n",
    "💻 GitHub: [github.com/BrayanR03](https://github.com/BrayanR03)  \n",
    "📚 Serie: Fundamentos de Pandas y Polars\n"
   ]
  },
  {
   "cell_type": "code",
   "execution_count": 1,
   "id": "4b8a28e1",
   "metadata": {},
   "outputs": [],
   "source": [
    "# Instalar librería de polars: pip install polars\n",
    "# Importamos la librería\n",
    "import polars as pl"
   ]
  },
  {
   "cell_type": "markdown",
   "id": "c3824449",
   "metadata": {},
   "source": [
    "### 📌 Series en Polars: Rendimiento y Simplicidad en una dimensión"
   ]
  },
  {
   "cell_type": "markdown",
   "id": "01b08068",
   "metadata": {},
   "source": [
    "####  ✅DEFINICIÓN DE UNA SERIE EN POLARS 🐻‍❄️"
   ]
  },
  {
   "cell_type": "markdown",
   "id": "70b650fe",
   "metadata": {},
   "source": [
    "Sintaxis: \n",
    "\n",
    "serie = pl.Series(name = NombreColumnaSerie, values = ValoresSerie, dtype = pl.TipoDatoSegúnValores)\n",
    "\n",
    "**Importante: A diferencia de Pandas, Polars ya no trabaja con índices en sus Series y se define\n",
    "              el tipo de dato que tendrá la serie (int,str,object, entre otros..)\n",
    "              Sin embargo, al tener diferentes tipos de datos en la serie, y no definir mediante \"dtype\"\n",
    "              que tipo de datos se almacenarán, saldrá un error al imprimir la serie."
   ]
  },
  {
   "cell_type": "code",
   "execution_count": 13,
   "id": "312380c4",
   "metadata": {},
   "outputs": [
    {
     "name": "stdout",
     "output_type": "stream",
     "text": [
      "==== SERIE 1 - UN SOLO TIPO DE DATO\n",
      "shape: (5,)\n",
      "Series: 'Valores' [i64]\n",
      "[\n",
      "\t1\n",
      "\t2\n",
      "\t3\n",
      "\t4\n",
      "\t5\n",
      "]\n",
      "==== SERIE 2 - VARIOS TIPOS DE DATOS\n",
      "shape: (5,)\n",
      "Series: 'Valores2' [o][object]\n",
      "[\n",
      "\t1\n",
      "\t2\n",
      "\tTrue\n",
      "\t2.5\n",
      "\tHola\n",
      "]\n"
     ]
    }
   ],
   "source": [
    "# Serie - Ejemplo 1 (Un solo tipo de dato):\n",
    "data_1=[1,2,3,4,5]\n",
    "serie_1=pl.Series(name=\"Valores\",values=data_1,dtype=pl.Int64)\n",
    "print(\"==== SERIE 1 - UN SOLO TIPO DE DATO\") \n",
    "print(serie_1)\n",
    "                                                # 💡💡➡️SIEMPRE DEFINIR EL TIPO DE DATO EN LA SERIE\n",
    "# Serie - Ejemplo 2 (Varios tipos de datos):\n",
    "data_2=[1,2,True,2.5,\"Hola\"]\n",
    "serie_2=pl.Series(name=\"Valores2\",values=data_2,dtype=pl.Object)\n",
    "print(\"==== SERIE 2 - VARIOS TIPOS DE DATOS\") \n",
    "print(serie_2)\n",
    "\n",
    "# # Serie - Ejemplo 3 (Sin definir tipo de dato - error ❌):\n",
    "# data_3=[1,2,True,2.5,\"Hola\"]\n",
    "# serie_3=pl.Series(name=\"Valores3\",values=data_3)\n",
    "# print(\"==== SERIE 3 - VARIOS TIPOS DE DATOS ❌\") \n",
    "# print(serie_3)\n"
   ]
  },
  {
   "cell_type": "markdown",
   "id": "e9ea2b4b",
   "metadata": {},
   "source": [
    "#### ✅ Operaciones con Series en Polars"
   ]
  },
  {
   "cell_type": "code",
   "execution_count": 44,
   "id": "c6d4235b",
   "metadata": {},
   "outputs": [
    {
     "data": {
      "text/html": [
       "<div><style>\n",
       ".dataframe > thead > tr,\n",
       ".dataframe > tbody > tr {\n",
       "  text-align: right;\n",
       "  white-space: pre-wrap;\n",
       "}\n",
       "</style>\n",
       "<small>shape: (7,)</small><table border=\"1\" class=\"dataframe\"><thead><tr><th>Valores</th></tr><tr><td>i64</td></tr></thead><tbody><tr><td>10</td></tr><tr><td>15</td></tr><tr><td>35</td></tr><tr><td>2</td></tr><tr><td>82</td></tr><tr><td>15</td></tr><tr><td>13</td></tr></tbody></table></div>"
      ],
      "text/plain": [
       "shape: (7,)\n",
       "Series: 'Valores' [i64]\n",
       "[\n",
       "\t10\n",
       "\t15\n",
       "\t35\n",
       "\t2\n",
       "\t82\n",
       "\t15\n",
       "\t13\n",
       "]"
      ]
     },
     "execution_count": 44,
     "metadata": {},
     "output_type": "execute_result"
    }
   ],
   "source": [
    "serie_example = pl.Series(name=\"Valores\",values=[10,15,35,2,82,15,13],dtype=pl.Int64) # ⬅️ Trabajaremos con un solo tipo de dato (Int64) \n",
    "serie_example"
   ]
  },
  {
   "cell_type": "code",
   "execution_count": 16,
   "id": "e610f90f",
   "metadata": {},
   "outputs": [
    {
     "name": "stdout",
     "output_type": "stream",
     "text": [
      "15\n"
     ]
    }
   ],
   "source": [
    "# a). Obtener un valor por el índice establecido\n",
    "print(serie_example[5]) # ⬅️ Accedemos el elemento del índice 5\n"
   ]
  },
  {
   "cell_type": "code",
   "execution_count": null,
   "id": "04135aff",
   "metadata": {},
   "outputs": [
    {
     "name": "stdout",
     "output_type": "stream",
     "text": [
      "shape: (2,)\n",
      "Series: 'Valores' [i64]\n",
      "[\n",
      "\t35\n",
      "\t82\n",
      "]\n"
     ]
    }
   ],
   "source": [
    "# b). Filtrar valores: Para realizar el filtrado debemos llamar al método .filter() y aplicar la condición.\n",
    "# Sintaxis: serie_nombre.filter(serie_nombre + condición) ⬅️ condiciones usando operadores lógicos: > | < | = | >= | <= | !=\n",
    "# Ejemplo : \n",
    "print(serie_example.filter(serie_example>18))  # ( Valores de la serie mayores a 18 )"
   ]
  },
  {
   "cell_type": "code",
   "execution_count": 18,
   "id": "e22f6a3c",
   "metadata": {},
   "outputs": [
    {
     "data": {
      "text/html": [
       "<div><style>\n",
       ".dataframe > thead > tr,\n",
       ".dataframe > tbody > tr {\n",
       "  text-align: right;\n",
       "  white-space: pre-wrap;\n",
       "}\n",
       "</style>\n",
       "<small>shape: (7,)</small><table border=\"1\" class=\"dataframe\"><thead><tr><th>ValorNuevo</th></tr><tr><td>i64</td></tr></thead><tbody><tr><td>20</td></tr><tr><td>25</td></tr><tr><td>45</td></tr><tr><td>12</td></tr><tr><td>92</td></tr><tr><td>25</td></tr><tr><td>23</td></tr></tbody></table></div>"
      ],
      "text/plain": [
       "shape: (7,)\n",
       "Series: 'ValorNuevo' [i64]\n",
       "[\n",
       "\t20\n",
       "\t25\n",
       "\t45\n",
       "\t12\n",
       "\t92\n",
       "\t25\n",
       "\t23\n",
       "]"
      ]
     },
     "execution_count": 18,
     "metadata": {},
     "output_type": "execute_result"
    }
   ],
   "source": [
    "# c). Realizar operaciones aritméticas básicas:\n",
    "# Sintaxis: \n",
    "# operacion_serie = nombre_serie + | - | / | * \n",
    "\n",
    "# Estas operaciones a realizar, devuelven una estructura \"ambigua\" en Polars. Por ello, si queremos convertirla a\n",
    "# un formato mas legible, realizamos los pasos para definir la serie.\n",
    "\n",
    "# new_serie = pl.Series(name=NombreColumna,values=new_serie,dtype=pl.Int64)\n",
    "\n",
    "# Ejemplo:\n",
    "aumentar_serie = serie_example + 10  # ( Aumentar en 10, cada valor de la serie )\n",
    "# print(aumentar_serie) # ⬅️ Formato \"ambiguo\"\n",
    "new_serie = pl.Series(name=\"ValorNuevo\",values=aumentar_serie,dtype=pl.Int64)\n",
    "new_serie # ⬅️✅Formato mas legible\n",
    " "
   ]
  },
  {
   "cell_type": "code",
   "execution_count": 68,
   "id": "bff18cd3",
   "metadata": {},
   "outputs": [
    {
     "name": "stdout",
     "output_type": "stream",
     "text": [
      "shape: (7,)\n",
      "Series: 'Valores' [i64]\n",
      "[\n",
      "\t10\n",
      "\t15\n",
      "\t100\n",
      "\t2\n",
      "\t100\n",
      "\t15\n",
      "\t13\n",
      "]\n",
      "shape: (7,)\n",
      "Series: 'Valores' [i64]\n",
      "[\n",
      "\t10\n",
      "\t15\n",
      "\t100\n",
      "\t2\n",
      "\t82\n",
      "\t15\n",
      "\t13\n",
      "]\n"
     ]
    }
   ],
   "source": [
    "# d). Reemplazar valores de series: \n",
    "# Las series al ser mutables, debemos almacenarlas en nuevas variables para que se reemplace.\n",
    "# Además, si deseamos realizar condiciones para el reemplazo de valores, usaremos numpy.\n",
    "# Sintaxis:\n",
    "# new_serie = serie.replace({ValorAntiguoEnSerie:ValorNuevoAReemplazar}) ⬅️ método .replace() solo para valores individuales\n",
    "# serie_condicionada = np.where(serie_example>30,100,serie_example) ⬅️ usando np.where() de numpy para condiciones de valores múltiples\n",
    "\n",
    "# Ejemplo 1: Usando numpy - Instalar librería de numpy: pip install numpy\n",
    "import numpy as np\n",
    "serie_condicionada = np.where(serie_example>30,100,serie_example) # ⬅️ Condiciones de varios valores usando np.where()\n",
    "new_serie_1 = pl.Series(values=serie_condicionada,name=\"Valores\") # ⬅️ Formateamos a una serie el array devuelto por numpy.\n",
    "print(new_serie_1)\n",
    "# Ejemplo 2:\n",
    "new_serie_2 = serie_example.replace({35:100}) # ⬅️ Reemplazamos valores individuales sin condición (30 por 100)\n",
    "print(new_serie_2)"
   ]
  },
  {
   "cell_type": "markdown",
   "id": "10943f4b",
   "metadata": {},
   "source": [
    "### 📌 Dataframes en Polars: ..."
   ]
  },
  {
   "cell_type": "markdown",
   "id": "f71c750e",
   "metadata": {},
   "source": [
    "####  ✅DEFINICIÓN DE UN DATAFRAME EN POLARS 🐻‍❄️"
   ]
  },
  {
   "cell_type": "markdown",
   "id": "2e4d90b9",
   "metadata": {},
   "source": [
    "Son estructuras de datos bidimensionales, que permiten almacenar información en forma de una matriz (FilasxColumnas),\n",
    "las cuáles, deben estar de acorde al tipo de dato definido en la columna. Sin embargo, a diferencia de Pandas, Polars\n",
    "presenta una optimización en la manipulación de la informació, debido que distribuye la lectura de los diversos\n",
    "orígenes de datos en todos los núcleos del procesador.\n",
    "\n",
    "SINTAXIS:\n",
    "\n",
    "        dataframe_nombre = pl.DataFrame(data=DatosDataframe,schema=NombreColumnasPreviamenteDefinidas,orient= row[usado] | col)"
   ]
  },
  {
   "cell_type": "code",
   "execution_count": null,
   "id": "a86c245a",
   "metadata": {},
   "outputs": [
    {
     "data": {
      "text/html": [
       "<div><style>\n",
       ".dataframe > thead > tr,\n",
       ".dataframe > tbody > tr {\n",
       "  text-align: right;\n",
       "  white-space: pre-wrap;\n",
       "}\n",
       "</style>\n",
       "<small>shape: (3, 3)</small><table border=\"1\" class=\"dataframe\"><thead><tr><th>Nombre</th><th>Edad</th><th>Nota</th></tr><tr><td>str</td><td>i64</td><td>i64</td></tr></thead><tbody><tr><td>&quot;Brayan&quot;</td><td>25</td><td>15</td></tr><tr><td>&quot;Rafael&quot;</td><td>27</td><td>10</td></tr><tr><td>&quot;Pepito&quot;</td><td>20</td><td>16</td></tr></tbody></table></div>"
      ],
      "text/plain": [
       "shape: (3, 3)\n",
       "┌────────┬──────┬──────┐\n",
       "│ Nombre ┆ Edad ┆ Nota │\n",
       "│ ---    ┆ ---  ┆ ---  │\n",
       "│ str    ┆ i64  ┆ i64  │\n",
       "╞════════╪══════╪══════╡\n",
       "│ Brayan ┆ 25   ┆ 15   │\n",
       "│ Rafael ┆ 27   ┆ 10   │\n",
       "│ Pepito ┆ 20   ┆ 16   │\n",
       "└────────┴──────┴──────┘"
      ]
     },
     "execution_count": 2,
     "metadata": {},
     "output_type": "execute_result"
    }
   ],
   "source": [
    "# DEFINIR UN DATAFRAME MEDIANTE UN DICCIONARIO\n",
    "\"\"\"\n",
    "📝 Nota: Si queremos definir un dataframe desde un diccionario, las claves del diccionario se convertirán\n",
    "         en las columnas del dataframe y los valores serán la información almacenada bidireccionalmente\n",
    "         por cada columna del dataframe.\n",
    "\"\"\"\n",
    "diccionario_example = {\n",
    "    \"Nombre\":[\"Brayan\",\"Rafael\",\"Pepito\"],\n",
    "    \"Edad\": [25,27,20],\n",
    "    \"Nota\":[15,10,16]\n",
    "}\n",
    "dict_to_df = pl.DataFrame(diccionario_example)\n",
    "dict_to_df.head() # ⬅️ Función básica que permite ver los 5 primeros registros de un dataframe. \n",
    "### 💡 Adicionalmente, Polars muestra el tipo de dato de las columnas del dataframe"
   ]
  },
  {
   "cell_type": "code",
   "execution_count": null,
   "id": "8e64f6e1",
   "metadata": {},
   "outputs": [
    {
     "data": {
      "text/html": [
       "<div><style>\n",
       ".dataframe > thead > tr,\n",
       ".dataframe > tbody > tr {\n",
       "  text-align: right;\n",
       "  white-space: pre-wrap;\n",
       "}\n",
       "</style>\n",
       "<small>shape: (3, 3)</small><table border=\"1\" class=\"dataframe\"><thead><tr><th>Nombre</th><th>Edad</th><th>Nota</th></tr><tr><td>str</td><td>i64</td><td>i64</td></tr></thead><tbody><tr><td>&quot;Brayan&quot;</td><td>25</td><td>15</td></tr><tr><td>&quot;Rafael&quot;</td><td>27</td><td>10</td></tr><tr><td>&quot;Pepito&quot;</td><td>20</td><td>16</td></tr></tbody></table></div>"
      ],
      "text/plain": [
       "shape: (3, 3)\n",
       "┌────────┬──────┬──────┐\n",
       "│ Nombre ┆ Edad ┆ Nota │\n",
       "│ ---    ┆ ---  ┆ ---  │\n",
       "│ str    ┆ i64  ┆ i64  │\n",
       "╞════════╪══════╪══════╡\n",
       "│ Brayan ┆ 25   ┆ 15   │\n",
       "│ Rafael ┆ 27   ┆ 10   │\n",
       "│ Pepito ┆ 20   ┆ 16   │\n",
       "└────────┴──────┴──────┘"
      ]
     },
     "execution_count": 18,
     "metadata": {},
     "output_type": "execute_result"
    }
   ],
   "source": [
    "# DEFINIR UN DATAFRAME DESDE CERO\n",
    "dataframe = pl.DataFrame(data=[[\"Brayan\",25,15],[\"Rafael\",27,10],[\"Pepito\",20,16]],\n",
    "                         schema=[\"Nombre\",\"Edad\",\"Nota\"],orient=\"row\") # ⬅️ Establecemos row para que los datos sean asignado como filas\n",
    "\n",
    "dataframe.head()\n",
    "\n",
    "\"\"\"\n",
    "💡 Importante: Al definir las columnas para el Dataframe debemos tener en cuenta que\n",
    "               se deben tener la misma cantidad de elementos de acuerdo a la cantidad de columnas,\n",
    "               caso contrario, generará un error porque ciertas filas, no tienen la misma cantidad\n",
    "               de elementos que la  columnas.\n",
    "\"\"\"\n",
    "\n",
    "# dataframe_valores_faltantes = pl.DataFrame(data=[[\"Brayan\",15],[\"Rafael\",15],[\"Pepito\",20]],\n",
    "#                                 schema=[\"Nombre\",\"Edad\",\"Nota\"])\n",
    "# dataframe_valores_faltantes.head() # ❌ Genera error porque los datos solo tiene 2 elementos y el dataframe presenta 3 columnas.\n"
   ]
  },
  {
   "cell_type": "code",
   "execution_count": null,
   "id": "5851f640",
   "metadata": {},
   "outputs": [
    {
     "data": {
      "text/html": [
       "<div><style>\n",
       ".dataframe > thead > tr,\n",
       ".dataframe > tbody > tr {\n",
       "  text-align: right;\n",
       "  white-space: pre-wrap;\n",
       "}\n",
       "</style>\n",
       "<small>shape: (3, 3)</small><table border=\"1\" class=\"dataframe\"><thead><tr><th>ColumnaNombre</th><th>ColumnaEdad</th><th>ColumnasEdad+10</th></tr><tr><td>str</td><td>i64</td><td>i64</td></tr></thead><tbody><tr><td>&quot;Brayan&quot;</td><td>21</td><td>31</td></tr><tr><td>&quot;Rafael&quot;</td><td>45</td><td>55</td></tr><tr><td>&quot;Pepito&quot;</td><td>19</td><td>29</td></tr></tbody></table></div>"
      ],
      "text/plain": [
       "shape: (3, 3)\n",
       "┌───────────────┬─────────────┬─────────────────┐\n",
       "│ ColumnaNombre ┆ ColumnaEdad ┆ ColumnasEdad+10 │\n",
       "│ ---           ┆ ---         ┆ ---             │\n",
       "│ str           ┆ i64         ┆ i64             │\n",
       "╞═══════════════╪═════════════╪═════════════════╡\n",
       "│ Brayan        ┆ 21          ┆ 31              │\n",
       "│ Rafael        ┆ 45          ┆ 55              │\n",
       "│ Pepito        ┆ 19          ┆ 29              │\n",
       "└───────────────┴─────────────┴─────────────────┘"
      ]
     },
     "execution_count": 30,
     "metadata": {},
     "output_type": "execute_result"
    }
   ],
   "source": [
    "# DEFINIR UN DATAFRAME COLUMNA POR COLUMNA\n",
    "\n",
    "dataframe_columna_a_columna = pl.DataFrame() # ⬅️ Inicializamos un dataframe vacío (Así como cuando inicializamos un objeto vacío en programación)\n",
    "dataframe_columna_a_columna.head()\n",
    "\n",
    "\"\"\"\n",
    "    📝Nota: Para poder definir columnas en un dataframe de Polars, debemos hacer referencia al dataframe, para poder\n",
    "            definir sus nuevas columnas y otros cambios que querramos realizar. Asimismo, podemos inicializar un dataframe vacío, \n",
    "            e ir llenandolo poco a poco (según sea la casuística).\n",
    "            \n",
    "            También, podemos mezclar el uso de series en los Dataframes, porque, las Series son <<columnas>>.\n",
    "\"\"\"\n",
    "\n",
    "\n",
    "dataframe_columna_a_columna = dataframe_columna_a_columna.with_columns( # ⬅️ Función que permite trabajar sobre o crear nuevas  columnas en un dataframe.\n",
    "        pl.Series(values=[\"Brayan\",\"Rafael\",\"Pepito\"],name=\"ColumnaNombre\",dtype=pl.String),  #⬅️ Definimos una columna con una serie.\n",
    "        pl.Series(values=[21,45,19],name=\"ColumnaEdad\",dtype=pl.Int64),  #⬅️ Definimos una columna con una serie.        \n",
    ")\n",
    "dataframe_columna_a_columna = dataframe_columna_a_columna.with_columns(\n",
    "        (pl.col(\"ColumnaEdad\")+10).alias(\"ColumnasEdad+10\") \n",
    "        # ✅ Función pl.col(NombreColumna) nos permite acceder a una columna en base a su nombre\n",
    "        # ✅ Función .alias(NuevoNombreColumna) nos permite renombrar una columna\n",
    ")\n",
    "dataframe_columna_a_columna.head()\n",
    "\n",
    "\"\"\"\n",
    "    💡Importante: Al definir columna por columna un dataframe en Polars debemos si o sí colocar\n",
    "                  la misma cantidad de datos entre cada columna.                  \n",
    "\"\"\"\n",
    "# dataframe_valores_faltantes = pl.DataFrame()\n",
    "# dataframe_valores_faltantes = dataframe_valores_faltantes.with_columns( # ⬅️ Función que permite trabajar sobre o crear nuevas  columnas en un dataframe.\n",
    "#         pl.Series(values=[\"Brayan\",\"Rafael\"],name=\"ColumnaNombre\",dtype=pl.String),  #⬅️ Definimos una columna con una serie.\n",
    "#         pl.Series(values=[21,45,19],name=\"ColumnaEdad\",dtype=pl.Int64),  #⬅️ Definimos una columna con una serie.        \n",
    "# )\n",
    "# dataframe_valores_faltantes.head()\n"
   ]
  },
  {
   "cell_type": "code",
   "execution_count": null,
   "id": "d1b5f5ca",
   "metadata": {},
   "outputs": [],
   "source": []
  }
 ],
 "metadata": {
  "kernelspec": {
   "display_name": "venv",
   "language": "python",
   "name": "python3"
  },
  "language_info": {
   "codemirror_mode": {
    "name": "ipython",
    "version": 3
   },
   "file_extension": ".py",
   "mimetype": "text/x-python",
   "name": "python",
   "nbconvert_exporter": "python",
   "pygments_lexer": "ipython3",
   "version": "3.11.5"
  }
 },
 "nbformat": 4,
 "nbformat_minor": 5
}
