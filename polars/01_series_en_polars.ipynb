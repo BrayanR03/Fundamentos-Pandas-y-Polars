{
 "cells": [
  {
   "cell_type": "markdown",
   "id": "a73a22a1",
   "metadata": {},
   "source": [
    "## ⚡ Analítica Turbo con Polars: Fundamentos que todo Analista Moderno debe conocer 🐻‍❄️"
   ]
  },
  {
   "cell_type": "markdown",
   "id": "15ee2147",
   "metadata": {},
   "source": [
    "---\n",
    "\n",
    "👨‍💻 Autor: Brayan Neciosup  \n",
    "📍 Portafolio: [brayanneciosup](https://bryanneciosup626.wixsite.com/brayandataanalitics)  \n",
    "🔗 LinkedIn: [linkedin.com/brayanneciosup](https://www.linkedin.com/in/brayan-rafael-neciosup-bola%C3%B1os-407a59246/)  \n",
    "💻 GitHub: [github.com/BrayanR03](https://github.com/BrayanR03)  \n",
    "📚 Serie: Fundamentos de Pandas y Polars\n"
   ]
  },
  {
   "cell_type": "code",
   "execution_count": 2,
   "id": "4b8a28e1",
   "metadata": {},
   "outputs": [],
   "source": [
    "# Instalar librería de polars: pip install polars\n",
    "# Importamos la librería\n",
    "import polars as pl"
   ]
  },
  {
   "cell_type": "markdown",
   "id": "c3824449",
   "metadata": {},
   "source": [
    "### 📌 Series en Polars: Rendimiento y Simplicidad en una dimensión"
   ]
  },
  {
   "cell_type": "markdown",
   "id": "01b08068",
   "metadata": {},
   "source": [
    "####  ✅DEFINICIÓN DE UNA SERIE EN POLARS 🐻‍❄️"
   ]
  },
  {
   "cell_type": "markdown",
   "id": "70b650fe",
   "metadata": {},
   "source": [
    "Sintaxis: \n",
    "\n",
    "serie = pl.Series(name = NombreColumnaSerie, values = ValoresSerie, dtype = pl.TipoDatoSegúnValores)\n",
    "\n",
    "**Importante: A diferencia de Pandas, Polars ya no trabaja con índices en sus Series y se define\n",
    "              el tipo de dato que tendrá la serie (int,str,object, entre otros..)\n",
    "              Sin embargo, al tener diferentes tipos de datos en la serie, y no definir mediante \"dtype\"\n",
    "              que tipo de datos se almacenarán, saldrá un error al imprimir la serie."
   ]
  },
  {
   "cell_type": "code",
   "execution_count": 13,
   "id": "312380c4",
   "metadata": {},
   "outputs": [
    {
     "name": "stdout",
     "output_type": "stream",
     "text": [
      "==== SERIE 1 - UN SOLO TIPO DE DATO\n",
      "shape: (5,)\n",
      "Series: 'Valores' [i64]\n",
      "[\n",
      "\t1\n",
      "\t2\n",
      "\t3\n",
      "\t4\n",
      "\t5\n",
      "]\n",
      "==== SERIE 2 - VARIOS TIPOS DE DATOS\n",
      "shape: (5,)\n",
      "Series: 'Valores2' [o][object]\n",
      "[\n",
      "\t1\n",
      "\t2\n",
      "\tTrue\n",
      "\t2.5\n",
      "\tHola\n",
      "]\n"
     ]
    }
   ],
   "source": [
    "# Serie - Ejemplo 1 (Un solo tipo de dato):\n",
    "data_1=[1,2,3,4,5]\n",
    "serie_1=pl.Series(name=\"Valores\",values=data_1,dtype=pl.Int64)\n",
    "print(\"==== SERIE 1 - UN SOLO TIPO DE DATO\") \n",
    "print(serie_1)\n",
    "                                                # 💡💡➡️SIEMPRE DEFINIR EL TIPO DE DATO EN LA SERIE\n",
    "# Serie - Ejemplo 2 (Varios tipos de datos):\n",
    "data_2=[1,2,True,2.5,\"Hola\"]\n",
    "serie_2=pl.Series(name=\"Valores2\",values=data_2,dtype=pl.Object)\n",
    "print(\"==== SERIE 2 - VARIOS TIPOS DE DATOS\") \n",
    "print(serie_2)\n",
    "\n",
    "# # Serie - Ejemplo 3 (Sin definir tipo de dato - error ❌):\n",
    "# data_3=[1,2,True,2.5,\"Hola\"]\n",
    "# serie_3=pl.Series(name=\"Valores3\",values=data_3)\n",
    "# print(\"==== SERIE 3 - VARIOS TIPOS DE DATOS ❌\") \n",
    "# print(serie_3)\n"
   ]
  },
  {
   "cell_type": "markdown",
   "id": "e9ea2b4b",
   "metadata": {},
   "source": [
    "#### ✅ OPERACIONES CON SERIES EN POLARS 🐻‍❄️"
   ]
  },
  {
   "cell_type": "code",
   "execution_count": 44,
   "id": "c6d4235b",
   "metadata": {},
   "outputs": [
    {
     "data": {
      "text/html": [
       "<div><style>\n",
       ".dataframe > thead > tr,\n",
       ".dataframe > tbody > tr {\n",
       "  text-align: right;\n",
       "  white-space: pre-wrap;\n",
       "}\n",
       "</style>\n",
       "<small>shape: (7,)</small><table border=\"1\" class=\"dataframe\"><thead><tr><th>Valores</th></tr><tr><td>i64</td></tr></thead><tbody><tr><td>10</td></tr><tr><td>15</td></tr><tr><td>35</td></tr><tr><td>2</td></tr><tr><td>82</td></tr><tr><td>15</td></tr><tr><td>13</td></tr></tbody></table></div>"
      ],
      "text/plain": [
       "shape: (7,)\n",
       "Series: 'Valores' [i64]\n",
       "[\n",
       "\t10\n",
       "\t15\n",
       "\t35\n",
       "\t2\n",
       "\t82\n",
       "\t15\n",
       "\t13\n",
       "]"
      ]
     },
     "execution_count": 44,
     "metadata": {},
     "output_type": "execute_result"
    }
   ],
   "source": [
    "serie_example = pl.Series(name=\"Valores\",values=[10,15,35,2,82,15,13],dtype=pl.Int64) # ⬅️ Trabajaremos con un solo tipo de dato (Int64) \n",
    "serie_example"
   ]
  },
  {
   "cell_type": "code",
   "execution_count": 16,
   "id": "e610f90f",
   "metadata": {},
   "outputs": [
    {
     "name": "stdout",
     "output_type": "stream",
     "text": [
      "15\n"
     ]
    }
   ],
   "source": [
    "# a). Obtener un valor por el índice establecido\n",
    "print(serie_example[5]) # ⬅️ Accedemos el elemento del índice 5\n"
   ]
  },
  {
   "cell_type": "code",
   "execution_count": null,
   "id": "04135aff",
   "metadata": {},
   "outputs": [
    {
     "name": "stdout",
     "output_type": "stream",
     "text": [
      "shape: (2,)\n",
      "Series: 'Valores' [i64]\n",
      "[\n",
      "\t35\n",
      "\t82\n",
      "]\n"
     ]
    }
   ],
   "source": [
    "# b). Filtrar valores: Para realizar el filtrado debemos llamar al método .filter() y aplicar la condición.\n",
    "# Sintaxis: serie_nombre.filter(serie_nombre + condición) ⬅️ condiciones usando operadores lógicos: > | < | = | >= | <= | !=\n",
    "# Ejemplo : \n",
    "print(serie_example.filter(serie_example>18))  # ( Valores de la serie mayores a 18 )"
   ]
  },
  {
   "cell_type": "code",
   "execution_count": 18,
   "id": "e22f6a3c",
   "metadata": {},
   "outputs": [
    {
     "data": {
      "text/html": [
       "<div><style>\n",
       ".dataframe > thead > tr,\n",
       ".dataframe > tbody > tr {\n",
       "  text-align: right;\n",
       "  white-space: pre-wrap;\n",
       "}\n",
       "</style>\n",
       "<small>shape: (7,)</small><table border=\"1\" class=\"dataframe\"><thead><tr><th>ValorNuevo</th></tr><tr><td>i64</td></tr></thead><tbody><tr><td>20</td></tr><tr><td>25</td></tr><tr><td>45</td></tr><tr><td>12</td></tr><tr><td>92</td></tr><tr><td>25</td></tr><tr><td>23</td></tr></tbody></table></div>"
      ],
      "text/plain": [
       "shape: (7,)\n",
       "Series: 'ValorNuevo' [i64]\n",
       "[\n",
       "\t20\n",
       "\t25\n",
       "\t45\n",
       "\t12\n",
       "\t92\n",
       "\t25\n",
       "\t23\n",
       "]"
      ]
     },
     "execution_count": 18,
     "metadata": {},
     "output_type": "execute_result"
    }
   ],
   "source": [
    "# c). Realizar operaciones aritméticas básicas:\n",
    "# Sintaxis: \n",
    "# operacion_serie = nombre_serie + | - | / | * \n",
    "\n",
    "# Estas operaciones a realizar, devuelven una estructura \"ambigua\" en Polars. Por ello, si queremos convertirla a\n",
    "# un formato mas legible, realizamos los pasos para definir la serie.\n",
    "\n",
    "# new_serie = pl.Series(name=NombreColumna,values=new_serie,dtype=pl.Int64)\n",
    "\n",
    "# Ejemplo:\n",
    "aumentar_serie = serie_example + 10  # ( Aumentar en 10, cada valor de la serie )\n",
    "# print(aumentar_serie) # ⬅️ Formato \"ambiguo\"\n",
    "new_serie = pl.Series(name=\"ValorNuevo\",values=aumentar_serie,dtype=pl.Int64)\n",
    "new_serie # ⬅️✅Formato mas legible\n",
    " "
   ]
  },
  {
   "cell_type": "code",
   "execution_count": 68,
   "id": "bff18cd3",
   "metadata": {},
   "outputs": [
    {
     "name": "stdout",
     "output_type": "stream",
     "text": [
      "shape: (7,)\n",
      "Series: 'Valores' [i64]\n",
      "[\n",
      "\t10\n",
      "\t15\n",
      "\t100\n",
      "\t2\n",
      "\t100\n",
      "\t15\n",
      "\t13\n",
      "]\n",
      "shape: (7,)\n",
      "Series: 'Valores' [i64]\n",
      "[\n",
      "\t10\n",
      "\t15\n",
      "\t100\n",
      "\t2\n",
      "\t82\n",
      "\t15\n",
      "\t13\n",
      "]\n"
     ]
    }
   ],
   "source": [
    "# d). Reemplazar valores de series: \n",
    "# Las series al ser mutables, debemos almacenarlas en nuevas variables para que se reemplace.\n",
    "# Además, si deseamos realizar condiciones para el reemplazo de valores, usaremos numpy.\n",
    "# Sintaxis:\n",
    "# new_serie = serie.replace({ValorAntiguoEnSerie:ValorNuevoAReemplazar}) ⬅️ método .replace() solo para valores individuales\n",
    "# serie_condicionada = np.where(serie_example>30,100,serie_example) ⬅️ usando np.where() de numpy para condiciones de valores múltiples\n",
    "\n",
    "# Ejemplo 1: Usando numpy - Instalar librería de numpy: pip install numpy\n",
    "import numpy as np\n",
    "serie_condicionada = np.where(serie_example>30,100,serie_example) # ⬅️ Condiciones de varios valores usando np.where()\n",
    "new_serie_1 = pl.Series(values=serie_condicionada,name=\"Valores\") # ⬅️ Formateamos a una serie el array devuelto por numpy.\n",
    "print(new_serie_1)\n",
    "# Ejemplo 2:\n",
    "new_serie_2 = serie_example.replace({35:100}) # ⬅️ Reemplazamos valores individuales sin condición (30 por 100)\n",
    "print(new_serie_2)"
   ]
  },
  {
   "cell_type": "markdown",
   "id": "10943f4b",
   "metadata": {},
   "source": [
    "### 📌 Dataframes en Polars: ..."
   ]
  },
  {
   "cell_type": "markdown",
   "id": "f71c750e",
   "metadata": {},
   "source": [
    "####  ✅DEFINICIÓN DE UN DATAFRAME EN POLARS 🐻‍❄️"
   ]
  },
  {
   "cell_type": "markdown",
   "id": "2e4d90b9",
   "metadata": {},
   "source": [
    "Son estructuras de datos bidimensionales, que permiten almacenar información en forma de una matriz (FilasxColumnas),\n",
    "las cuáles, deben estar de acorde al tipo de dato definido en la columna. Sin embargo, a diferencia de Pandas, Polars\n",
    "presenta una optimización en la manipulación de la informació, debido que distribuye la lectura de los diversos\n",
    "orígenes de datos en todos los núcleos del procesador.\n",
    "\n",
    "SINTAXIS:\n",
    "\n",
    "        dataframe_nombre = pl.DataFrame(data=DatosDataframe,schema=NombreColumnasPreviamenteDefinidas,orient= row[usado] | col)"
   ]
  },
  {
   "cell_type": "code",
   "execution_count": null,
   "id": "a86c245a",
   "metadata": {},
   "outputs": [
    {
     "data": {
      "text/html": [
       "<div><style>\n",
       ".dataframe > thead > tr,\n",
       ".dataframe > tbody > tr {\n",
       "  text-align: right;\n",
       "  white-space: pre-wrap;\n",
       "}\n",
       "</style>\n",
       "<small>shape: (3, 3)</small><table border=\"1\" class=\"dataframe\"><thead><tr><th>Nombre</th><th>Edad</th><th>Nota</th></tr><tr><td>str</td><td>i64</td><td>i64</td></tr></thead><tbody><tr><td>&quot;Brayan&quot;</td><td>25</td><td>15</td></tr><tr><td>&quot;Rafael&quot;</td><td>27</td><td>10</td></tr><tr><td>&quot;Pepito&quot;</td><td>20</td><td>16</td></tr></tbody></table></div>"
      ],
      "text/plain": [
       "shape: (3, 3)\n",
       "┌────────┬──────┬──────┐\n",
       "│ Nombre ┆ Edad ┆ Nota │\n",
       "│ ---    ┆ ---  ┆ ---  │\n",
       "│ str    ┆ i64  ┆ i64  │\n",
       "╞════════╪══════╪══════╡\n",
       "│ Brayan ┆ 25   ┆ 15   │\n",
       "│ Rafael ┆ 27   ┆ 10   │\n",
       "│ Pepito ┆ 20   ┆ 16   │\n",
       "└────────┴──────┴──────┘"
      ]
     },
     "execution_count": 2,
     "metadata": {},
     "output_type": "execute_result"
    }
   ],
   "source": [
    "# DEFINIR UN DATAFRAME MEDIANTE UN DICCIONARIO\n",
    "\"\"\"\n",
    "📝 Nota: Si queremos definir un dataframe desde un diccionario, las claves del diccionario se convertirán\n",
    "         en las columnas del dataframe y los valores serán la información almacenada bidireccionalmente\n",
    "         por cada columna del dataframe.\n",
    "\"\"\"\n",
    "diccionario_example = {\n",
    "    \"Nombre\":[\"Brayan\",\"Rafael\",\"Pepito\"],\n",
    "    \"Edad\": [25,27,20],\n",
    "    \"Nota\":[15,10,16]\n",
    "}\n",
    "dict_to_df = pl.DataFrame(diccionario_example)\n",
    "dict_to_df.head() # ⬅️ Función básica que permite ver los 5 primeros registros de un dataframe. \n",
    "### 💡 Adicionalmente, Polars muestra el tipo de dato de las columnas del dataframe"
   ]
  },
  {
   "cell_type": "code",
   "execution_count": null,
   "id": "8e64f6e1",
   "metadata": {},
   "outputs": [
    {
     "data": {
      "text/html": [
       "<div><style>\n",
       ".dataframe > thead > tr,\n",
       ".dataframe > tbody > tr {\n",
       "  text-align: right;\n",
       "  white-space: pre-wrap;\n",
       "}\n",
       "</style>\n",
       "<small>shape: (3, 3)</small><table border=\"1\" class=\"dataframe\"><thead><tr><th>Nombre</th><th>Edad</th><th>Nota</th></tr><tr><td>str</td><td>i64</td><td>i64</td></tr></thead><tbody><tr><td>&quot;Brayan&quot;</td><td>25</td><td>15</td></tr><tr><td>&quot;Rafael&quot;</td><td>27</td><td>10</td></tr><tr><td>&quot;Pepito&quot;</td><td>20</td><td>16</td></tr></tbody></table></div>"
      ],
      "text/plain": [
       "shape: (3, 3)\n",
       "┌────────┬──────┬──────┐\n",
       "│ Nombre ┆ Edad ┆ Nota │\n",
       "│ ---    ┆ ---  ┆ ---  │\n",
       "│ str    ┆ i64  ┆ i64  │\n",
       "╞════════╪══════╪══════╡\n",
       "│ Brayan ┆ 25   ┆ 15   │\n",
       "│ Rafael ┆ 27   ┆ 10   │\n",
       "│ Pepito ┆ 20   ┆ 16   │\n",
       "└────────┴──────┴──────┘"
      ]
     },
     "execution_count": 18,
     "metadata": {},
     "output_type": "execute_result"
    }
   ],
   "source": [
    "# DEFINIR UN DATAFRAME DESDE CERO\n",
    "dataframe = pl.DataFrame(data=[[\"Brayan\",25,15],[\"Rafael\",27,10],[\"Pepito\",20,16]],\n",
    "                         schema=[\"Nombre\",\"Edad\",\"Nota\"],orient=\"row\") # ⬅️ Establecemos row para que los datos sean asignado como filas\n",
    "\n",
    "dataframe.head()\n",
    "\n",
    "\"\"\"\n",
    "💡 Importante: Al definir las columnas para el Dataframe debemos tener en cuenta que\n",
    "               se deben tener la misma cantidad de elementos de acuerdo a la cantidad de columnas,\n",
    "               caso contrario, generará un error porque ciertas filas, no tienen la misma cantidad\n",
    "               de elementos que la  columnas.\n",
    "\"\"\"\n",
    "\n",
    "# dataframe_valores_faltantes = pl.DataFrame(data=[[\"Brayan\",15],[\"Rafael\",15],[\"Pepito\",20]],\n",
    "#                                 schema=[\"Nombre\",\"Edad\",\"Nota\"])\n",
    "# dataframe_valores_faltantes.head() # ❌ Genera error porque los datos solo tiene 2 elementos y el dataframe presenta 3 columnas.\n"
   ]
  },
  {
   "cell_type": "code",
   "execution_count": null,
   "id": "5851f640",
   "metadata": {},
   "outputs": [
    {
     "data": {
      "text/html": [
       "<div><style>\n",
       ".dataframe > thead > tr,\n",
       ".dataframe > tbody > tr {\n",
       "  text-align: right;\n",
       "  white-space: pre-wrap;\n",
       "}\n",
       "</style>\n",
       "<small>shape: (3, 3)</small><table border=\"1\" class=\"dataframe\"><thead><tr><th>ColumnaNombre</th><th>ColumnaEdad</th><th>ColumnasEdad+10</th></tr><tr><td>str</td><td>i64</td><td>i64</td></tr></thead><tbody><tr><td>&quot;Brayan&quot;</td><td>21</td><td>31</td></tr><tr><td>&quot;Rafael&quot;</td><td>45</td><td>55</td></tr><tr><td>&quot;Pepito&quot;</td><td>19</td><td>29</td></tr></tbody></table></div>"
      ],
      "text/plain": [
       "shape: (3, 3)\n",
       "┌───────────────┬─────────────┬─────────────────┐\n",
       "│ ColumnaNombre ┆ ColumnaEdad ┆ ColumnasEdad+10 │\n",
       "│ ---           ┆ ---         ┆ ---             │\n",
       "│ str           ┆ i64         ┆ i64             │\n",
       "╞═══════════════╪═════════════╪═════════════════╡\n",
       "│ Brayan        ┆ 21          ┆ 31              │\n",
       "│ Rafael        ┆ 45          ┆ 55              │\n",
       "│ Pepito        ┆ 19          ┆ 29              │\n",
       "└───────────────┴─────────────┴─────────────────┘"
      ]
     },
     "execution_count": 30,
     "metadata": {},
     "output_type": "execute_result"
    }
   ],
   "source": [
    "# DEFINIR UN DATAFRAME COLUMNA POR COLUMNA\n",
    "\n",
    "dataframe_columna_a_columna = pl.DataFrame() # ⬅️ Inicializamos un dataframe vacío (Así como cuando inicializamos un objeto vacío en programación)\n",
    "dataframe_columna_a_columna.head()\n",
    "\n",
    "\"\"\"\n",
    "    📝Nota: Para poder definir columnas en un dataframe de Polars, debemos hacer referencia al dataframe, para poder\n",
    "            definir sus nuevas columnas y otros cambios que querramos realizar. Asimismo, podemos inicializar un dataframe vacío, \n",
    "            e ir llenandolo poco a poco (según sea la casuística).\n",
    "            \n",
    "            También, podemos mezclar el uso de series en los Dataframes, porque, las Series son <<columnas>>.\n",
    "\"\"\"\n",
    "\n",
    "\n",
    "dataframe_columna_a_columna = dataframe_columna_a_columna.with_columns( # ⬅️ Función que permite trabajar sobre o crear nuevas  columnas en un dataframe.\n",
    "        pl.Series(values=[\"Brayan\",\"Rafael\",\"Pepito\"],name=\"ColumnaNombre\",dtype=pl.String),  #⬅️ Definimos una columna con una serie.\n",
    "        pl.Series(values=[21,45,19],name=\"ColumnaEdad\",dtype=pl.Int64),  #⬅️ Definimos una columna con una serie.        \n",
    ")\n",
    "dataframe_columna_a_columna = dataframe_columna_a_columna.with_columns(\n",
    "        (pl.col(\"ColumnaEdad\")+10).alias(\"ColumnasEdad+10\") \n",
    "        # ✅ Función pl.col(NombreColumna) nos permite acceder a una columna en base a su nombre\n",
    "        # ✅ Función .alias(NuevoNombreColumna) nos permite renombrar una columna\n",
    ")\n",
    "dataframe_columna_a_columna.head()\n",
    "\n",
    "\"\"\"\n",
    "    💡Importante: Al definir columna por columna un dataframe en Polars debemos si o sí colocar\n",
    "                  la misma cantidad de datos entre cada columna.                  \n",
    "\"\"\"\n",
    "# dataframe_valores_faltantes = pl.DataFrame()\n",
    "# dataframe_valores_faltantes = dataframe_valores_faltantes.with_columns( # ⬅️ Función que permite trabajar sobre o crear nuevas  columnas en un dataframe.\n",
    "#         pl.Series(values=[\"Brayan\",\"Rafael\"],name=\"ColumnaNombre\",dtype=pl.String),  #⬅️ Definimos una columna con una serie.\n",
    "#         pl.Series(values=[21,45,19],name=\"ColumnaEdad\",dtype=pl.Int64),  #⬅️ Definimos una columna con una serie.        \n",
    "# )\n",
    "# dataframe_valores_faltantes.head()\n"
   ]
  },
  {
   "cell_type": "markdown",
   "id": "5bab94cb",
   "metadata": {},
   "source": [
    "#### ✅ OPERACIONES CON DATAFRAMES EN POLARS 🐻‍❄️"
   ]
  },
  {
   "cell_type": "code",
   "execution_count": 3,
   "id": "442baa44",
   "metadata": {},
   "outputs": [
    {
     "data": {
      "text/html": [
       "<div><style>\n",
       ".dataframe > thead > tr,\n",
       ".dataframe > tbody > tr {\n",
       "  text-align: right;\n",
       "  white-space: pre-wrap;\n",
       "}\n",
       "</style>\n",
       "<small>shape: (3, 3)</small><table border=\"1\" class=\"dataframe\"><thead><tr><th>Nombre</th><th>Edad</th><th>Nota</th></tr><tr><td>str</td><td>i64</td><td>i64</td></tr></thead><tbody><tr><td>&quot;BRAYAN&quot;</td><td>15</td><td>13</td></tr><tr><td>&quot;RAFAEL&quot;</td><td>25</td><td>19</td></tr><tr><td>&quot;PEPITO&quot;</td><td>20</td><td>10</td></tr></tbody></table></div>"
      ],
      "text/plain": [
       "shape: (3, 3)\n",
       "┌────────┬──────┬──────┐\n",
       "│ Nombre ┆ Edad ┆ Nota │\n",
       "│ ---    ┆ ---  ┆ ---  │\n",
       "│ str    ┆ i64  ┆ i64  │\n",
       "╞════════╪══════╪══════╡\n",
       "│ BRAYAN ┆ 15   ┆ 13   │\n",
       "│ RAFAEL ┆ 25   ┆ 19   │\n",
       "│ PEPITO ┆ 20   ┆ 10   │\n",
       "└────────┴──────┴──────┘"
      ]
     },
     "execution_count": 3,
     "metadata": {},
     "output_type": "execute_result"
    }
   ],
   "source": [
    "df_example = pl.DataFrame(data=[[\"BRAYAN\",15,13],[\"RAFAEL\",25,19],[\"PEPITO\",20,10]],\n",
    "                          schema=[\"Nombre\",\"Edad\",\"Nota\"],orient=\"row\")\n",
    "df_example.head()"
   ]
  },
  {
   "cell_type": "code",
   "execution_count": null,
   "id": "72710954",
   "metadata": {},
   "outputs": [
    {
     "data": {
      "text/html": [
       "<div><style>\n",
       ".dataframe > thead > tr,\n",
       ".dataframe > tbody > tr {\n",
       "  text-align: right;\n",
       "  white-space: pre-wrap;\n",
       "}\n",
       "</style>\n",
       "<small>shape: (3, 2)</small><table border=\"1\" class=\"dataframe\"><thead><tr><th>Nota</th><th>Nombre</th></tr><tr><td>i64</td><td>str</td></tr></thead><tbody><tr><td>13</td><td>&quot;BRAYAN&quot;</td></tr><tr><td>19</td><td>&quot;RAFAEL&quot;</td></tr><tr><td>10</td><td>&quot;PEPITO&quot;</td></tr></tbody></table></div>"
      ],
      "text/plain": [
       "shape: (3, 2)\n",
       "┌──────┬────────┐\n",
       "│ Nota ┆ Nombre │\n",
       "│ ---  ┆ ---    │\n",
       "│ i64  ┆ str    │\n",
       "╞══════╪════════╡\n",
       "│ 13   ┆ BRAYAN │\n",
       "│ 19   ┆ RAFAEL │\n",
       "│ 10   ┆ PEPITO │\n",
       "└──────┴────────┘"
      ]
     },
     "execution_count": 7,
     "metadata": {},
     "output_type": "execute_result"
    }
   ],
   "source": [
    "# A). OBTENER EL VALOR O VALORES DE LA COLUMNA DE UN DATAFRAME MEDIANTE SU NOMBRE.\n",
    "\n",
    "\"\"\"\n",
    "    📝 SINTAXIS: \n",
    "    \n",
    "        dataframe_nombre[NombreColumna] ⬅️ Llamamos al dataframe directamente o\n",
    "        print(dataframe_nombre[NombreColumna]) ⬅️ Usamos print()\n",
    "        \n",
    "        **Importante: Cuando llamamos con solo un par de corchetes \"[]\", muestra los resultados,\n",
    "                      \n",
    "        ### 🧠 Tengamos en cuenta que podemos almacenar el resultado de estas operaciones en variables. \n",
    "\"\"\"\n",
    "# 💡 EJEMPLO 1: Obtener valores de una columna\n",
    "# df_example[\"Nota\"]\n",
    "\n",
    "# 💡 EJEMPLO 2: Obtener valores de varias columnas\n",
    "df_example[[\"Nota\",\"Nombre\"]]"
   ]
  },
  {
   "cell_type": "code",
   "execution_count": 14,
   "id": "c4b4899f",
   "metadata": {},
   "outputs": [
    {
     "data": {
      "text/html": [
       "<div><style>\n",
       ".dataframe > thead > tr,\n",
       ".dataframe > tbody > tr {\n",
       "  text-align: right;\n",
       "  white-space: pre-wrap;\n",
       "}\n",
       "</style>\n",
       "<small>shape: (1, 3)</small><table border=\"1\" class=\"dataframe\"><thead><tr><th>Nombre</th><th>Edad</th><th>Nota</th></tr><tr><td>str</td><td>i64</td><td>i64</td></tr></thead><tbody><tr><td>&quot;BRAYAN&quot;</td><td>15</td><td>13</td></tr></tbody></table></div>"
      ],
      "text/plain": [
       "shape: (1, 3)\n",
       "┌────────┬──────┬──────┐\n",
       "│ Nombre ┆ Edad ┆ Nota │\n",
       "│ ---    ┆ ---  ┆ ---  │\n",
       "│ str    ┆ i64  ┆ i64  │\n",
       "╞════════╪══════╪══════╡\n",
       "│ BRAYAN ┆ 15   ┆ 13   │\n",
       "└────────┴──────┴──────┘"
      ]
     },
     "execution_count": 14,
     "metadata": {},
     "output_type": "execute_result"
    }
   ],
   "source": [
    "# B). OBTENER UNA FILA DE VALORES ESPECÍFICAS DEL DATAFRAME\n",
    "\n",
    "\"\"\"\n",
    "    📝 SINTAXIS:\n",
    "    \n",
    "        dataframe_nombre[NumeroIndice] ⬅️ Recordemos que el indice empieza en 0.\n",
    "    \n",
    "    💡 Importante: Tener en cuenta que el índice o número a ingresar, no debe superar \n",
    "                    el tamaño de valores.    \n",
    "        \n",
    "    ### 🧠 Tengamos en cuenta que podemos almacenar el resultado de estas operaciones en variables.\n",
    "\"\"\"\n",
    "\n",
    "# 💡 EJEMPLO 1: NÚMERO DE ÍNDICE CORRECTO ✅ \n",
    "df_example[0] # ⬅️ Número de indice: 2 (Retorna todos los registros de la fila 1, índice 0).\n",
    "\n",
    "## 💡 EJEMPLO 2: NÚMERO DE ÍNDICE INCORRECTO ❌ \n",
    "\n",
    "## df_example[3] # ⬅️ Número de indice: 3.\n",
    "## ❌ Error: Índice fuera de los límites"
   ]
  },
  {
   "cell_type": "code",
   "execution_count": 17,
   "id": "e95b8711",
   "metadata": {},
   "outputs": [
    {
     "name": "stdout",
     "output_type": "stream",
     "text": [
      "19\n"
     ]
    }
   ],
   "source": [
    "# C). OBTENER UN VALOR ESPECÍFICO DE UN REGISTRO, BASADO EN SU NÚMERO DE ÍNDICE\n",
    "#     Y EL NOMBRE DE UNA COLUMNA.\n",
    "\"\"\"\n",
    "    📝 SINTAXIS: \n",
    "    \n",
    "        dataframe_nombre[NumeroIndice,NombreColumna] ⬅️ De esta manera accederemos solo a valores específicos.\n",
    "        \n",
    "        ### 🧠 Tengamos en cuenta que podemos almacenar el resultado de estas operaciones en variables.\n",
    "\"\"\"\n",
    "# 💡 EJEMPLO: \n",
    "# df_example[1,\"Nota\"] # ⬅️ Accedemos a la fila con índice 1 y la columna de nombre Nota.\n",
    "print(df_example[1,\"Nota\"]) # ⬅️ Accedemos a la fila con índice 1 y la columna de nombre Nota."
   ]
  },
  {
   "cell_type": "code",
   "execution_count": null,
   "id": "d274fc83",
   "metadata": {},
   "outputs": [
    {
     "data": {
      "text/html": [
       "<div><style>\n",
       ".dataframe > thead > tr,\n",
       ".dataframe > tbody > tr {\n",
       "  text-align: right;\n",
       "  white-space: pre-wrap;\n",
       "}\n",
       "</style>\n",
       "<small>shape: (2, 3)</small><table border=\"1\" class=\"dataframe\"><thead><tr><th>Nombre</th><th>Edad</th><th>Nota</th></tr><tr><td>str</td><td>i64</td><td>i64</td></tr></thead><tbody><tr><td>&quot;RAFAEL&quot;</td><td>25</td><td>19</td></tr><tr><td>&quot;PEPITO&quot;</td><td>20</td><td>10</td></tr></tbody></table></div>"
      ],
      "text/plain": [
       "shape: (2, 3)\n",
       "┌────────┬──────┬──────┐\n",
       "│ Nombre ┆ Edad ┆ Nota │\n",
       "│ ---    ┆ ---  ┆ ---  │\n",
       "│ str    ┆ i64  ┆ i64  │\n",
       "╞════════╪══════╪══════╡\n",
       "│ RAFAEL ┆ 25   ┆ 19   │\n",
       "│ PEPITO ┆ 20   ┆ 10   │\n",
       "└────────┴──────┴──────┘"
      ]
     },
     "execution_count": 25,
     "metadata": {},
     "output_type": "execute_result"
    }
   ],
   "source": [
    "# D). FILTRAR VALORES EN UN DATAFRAME:\n",
    "\n",
    "\"\"\" \n",
    "    Para realizar el filtro de valores nos basaremos en condiciones que la o las columnas\n",
    "    deben cumplir. Por ende, ya no utilizaremos el método .query() o el filtrado a través []\n",
    "    como en Pandas, sino mediante su propia función .filter().\n",
    "    \n",
    "   💡 Importante: Para poder acceder a una columna y realizar el filtro correspondiente,\n",
    "       utilizaremos pl.col() que crea una expresión de la columna verificando su existencia.\n",
    "    \n",
    "    📝 SINTAXIS:\n",
    "     \n",
    "        dataframe_nombre.filter( ⬅️ Método filter() para realizar filtrado.\n",
    "                pl.col(NombreColumna) |CondicionColumna|        ⬅️ Filtramos por una columna.\n",
    "                (pl.col(NombreColumna1) |CondicionColumna1| ) & \n",
    "                (pl.col(NombreColumna2) |CondicionColumna2| )   ⬅️ Filtramos por varias columnas.\n",
    "        )\n",
    "        \n",
    "        ( > || < || >= || <= || != ) ⬅️ Operadores lógicos \n",
    "        \n",
    "        ### 🧠 Tengamos en cuenta que podemos almacenar el resultado de estas operaciones en variables.\n",
    "\"\"\"\n",
    "# 💡 EJEMPLO 1: USANDO OPERADORES LÓGICOS (EN UNA COLUMNA)\n",
    "\n",
    "# df_example.filter(pl.col(\"Nota\")>15) # ⬅️ Notas mayores a 15\n",
    "# df_example.filter(pl.col(\"Nombre\")!='RAFAEL') # ⬅️ Todos los nombre diferentes a RAFAEL\n",
    "\n",
    "# 💡 EJEMPLO 2: USANDO OPERADORES LÓGICOS (EN MÁS DE UNA COLUMNA)\n",
    "\n",
    "# df_example.filter((pl.col(\"Edad\")==20) & (pl.col(\"Nota\")==10)) # ⬅️ Edad igual a 20 y Nota 10. (2 columnas)\n",
    "## ➡️ Cada condición de filtro, la debemos separar mediante paréntesis ().\n",
    "\n",
    "# 💡 EJEMPLO 3:\n",
    "\n",
    "df_filtrado = df_example.filter((pl.col(\"Edad\")==20) | (pl.col(\"Nota\")==19)) # Filtrando por dos columnas (Usamos or)\n",
    "df_filtrado.head()"
   ]
  },
  {
   "cell_type": "code",
   "execution_count": null,
   "id": "345bbfd8",
   "metadata": {},
   "outputs": [
    {
     "data": {
      "text/html": [
       "<div><style>\n",
       ".dataframe > thead > tr,\n",
       ".dataframe > tbody > tr {\n",
       "  text-align: right;\n",
       "  white-space: pre-wrap;\n",
       "}\n",
       "</style>\n",
       "<small>shape: (3, 6)</small><table border=\"1\" class=\"dataframe\"><thead><tr><th>Nombre</th><th>Edad</th><th>Nota</th><th>Puntaje</th><th>Ranking</th><th>Extra</th></tr><tr><td>str</td><td>i64</td><td>i64</td><td>i64</td><td>i64</td><td>f64</td></tr></thead><tbody><tr><td>&quot;BRAYAN&quot;</td><td>15</td><td>13</td><td>1</td><td>13</td><td>13.0</td></tr><tr><td>&quot;RAFAEL&quot;</td><td>25</td><td>19</td><td>2</td><td>38</td><td>9.5</td></tr><tr><td>&quot;PEPITO&quot;</td><td>20</td><td>10</td><td>3</td><td>30</td><td>3.333333</td></tr></tbody></table></div>"
      ],
      "text/plain": [
       "shape: (3, 6)\n",
       "┌────────┬──────┬──────┬─────────┬─────────┬──────────┐\n",
       "│ Nombre ┆ Edad ┆ Nota ┆ Puntaje ┆ Ranking ┆ Extra    │\n",
       "│ ---    ┆ ---  ┆ ---  ┆ ---     ┆ ---     ┆ ---      │\n",
       "│ str    ┆ i64  ┆ i64  ┆ i64     ┆ i64     ┆ f64      │\n",
       "╞════════╪══════╪══════╪═════════╪═════════╪══════════╡\n",
       "│ BRAYAN ┆ 15   ┆ 13   ┆ 1       ┆ 13      ┆ 13.0     │\n",
       "│ RAFAEL ┆ 25   ┆ 19   ┆ 2       ┆ 38      ┆ 9.5      │\n",
       "│ PEPITO ┆ 20   ┆ 10   ┆ 3       ┆ 30      ┆ 3.333333 │\n",
       "└────────┴──────┴──────┴─────────┴─────────┴──────────┘"
      ]
     },
     "execution_count": 32,
     "metadata": {},
     "output_type": "execute_result"
    }
   ],
   "source": [
    "# E). AGREGAR UNA O VARIAS COLUMNAS AL DATAFRAME:\n",
    "\n",
    "\"\"\"\n",
    "    Para poder agregar una nueva columna en Polars, a diferencia de Pandas que donde se definía\n",
    "    entre [] una nueva columna, en Polars, usamos metodos directamente al dataframe, este método\n",
    "    es .with_columns(), donde podemos crear columnas nuevas a raíz del cálculo de otras columnas.\n",
    "    \n",
    "    📝 SINTAXIS:\n",
    "\n",
    "        dataframe_nombre = dataframe_nombre.with_columns(\n",
    "            pl.col(NombreColumna).alias(\"NombreNuevaColumna\")  ⬅️ Primera forma de crear una nueva columna (recomendada).\n",
    "            NombreNuevaColumna = pl.col(NombreColumnaCalculo)  ⬅️ Segunda forma de crear una nueva columna.\n",
    "            pl.Series(values=[Valores],name=\"NombreNuevaColumna\",dtype=TipoDato) ⬅️ Tercera forma de crear una nueva columna (serie).\n",
    "        )\n",
    "        \n",
    "    ### ⚠️ Tengamos en cuenta que para realizar cambios al dataframe, debemos llamar al dataframe otra vez.\n",
    "\"\"\"\n",
    "\n",
    "# 💡 EJERCICIO 1: NUEVA COLUMNA CON INFORMACIÓN\n",
    "\n",
    "df_example = df_example.with_columns(\n",
    "    pl.Series(values=[1,2,3],name=\"Puntaje\",dtype=pl.Int64) \n",
    "    # ⬅️ Recodemos que para esta forma de agregar información\n",
    "    #    debe contener la misma cantidad de datos que \n",
    "    #    el total de registros.\n",
    ")\n",
    "# df_example.head()\n",
    "\n",
    "# 💡 EJERCICIO 2: NUEVA COLUMNA CALCULADA v1.\n",
    "df_example = df_example.with_columns(\n",
    "    (pl.col(\"Nota\")*pl.col(\"Puntaje\")).alias(\"Ranking\")\n",
    ")                                                    #    a las columnas a través de los corchetes [].\n",
    "# df_example.head()\n",
    "\n",
    "\n",
    "# 💡 EJERCICIO 3: NUEVA COLUMNA CALCULADA v2.\n",
    "df_example = df_example.with_columns(\n",
    "    Extra = (pl.col(\"Nota\")/pl.col(\"Puntaje\")) \n",
    ")\n",
    "df_example.head()"
   ]
  },
  {
   "cell_type": "code",
   "execution_count": null,
   "id": "495898c6",
   "metadata": {},
   "outputs": [
    {
     "data": {
      "text/html": [
       "<div><style>\n",
       ".dataframe > thead > tr,\n",
       ".dataframe > tbody > tr {\n",
       "  text-align: right;\n",
       "  white-space: pre-wrap;\n",
       "}\n",
       "</style>\n",
       "<small>shape: (3, 3)</small><table border=\"1\" class=\"dataframe\"><thead><tr><th>Nombre</th><th>Edad</th><th>Extra</th></tr><tr><td>str</td><td>i64</td><td>f64</td></tr></thead><tbody><tr><td>&quot;BRAYAN&quot;</td><td>15</td><td>13.0</td></tr><tr><td>&quot;RAFAEL&quot;</td><td>25</td><td>9.5</td></tr><tr><td>&quot;PEPITO&quot;</td><td>20</td><td>3.333333</td></tr></tbody></table></div>"
      ],
      "text/plain": [
       "shape: (3, 3)\n",
       "┌────────┬──────┬──────────┐\n",
       "│ Nombre ┆ Edad ┆ Extra    │\n",
       "│ ---    ┆ ---  ┆ ---      │\n",
       "│ str    ┆ i64  ┆ f64      │\n",
       "╞════════╪══════╪══════════╡\n",
       "│ BRAYAN ┆ 15   ┆ 13.0     │\n",
       "│ RAFAEL ┆ 25   ┆ 9.5      │\n",
       "│ PEPITO ┆ 20   ┆ 3.333333 │\n",
       "└────────┴──────┴──────────┘"
      ]
     },
     "execution_count": 40,
     "metadata": {},
     "output_type": "execute_result"
    }
   ],
   "source": [
    "# F). ELIMINAR COLUMNAS DEL DATAFRAME:\n",
    "\n",
    "\"\"\"\n",
    "   A diferencia de Pandas donde llamamos directamente a la funcion con el dataset y realizamos la operación.\n",
    "   En Polars debemos llamar al mismo dataframe y/o asignarlo a una nueva variable para poder visualizar\n",
    "   los cambios de la eliminación.\n",
    "    \n",
    "    \n",
    "    📝 SINTAXIS:\n",
    "    \n",
    "        dataframe_nombre = dataframe_nombre.drop([NombreColumna1,NombreColumna2],strict=True | False [EvaluaExistenciaDeColumnas])\n",
    "\n",
    "    ### 🧠 En este caso, debemos almacenar en una variable los cambios a realizar en el dataframe\n",
    "\n",
    "    ### ⚠️ Debemos tener en cuenta que si volvemos a ejecutar el código de eliminar columnas\n",
    "           la columna especificada como ya no existe, lanzará error.\n",
    "\n",
    "\"\"\"\n",
    "\n",
    "# 💡 EJEMPLO 1:\n",
    "# df_example = df_example.drop(\"Ranking\",strict=True) # ⬅️ Establecemos True en strict ✅\n",
    "# df_example.head() # ⬅️ Verificamos que si se elimino correctamente la columna\n",
    "\n",
    "# 💡 EJEMPLO 2:\n",
    "# df_copia = df_example # ⬅️ Método .copy() que permite copiar el dataframe a otra variable.\n",
    "# df_copia = df_copia.drop([\"Nota\",\"Puntaje\"],strict=True) # ⬅️ Establecemos True en strict ✅\n",
    "# df_copia.head() # ⬅️ Verificamos que si se elimino correctamente las columnas\n"
   ]
  },
  {
   "cell_type": "code",
   "execution_count": 45,
   "id": "227841be",
   "metadata": {},
   "outputs": [
    {
     "data": {
      "text/html": [
       "<div><style>\n",
       ".dataframe > thead > tr,\n",
       ".dataframe > tbody > tr {\n",
       "  text-align: right;\n",
       "  white-space: pre-wrap;\n",
       "}\n",
       "</style>\n",
       "<small>shape: (3, 5)</small><table border=\"1\" class=\"dataframe\"><thead><tr><th>Nombre</th><th>Edad</th><th>Nota</th><th>Puntaje</th><th>Extra</th></tr><tr><td>str</td><td>i64</td><td>i64</td><td>i64</td><td>f64</td></tr></thead><tbody><tr><td>&quot;RAFAEL&quot;</td><td>25</td><td>19</td><td>2</td><td>9.5</td></tr><tr><td>&quot;PEPITO&quot;</td><td>20</td><td>10</td><td>3</td><td>3.333333</td></tr><tr><td>&quot;BRAYAN&quot;</td><td>15</td><td>13</td><td>1</td><td>13.0</td></tr></tbody></table></div>"
      ],
      "text/plain": [
       "shape: (3, 5)\n",
       "┌────────┬──────┬──────┬─────────┬──────────┐\n",
       "│ Nombre ┆ Edad ┆ Nota ┆ Puntaje ┆ Extra    │\n",
       "│ ---    ┆ ---  ┆ ---  ┆ ---     ┆ ---      │\n",
       "│ str    ┆ i64  ┆ i64  ┆ i64     ┆ f64      │\n",
       "╞════════╪══════╪══════╪═════════╪══════════╡\n",
       "│ RAFAEL ┆ 25   ┆ 19   ┆ 2       ┆ 9.5      │\n",
       "│ PEPITO ┆ 20   ┆ 10   ┆ 3       ┆ 3.333333 │\n",
       "│ BRAYAN ┆ 15   ┆ 13   ┆ 1       ┆ 13.0     │\n",
       "└────────┴──────┴──────┴─────────┴──────────┘"
      ]
     },
     "execution_count": 45,
     "metadata": {},
     "output_type": "execute_result"
    }
   ],
   "source": [
    "# G). ORDERNAR LOS DATOS DEL DATAFRAME POR UNA O VARIAS COLUMNAS\n",
    "\n",
    "\"\"\"\n",
    "    📝 SINTAXIS: \n",
    "\n",
    "        dataframe_nombre = dataframe_nombre.sort(by=NombreColumna,descending=True | False) \n",
    "        \n",
    "    💡 Importante: Al establecer el valor de descending en True, los datos se ordenan\n",
    "                   de mayor a menor por la columna que especifiquemos. Sin embargo, sino \n",
    "                   llamamos a la propiedad descending o por el contrario, se establece el valor en False,\n",
    "                   los datos se ordenan de menor a mayor.\n",
    "                   \n",
    "        ### 🧠 Tengamos en cuenta que podemos almacenar el resultado de estas operaciones en variables.\n",
    "\"\"\"\n",
    "# 💡 EJEMPLO 1: ➡️ Ordenamos Alfabéticamente (A-Z)\n",
    "\n",
    "# df_example.sort(by=\"Nombre\",descending=False).head()\n",
    "\n",
    "# 💡 EJEMPLO 2: ➡️ Ordenamos Alfabéticamente (Z-A)\n",
    "\n",
    "# df_example.sort(by=\"Nombre\",descending=True).head()\n",
    "\n",
    "# 💡 EJEMPLO 3: ➡️ Ordenamos por columna Numérica (De menor a mayor)\n",
    "\n",
    "# df_example.sort(by=\"Edad\",descending=False).head()\n",
    "\n",
    "# 💡 EJEMPLO 4: ➡️ Ordenamos por columna Numérica (De mayor a menor)\n",
    "\n",
    "df_example.sort(by=\"Edad\",descending=True).head()\n"
   ]
  },
  {
   "cell_type": "markdown",
   "id": "c4142b4d",
   "metadata": {},
   "source": [
    "#### ✅ RANGO INTERQUARTIL EN POLARS 🐻‍❄️"
   ]
  },
  {
   "cell_type": "markdown",
   "id": "facf4e83",
   "metadata": {},
   "source": [
    "El rango interquartil (IQR) es una métrica estadística utilizada para identificar valores atípicos en un conjunto de datos. Su uso es esencial en procesos de limpieza y validación, debido que permite evaluar la integridad del dataset al detectar registros que se desvían significativamente del comportamiento general. En proyectos de Machine Learning, una correcta identificación de outliers a través del IQR permite mejorar la calidad de los datos de entrada, lo que impacta directamente en el rendimiento y generalización de los modelos. Para perfiles como Data Analysts y Data Engineers, el IQR se convierte en una herramienta clave en la etapa de preprocesamiento de datos."
   ]
  },
  {
   "cell_type": "code",
   "execution_count": 12,
   "id": "2898dfc8",
   "metadata": {},
   "outputs": [
    {
     "name": "stdout",
     "output_type": "stream",
     "text": [
      "Cantidad de datos inicial: 891\n",
      "Cantidad de datos atípicos: 116\n",
      "Cantidad de datos normales: 775\n"
     ]
    }
   ],
   "source": [
    "# ESTADÍSTICA BÁSICA EN POLARS: Mediante la función .describe()\n",
    "\"\"\"\n",
    "    📝 SINTAXIS:\n",
    "    \n",
    "        dataframe_nombre.describe() ⬅️ Esta función devuelve: cantidad_valores||media||desviación_estándar||\n",
    "                                                               valor_mínimo||valor_máximo||quartil_(1,2,3) ⬅️ Quartiles con.desribe()\n",
    "    \n",
    "    ### 💡 Importante: Esta función devuelve para las columnas con datos numéricos y Strings.\n",
    "\"\"\"\n",
    "\"\"\" ✅ PARA LOS EJEMPLOS DE IQR, USAREMOS UN DATASET DE LA CARPETA datasets: titanic.csv\"\"\"\n",
    "\n",
    "df_titanic = pl.read_csv(\"../datasets/titanic.csv\",separator=\",\") # ⬅️ Lo explicaremos en próximos temas\n",
    "# df_titanic.head()\n",
    "\n",
    "# 💡 EJEMPLO 1 : \n",
    "\n",
    "# df_titanic.describe() # ⬅️ Verificamos las estadísticas básicas descriptivas del dataset\n",
    "\n",
    "\"\"\" \n",
    "    QUARTILES:\n",
    "\n",
    "    Los quartiles hacen referencia a las partes iguales divididas en 4 de todo el conjunto de datos.\n",
    "    Q1 (25% de los datos) - Q2 (50% de los datos) - Q3 (75% de los datos) y Q4 (100% de los datos).\n",
    "    \n",
    "    📝 SINTAXIS:\n",
    "\n",
    "    valor_quartil = np.percentile(ColumnaDeDataframeOSerie,CantidadCuartil)\n",
    "    \n",
    "    ### 🧠 Para los valores atípico solo usaremos los quartiles 1 y 3.\n",
    "\"\"\"\n",
    "\n",
    "# 💡 EJEMPLO 2: RANGO INTERQUARTIL (Columna \"fare\")\n",
    "\n",
    "q1_fare = df_titanic.select(pl.col(\"fare\").quantile(0.25)).item() # Percentil o Quartil 1\n",
    "q3_fare = df_titanic.select(pl.col(\"fare\").quantile(0.75)).item() # Percentil o Quartil 3\n",
    "\n",
    "range_iqr_fare = q3_fare - q1_fare # Cálculo del rango interquartil \n",
    "\n",
    "# Límite inferior\n",
    "lower_bound_fare  = q1_fare - 1.5 * range_iqr_fare # Formula para hallar valores no atípicos, es decir, valores normales.\n",
    "# Límite superior\n",
    "upper_bound_fare  = q3_fare + 1.5 * range_iqr_fare # Formula para hallar valores atípicos, es decir, valores no normales.\n",
    "\n",
    "df_titanic_atipicos = df_titanic.filter(\n",
    "    (pl.col(\"fare\")<lower_bound_fare) |\n",
    "    (pl.col(\"fare\")>upper_bound_fare) \n",
    ")\n",
    "# df_titanic_atipicos.head()\n",
    "\n",
    "\n",
    "df_titanic_normales = df_titanic.filter(\n",
    "    (pl.col(\"fare\")>=lower_bound_fare) &\n",
    "    (pl.col(\"fare\")<=upper_bound_fare) \n",
    ")\n",
    "df_titanic_normales.head()\n",
    "\n",
    "print(f\"Cantidad de datos inicial: {df_titanic.shape[0]}\")\n",
    "print(f\"Cantidad de datos atípicos: {df_titanic_atipicos.shape[0]}\")\n",
    "print(f\"Cantidad de datos normales: {df_titanic_normales.shape[0]}\")"
   ]
  }
 ],
 "metadata": {
  "kernelspec": {
   "display_name": "venv",
   "language": "python",
   "name": "python3"
  },
  "language_info": {
   "codemirror_mode": {
    "name": "ipython",
    "version": 3
   },
   "file_extension": ".py",
   "mimetype": "text/x-python",
   "name": "python",
   "nbconvert_exporter": "python",
   "pygments_lexer": "ipython3",
   "version": "3.11.5"
  }
 },
 "nbformat": 4,
 "nbformat_minor": 5
}
