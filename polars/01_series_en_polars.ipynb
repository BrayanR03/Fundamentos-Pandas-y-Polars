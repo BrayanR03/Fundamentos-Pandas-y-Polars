{
 "cells": [
  {
   "cell_type": "markdown",
   "id": "a73a22a1",
   "metadata": {},
   "source": [
    "## ⚡ Analítica Turbo con Polars: Fundamentos que todo Analista Moderno debe conocer 🐻‍❄️"
   ]
  },
  {
   "cell_type": "markdown",
   "id": "15ee2147",
   "metadata": {},
   "source": [
    "---\n",
    "\n",
    "👨‍💻 Autor: Brayan Neciosup  \n",
    "📍 Portafolio: [brayanneciosup](https://bryanneciosup626.wixsite.com/brayandataanalitics)  \n",
    "🔗 LinkedIn: [linkedin.com/brayanneciosup](https://www.linkedin.com/in/brayan-rafael-neciosup-bola%C3%B1os-407a59246/)  \n",
    "💻 GitHub: [github.com/BrayanR03](https://github.com/BrayanR03)  \n",
    "📚 Serie: Fundamentos de Pandas y Polars\n"
   ]
  },
  {
   "cell_type": "code",
   "execution_count": 67,
   "id": "4b8a28e1",
   "metadata": {},
   "outputs": [],
   "source": [
    "# Instalar librería de polars: pip install polars\n",
    "# Importamos la librería\n",
    "import polars as pl"
   ]
  },
  {
   "cell_type": "markdown",
   "id": "c3824449",
   "metadata": {},
   "source": [
    "### 📌 Series en Polars: Rendimiento y Simplicidad en una dimensión"
   ]
  },
  {
   "cell_type": "markdown",
   "id": "01b08068",
   "metadata": {},
   "source": [
    "####  ✅DEFINICIÓN DE UNA SERIE EN POLARS 🐻‍❄️"
   ]
  },
  {
   "cell_type": "markdown",
   "id": "70b650fe",
   "metadata": {},
   "source": [
    "Sintaxis: \n",
    "\n",
    "serie = pl.Series(name = NombreColumnaSerie, values = ValoresSerie, dtype = pl.TipoDatoSegúnValores)\n",
    "\n",
    "**Importante: A diferencia de Pandas, Polars ya no trabaja con índices en sus Series y se define\n",
    "              el tipo de dato que tendrá la serie (int,str,object, entre otros..)\n",
    "              Sin embargo, al tener diferentes tipos de datos en la serie, y no definir mediante \"dtype\"\n",
    "              que tipo de datos se almacenarán, saldrá un error al imprimir la serie."
   ]
  },
  {
   "cell_type": "code",
   "execution_count": 13,
   "id": "312380c4",
   "metadata": {},
   "outputs": [
    {
     "name": "stdout",
     "output_type": "stream",
     "text": [
      "==== SERIE 1 - UN SOLO TIPO DE DATO\n",
      "shape: (5,)\n",
      "Series: 'Valores' [i64]\n",
      "[\n",
      "\t1\n",
      "\t2\n",
      "\t3\n",
      "\t4\n",
      "\t5\n",
      "]\n",
      "==== SERIE 2 - VARIOS TIPOS DE DATOS\n",
      "shape: (5,)\n",
      "Series: 'Valores2' [o][object]\n",
      "[\n",
      "\t1\n",
      "\t2\n",
      "\tTrue\n",
      "\t2.5\n",
      "\tHola\n",
      "]\n"
     ]
    }
   ],
   "source": [
    "# Serie - Ejemplo 1 (Un solo tipo de dato):\n",
    "data_1=[1,2,3,4,5]\n",
    "serie_1=pl.Series(name=\"Valores\",values=data_1,dtype=pl.Int64)\n",
    "print(\"==== SERIE 1 - UN SOLO TIPO DE DATO\") \n",
    "print(serie_1)\n",
    "                                                # 💡💡➡️SIEMPRE DEFINIR EL TIPO DE DATO EN LA SERIE\n",
    "# Serie - Ejemplo 2 (Varios tipos de datos):\n",
    "data_2=[1,2,True,2.5,\"Hola\"]\n",
    "serie_2=pl.Series(name=\"Valores2\",values=data_2,dtype=pl.Object)\n",
    "print(\"==== SERIE 2 - VARIOS TIPOS DE DATOS\") \n",
    "print(serie_2)\n",
    "\n",
    "# # Serie - Ejemplo 3 (Sin definir tipo de dato - error ❌):\n",
    "# data_3=[1,2,True,2.5,\"Hola\"]\n",
    "# serie_3=pl.Series(name=\"Valores3\",values=data_3)\n",
    "# print(\"==== SERIE 3 - VARIOS TIPOS DE DATOS ❌\") \n",
    "# print(serie_3)\n"
   ]
  },
  {
   "cell_type": "markdown",
   "id": "e9ea2b4b",
   "metadata": {},
   "source": [
    "#### ✅ Operaciones con Series en Polars"
   ]
  },
  {
   "cell_type": "code",
   "execution_count": 44,
   "id": "c6d4235b",
   "metadata": {},
   "outputs": [
    {
     "data": {
      "text/html": [
       "<div><style>\n",
       ".dataframe > thead > tr,\n",
       ".dataframe > tbody > tr {\n",
       "  text-align: right;\n",
       "  white-space: pre-wrap;\n",
       "}\n",
       "</style>\n",
       "<small>shape: (7,)</small><table border=\"1\" class=\"dataframe\"><thead><tr><th>Valores</th></tr><tr><td>i64</td></tr></thead><tbody><tr><td>10</td></tr><tr><td>15</td></tr><tr><td>35</td></tr><tr><td>2</td></tr><tr><td>82</td></tr><tr><td>15</td></tr><tr><td>13</td></tr></tbody></table></div>"
      ],
      "text/plain": [
       "shape: (7,)\n",
       "Series: 'Valores' [i64]\n",
       "[\n",
       "\t10\n",
       "\t15\n",
       "\t35\n",
       "\t2\n",
       "\t82\n",
       "\t15\n",
       "\t13\n",
       "]"
      ]
     },
     "execution_count": 44,
     "metadata": {},
     "output_type": "execute_result"
    }
   ],
   "source": [
    "serie_example = pl.Series(name=\"Valores\",values=[10,15,35,2,82,15,13],dtype=pl.Int64) # ⬅️ Trabajaremos con un solo tipo de dato (Int64) \n",
    "serie_example"
   ]
  },
  {
   "cell_type": "code",
   "execution_count": 16,
   "id": "e610f90f",
   "metadata": {},
   "outputs": [
    {
     "name": "stdout",
     "output_type": "stream",
     "text": [
      "15\n"
     ]
    }
   ],
   "source": [
    "# a). Obtener un valor por el índice establecido\n",
    "print(serie_example[5]) # ⬅️ Accedemos el elemento del índice 5\n"
   ]
  },
  {
   "cell_type": "code",
   "execution_count": null,
   "id": "04135aff",
   "metadata": {},
   "outputs": [
    {
     "name": "stdout",
     "output_type": "stream",
     "text": [
      "shape: (2,)\n",
      "Series: 'Valores' [i64]\n",
      "[\n",
      "\t35\n",
      "\t82\n",
      "]\n"
     ]
    }
   ],
   "source": [
    "# b). Filtrar valores: Para realizar el filtrado debemos llamar al método .filter() y aplicar la condición.\n",
    "# Sintaxis: serie_nombre.filter(serie_nombre + condición) ⬅️ condiciones usando operadores lógicos: > | < | = | >= | <= | !=\n",
    "# Ejemplo : \n",
    "print(serie_example.filter(serie_example>18))  # ( Valores de la serie mayores a 18 )"
   ]
  },
  {
   "cell_type": "code",
   "execution_count": 18,
   "id": "e22f6a3c",
   "metadata": {},
   "outputs": [
    {
     "data": {
      "text/html": [
       "<div><style>\n",
       ".dataframe > thead > tr,\n",
       ".dataframe > tbody > tr {\n",
       "  text-align: right;\n",
       "  white-space: pre-wrap;\n",
       "}\n",
       "</style>\n",
       "<small>shape: (7,)</small><table border=\"1\" class=\"dataframe\"><thead><tr><th>ValorNuevo</th></tr><tr><td>i64</td></tr></thead><tbody><tr><td>20</td></tr><tr><td>25</td></tr><tr><td>45</td></tr><tr><td>12</td></tr><tr><td>92</td></tr><tr><td>25</td></tr><tr><td>23</td></tr></tbody></table></div>"
      ],
      "text/plain": [
       "shape: (7,)\n",
       "Series: 'ValorNuevo' [i64]\n",
       "[\n",
       "\t20\n",
       "\t25\n",
       "\t45\n",
       "\t12\n",
       "\t92\n",
       "\t25\n",
       "\t23\n",
       "]"
      ]
     },
     "execution_count": 18,
     "metadata": {},
     "output_type": "execute_result"
    }
   ],
   "source": [
    "# c). Realizar operaciones aritméticas básicas:\n",
    "# Sintaxis: \n",
    "# operacion_serie = nombre_serie + | - | / | * \n",
    "\n",
    "# Estas operaciones a realizar, devuelven una estructura \"ambigua\" en Polars. Por ello, si queremos convertirla a\n",
    "# un formato mas legible, realizamos los pasos para definir la serie.\n",
    "\n",
    "# new_serie = pl.Series(name=NombreColumna,values=new_serie,dtype=pl.Int64)\n",
    "\n",
    "# Ejemplo:\n",
    "aumentar_serie = serie_example + 10  # ( Aumentar en 10, cada valor de la serie )\n",
    "# print(aumentar_serie) # ⬅️ Formato \"ambiguo\"\n",
    "new_serie = pl.Series(name=\"ValorNuevo\",values=aumentar_serie,dtype=pl.Int64)\n",
    "new_serie # ⬅️✅Formato mas legible\n",
    " "
   ]
  },
  {
   "cell_type": "code",
   "execution_count": 68,
   "id": "bff18cd3",
   "metadata": {},
   "outputs": [
    {
     "name": "stdout",
     "output_type": "stream",
     "text": [
      "shape: (7,)\n",
      "Series: 'Valores' [i64]\n",
      "[\n",
      "\t10\n",
      "\t15\n",
      "\t100\n",
      "\t2\n",
      "\t100\n",
      "\t15\n",
      "\t13\n",
      "]\n",
      "shape: (7,)\n",
      "Series: 'Valores' [i64]\n",
      "[\n",
      "\t10\n",
      "\t15\n",
      "\t100\n",
      "\t2\n",
      "\t82\n",
      "\t15\n",
      "\t13\n",
      "]\n"
     ]
    }
   ],
   "source": [
    "# d). Reemplazar valores de series: \n",
    "# Las series al ser mutables, debemos almacenarlas en nuevas variables para que se reemplace.\n",
    "# Además, si deseamos realizar condiciones para el reemplazo de valores, usaremos numpy.\n",
    "# Sintaxis:\n",
    "# new_serie = serie.replace({ValorAntiguoEnSerie:ValorNuevoAReemplazar}) ⬅️ método .replace() solo para valores individuales\n",
    "# serie_condicionada = np.where(serie_example>30,100,serie_example) ⬅️ usando np.where() de numpy para condiciones de valores múltiples\n",
    "\n",
    "# Ejemplo 1: Usando numpy - Instalar librería de numpy: pip install numpy\n",
    "import numpy as np\n",
    "serie_condicionada = np.where(serie_example>30,100,serie_example) # ⬅️ Condiciones de varios valores usando np.where()\n",
    "new_serie_1 = pl.Series(values=serie_condicionada,name=\"Valores\") # ⬅️ Formateamos a una serie el array devuelto por numpy.\n",
    "print(new_serie_1)\n",
    "# Ejemplo 2:\n",
    "new_serie_2 = serie_example.replace({35:100}) # ⬅️ Reemplazamos valores individuales sin condición (30 por 100)\n",
    "print(new_serie_2)"
   ]
  }
 ],
 "metadata": {
  "kernelspec": {
   "display_name": "venv",
   "language": "python",
   "name": "python3"
  },
  "language_info": {
   "codemirror_mode": {
    "name": "ipython",
    "version": 3
   },
   "file_extension": ".py",
   "mimetype": "text/x-python",
   "name": "python",
   "nbconvert_exporter": "python",
   "pygments_lexer": "ipython3",
   "version": "3.11.5"
  }
 },
 "nbformat": 4,
 "nbformat_minor": 5
}
