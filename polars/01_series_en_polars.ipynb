{
 "cells": [
  {
   "cell_type": "markdown",
   "id": "a73a22a1",
   "metadata": {},
   "source": [
    "## ⚡ Analítica Turbo con Polars: Fundamentos que todo Analista Moderno debe conocer 🐻‍❄️"
   ]
  },
  {
   "cell_type": "markdown",
   "id": "15ee2147",
   "metadata": {},
   "source": [
    "---\n",
    "\n",
    "👨‍💻 Autor: Brayan Neciosup  \n",
    "📍 Portafolio: [brayanneciosup](https://bryanneciosup626.wixsite.com/brayandataanalitics)  \n",
    "🔗 LinkedIn: [linkedin.com/brayanneciosup](https://www.linkedin.com/in/brayan-rafael-neciosup-bola%C3%B1os-407a59246/)  \n",
    "💻 GitHub: [github.com/BrayanR03](https://github.com/BrayanR03)  \n",
    "📚 Serie: Fundamentos de Pandas y Polars\n"
   ]
  },
  {
   "cell_type": "code",
   "execution_count": 2,
   "id": "4b8a28e1",
   "metadata": {},
   "outputs": [],
   "source": [
    "# Instalar librería de polars: pip install polars\n",
    "# Importamos la librería\n",
    "import polars as pl"
   ]
  },
  {
   "cell_type": "markdown",
   "id": "c3824449",
   "metadata": {},
   "source": [
    "### 📌 Series en Polars: Rendimiento y Simplicidad en una dimensión"
   ]
  },
  {
   "cell_type": "markdown",
   "id": "01b08068",
   "metadata": {},
   "source": [
    "####  ✅DEFINICIÓN DE UNA SERIE EN POLARS 🐻‍❄️"
   ]
  },
  {
   "cell_type": "markdown",
   "id": "70b650fe",
   "metadata": {},
   "source": [
    "Sintaxis: \n",
    "\n",
    "serie = pl.Series(name = NombreColumnaSerie, values = ValoresSerie, dtype = pl.TipoDatoSegúnValores)\n",
    "\n",
    "**Importante: A diferencia de Pandas, Polars ya no trabaja con índices en sus Series y se define\n",
    "              el tipo de dato que tendrá la serie (int,str,object, entre otros..)\n",
    "              Sin embargo, al tener diferentes tipos de datos en la serie, y no definir mediante \"dtype\"\n",
    "              que tipo de datos se almacenarán, saldrá un error al imprimir la serie."
   ]
  },
  {
   "cell_type": "code",
   "execution_count": 13,
   "id": "312380c4",
   "metadata": {},
   "outputs": [
    {
     "name": "stdout",
     "output_type": "stream",
     "text": [
      "==== SERIE 1 - UN SOLO TIPO DE DATO\n",
      "shape: (5,)\n",
      "Series: 'Valores' [i64]\n",
      "[\n",
      "\t1\n",
      "\t2\n",
      "\t3\n",
      "\t4\n",
      "\t5\n",
      "]\n",
      "==== SERIE 2 - VARIOS TIPOS DE DATOS\n",
      "shape: (5,)\n",
      "Series: 'Valores2' [o][object]\n",
      "[\n",
      "\t1\n",
      "\t2\n",
      "\tTrue\n",
      "\t2.5\n",
      "\tHola\n",
      "]\n"
     ]
    }
   ],
   "source": [
    "# Serie - Ejemplo 1 (Un solo tipo de dato):\n",
    "data_1=[1,2,3,4,5]\n",
    "serie_1=pl.Series(name=\"Valores\",values=data_1,dtype=pl.Int64)\n",
    "print(\"==== SERIE 1 - UN SOLO TIPO DE DATO\") \n",
    "print(serie_1)\n",
    "                                                # 💡💡➡️SIEMPRE DEFINIR EL TIPO DE DATO EN LA SERIE\n",
    "# Serie - Ejemplo 2 (Varios tipos de datos):\n",
    "data_2=[1,2,True,2.5,\"Hola\"]\n",
    "serie_2=pl.Series(name=\"Valores2\",values=data_2,dtype=pl.Object)\n",
    "print(\"==== SERIE 2 - VARIOS TIPOS DE DATOS\") \n",
    "print(serie_2)\n",
    "\n",
    "# # Serie - Ejemplo 3 (Sin definir tipo de dato - error ❌):\n",
    "# data_3=[1,2,True,2.5,\"Hola\"]\n",
    "# serie_3=pl.Series(name=\"Valores3\",values=data_3)\n",
    "# print(\"==== SERIE 3 - VARIOS TIPOS DE DATOS ❌\") \n",
    "# print(serie_3)\n"
   ]
  }
 ],
 "metadata": {
  "kernelspec": {
   "display_name": "venv",
   "language": "python",
   "name": "python3"
  },
  "language_info": {
   "codemirror_mode": {
    "name": "ipython",
    "version": 3
   },
   "file_extension": ".py",
   "mimetype": "text/x-python",
   "name": "python",
   "nbconvert_exporter": "python",
   "pygments_lexer": "ipython3",
   "version": "3.11.5"
  }
 },
 "nbformat": 4,
 "nbformat_minor": 5
}
