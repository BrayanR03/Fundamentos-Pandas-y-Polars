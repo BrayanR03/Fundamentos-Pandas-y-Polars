{
 "cells": [
  {
   "cell_type": "markdown",
   "id": "34d8571d",
   "metadata": {},
   "source": [
    "## ⚡ Analítica Turbo con Polars: Fundamentos que todo Analista Moderno debe conocer 🐻‍❄️"
   ]
  },
  {
   "cell_type": "markdown",
   "id": "94eb6989",
   "metadata": {},
   "source": [
    "---\n",
    "\n",
    "👨‍💻 Autor: Brayan Neciosup  \n",
    "📍 Portafolio: [brayanneciosup](https://bryanneciosup626.wixsite.com/brayandataanalitics)  \n",
    "🔗 LinkedIn: [linkedin.com/brayanneciosup](https://www.linkedin.com/in/brayan-rafael-neciosup-bola%C3%B1os-407a59246/)  \n",
    "💻 GitHub: [github.com/BrayanR03](https://github.com/BrayanR03)  \n",
    "📚 Serie: Fundamentos de Pandas y Polars\n"
   ]
  },
  {
   "cell_type": "code",
   "execution_count": 1,
   "id": "d476e5b9",
   "metadata": {},
   "outputs": [],
   "source": [
    "# Instalar librería de polars: pip install polars\n",
    "# Importamos la librería\n",
    "import polars as pl"
   ]
  },
  {
   "cell_type": "markdown",
   "id": "d5ba4d6d",
   "metadata": {},
   "source": [
    "#### ✅LAZYFRAMES EN POLARS 🐻‍❄️"
   ]
  },
  {
   "cell_type": "markdown",
   "id": "236d4a97",
   "metadata": {},
   "source": [
    "Los LazyFrames en Polars permiten construir transformaciones de datos sin ejecutarlas de inmediato,\n",
    "por ende, en lugar de procesar paso a paso como los DataFrames tradicionales, acumulan las operaciones\n",
    "en un plan lógico que se ejecuta solo cuando se llama a .collect(). Permitiendo mejorar el rendimiento,\n",
    "reducir el uso de memoria y hacer más eficiente el procesamiento de grandes volúmenes de datos."
   ]
  },
  {
   "cell_type": "code",
   "execution_count": null,
   "id": "2b034be5",
   "metadata": {},
   "outputs": [],
   "source": [
    "\"\"\"\n",
    "    📝 SINTAXIS:\n",
    "    \n",
    "        lz = pl.LazyFrame(data=[[DatosColumna1],[DatosColumnaN]], ⬅️ Información que estará en el Lazyframe\n",
    "                          schema={Columna1:pl.TipoDatoColumna1,ColumnaN:pl.TipoDatoColumnaN}) ⬅️ Columnas del LazyFrame    \n",
    "\"\"\""
   ]
  },
  {
   "cell_type": "code",
   "execution_count": 2,
   "id": "94a5ecf6",
   "metadata": {},
   "outputs": [
    {
     "data": {
      "text/html": [
       "<div><style>\n",
       ".dataframe > thead > tr,\n",
       ".dataframe > tbody > tr {\n",
       "  text-align: right;\n",
       "  white-space: pre-wrap;\n",
       "}\n",
       "</style>\n",
       "<small>shape: (3, 3)</small><table border=\"1\" class=\"dataframe\"><thead><tr><th>Nombre</th><th>Edad</th><th>Nota</th></tr><tr><td>str</td><td>i64</td><td>i64</td></tr></thead><tbody><tr><td>&quot;Brayan&quot;</td><td>25</td><td>15</td></tr><tr><td>&quot;Rafael&quot;</td><td>27</td><td>10</td></tr><tr><td>&quot;Pepito&quot;</td><td>20</td><td>16</td></tr></tbody></table></div>"
      ],
      "text/plain": [
       "shape: (3, 3)\n",
       "┌────────┬──────┬──────┐\n",
       "│ Nombre ┆ Edad ┆ Nota │\n",
       "│ ---    ┆ ---  ┆ ---  │\n",
       "│ str    ┆ i64  ┆ i64  │\n",
       "╞════════╪══════╪══════╡\n",
       "│ Brayan ┆ 25   ┆ 15   │\n",
       "│ Rafael ┆ 27   ┆ 10   │\n",
       "│ Pepito ┆ 20   ┆ 16   │\n",
       "└────────┴──────┴──────┘"
      ]
     },
     "execution_count": 2,
     "metadata": {},
     "output_type": "execute_result"
    }
   ],
   "source": [
    "\n",
    "# DEFINIR UN LAZYFRAME MEDIANTE UN DICCIONARIO\n",
    "\"\"\"\n",
    "📝 Nota: Si queremos definir un lazyframe desde un diccionario, las claves del diccionario se convertirán\n",
    "         en las columnas del lazyframe y los valores serán la información almacenada bidireccionalmente\n",
    "         por cada columna del lazyframe.\n",
    "\"\"\"\n",
    "diccionario_example = {\n",
    "    \"Nombre\":[\"Brayan\",\"Rafael\",\"Pepito\"],\n",
    "    \"Edad\": [25,27,20],\n",
    "    \"Nota\":[15,10,16]\n",
    "}\n",
    "dict_to_lz = pl.LazyFrame(diccionario_example)\n",
    "dict_to_lz.collect() # ⬅️ Función que permite ejecutar el plan lógico del LazyFrame. \n",
    "### 💡 Adicionalmente, Polars muestra el tipo de dato de las columnas del LazyFrame"
   ]
  },
  {
   "cell_type": "code",
   "execution_count": null,
   "id": "45b57886",
   "metadata": {},
   "outputs": [
    {
     "data": {
      "text/html": [
       "<div><style>\n",
       ".dataframe > thead > tr,\n",
       ".dataframe > tbody > tr {\n",
       "  text-align: right;\n",
       "  white-space: pre-wrap;\n",
       "}\n",
       "</style>\n",
       "<small>shape: (3, 3)</small><table border=\"1\" class=\"dataframe\"><thead><tr><th>Nombre</th><th>Edad</th><th>Nota</th></tr><tr><td>str</td><td>i64</td><td>i64</td></tr></thead><tbody><tr><td>&quot;Brayan&quot;</td><td>22</td><td>14</td></tr><tr><td>&quot;Rafel&quot;</td><td>27</td><td>20</td></tr><tr><td>&quot;Pepito&quot;</td><td>25</td><td>16</td></tr></tbody></table></div>"
      ],
      "text/plain": [
       "shape: (3, 3)\n",
       "┌────────┬──────┬──────┐\n",
       "│ Nombre ┆ Edad ┆ Nota │\n",
       "│ ---    ┆ ---  ┆ ---  │\n",
       "│ str    ┆ i64  ┆ i64  │\n",
       "╞════════╪══════╪══════╡\n",
       "│ Brayan ┆ 22   ┆ 14   │\n",
       "│ Rafel  ┆ 27   ┆ 20   │\n",
       "│ Pepito ┆ 25   ┆ 16   │\n",
       "└────────┴──────┴──────┘"
      ]
     },
     "execution_count": 3,
     "metadata": {},
     "output_type": "execute_result"
    }
   ],
   "source": [
    "# DEFINIR UN LAZYFRAME DESDE CERO\n",
    "lazyframe = pl.LazyFrame(data=[[\"Brayan\",\"Rafel\",\"Pepito\"],[22,27,25],[14,20,16]],\n",
    "                         schema={\"Nombre\":pl.String,\"Edad\":pl.Int64,\"Nota\":pl.Int64}) # ⬅️ Establecemos el tipo de dato en la columna.\n",
    "\n",
    "lazyframe.collect()\n",
    "\n",
    "\"\"\"\n",
    "💡 Importante: Al definir las columnas para el lazyframe debemos tener en cuenta que\n",
    "               se deben tener la misma cantidad de elementos de acuerdo a la cantidad de columnas,\n",
    "               caso contrario, generará un error porque ciertas filas, no tienen la misma cantidad\n",
    "               de elementos que la  columnas. Además, cada lista de datos llenará toda una sola columna\n",
    "               en el lazyframe.\n",
    "\"\"\"\n",
    "\n",
    "# lazyframe_valores_faltantes = pl.LazyFrame(data=[[\"Brayan\",\"Rafael\"],[16,15]],\n",
    "#                                 schema=[\"Nombre\",\"Edad\",\"Nota\"])\n",
    "# lazyframe_valores_faltantes.collect() # ❌ Genera error porque los datos son solo de 2 columnas \n",
    "#                                             y el lazyframe presenta 3 columnas.\n"
   ]
  },
  {
   "cell_type": "code",
   "execution_count": 4,
   "id": "0c53af8c",
   "metadata": {},
   "outputs": [
    {
     "data": {
      "text/html": [
       "<div><style>\n",
       ".dataframe > thead > tr,\n",
       ".dataframe > tbody > tr {\n",
       "  text-align: right;\n",
       "  white-space: pre-wrap;\n",
       "}\n",
       "</style>\n",
       "<small>shape: (3, 3)</small><table border=\"1\" class=\"dataframe\"><thead><tr><th>nombre</th><th>edad</th><th>ciudad</th></tr><tr><td>str</td><td>i64</td><td>str</td></tr></thead><tbody><tr><td>&quot;Ana&quot;</td><td>25</td><td>&quot;Madrid&quot;</td></tr><tr><td>&quot;Luis&quot;</td><td>30</td><td>&quot;Barcelona&quot;</td></tr><tr><td>&quot;María&quot;</td><td>35</td><td>&quot;Valencia&quot;</td></tr></tbody></table></div>"
      ],
      "text/plain": [
       "shape: (3, 3)\n",
       "┌────────┬──────┬───────────┐\n",
       "│ nombre ┆ edad ┆ ciudad    │\n",
       "│ ---    ┆ ---  ┆ ---       │\n",
       "│ str    ┆ i64  ┆ str       │\n",
       "╞════════╪══════╪═══════════╡\n",
       "│ Ana    ┆ 25   ┆ Madrid    │\n",
       "│ Luis   ┆ 30   ┆ Barcelona │\n",
       "│ María  ┆ 35   ┆ Valencia  │\n",
       "└────────┴──────┴───────────┘"
      ]
     },
     "execution_count": 4,
     "metadata": {},
     "output_type": "execute_result"
    }
   ],
   "source": [
    "\"\"\"\n",
    "💡Importante: Las operaciones a realizar sobre los LazyFrames son iguales\n",
    "              que los dataframes (mismas funciones, cálculos, entre otros).\n",
    "              Sin embargo, en vez de llamar a .head(), llamaremos a **.collect()**\n",
    "\"\"\"\n",
    "# 💡 CONVERTIR UN DATAFRAME A UN LAZYFRAME:\n",
    "\n",
    "# 1️⃣ DEFINIMOS EL DATAFRAME\n",
    "df = pl.DataFrame({\n",
    "    \"nombre\": [\"Ana\", \"Luis\", \"María\"],\n",
    "    \"edad\": [25, 30, 35],\n",
    "    \"ciudad\": [\"Madrid\", \"Barcelona\", \"Valencia\"]\n",
    "})\n",
    "# df.head()\n",
    "\n",
    "# 2️⃣ CONVERTIMOS A LAZYFRAME: .lazy()\n",
    "\n",
    "lz = df.lazy()\n",
    "lz.collect()\n",
    "\n"
   ]
  }
 ],
 "metadata": {
  "kernelspec": {
   "display_name": "venv",
   "language": "python",
   "name": "python3"
  },
  "language_info": {
   "codemirror_mode": {
    "name": "ipython",
    "version": 3
   },
   "file_extension": ".py",
   "mimetype": "text/x-python",
   "name": "python",
   "nbconvert_exporter": "python",
   "pygments_lexer": "ipython3",
   "version": "3.11.5"
  }
 },
 "nbformat": 4,
 "nbformat_minor": 5
}
