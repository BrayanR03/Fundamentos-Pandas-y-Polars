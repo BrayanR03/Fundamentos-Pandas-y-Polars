{
 "cells": [
  {
   "cell_type": "markdown",
   "id": "f77f3bdb",
   "metadata": {},
   "source": [
    "## ⚡ Analítica Turbo con Polars: Fundamentos que todo Analista Moderno debe conocer 🐻‍❄️"
   ]
  },
  {
   "cell_type": "markdown",
   "id": "c251dff3",
   "metadata": {},
   "source": [
    "---\n",
    "\n",
    "👨‍💻 Autor: Brayan Neciosup  \n",
    "📍 Portafolio: [brayanneciosup](https://bryanneciosup626.wixsite.com/brayandataanalitics)  \n",
    "🔗 LinkedIn: [linkedin.com/brayanneciosup](https://www.linkedin.com/in/brayan-rafael-neciosup-bola%C3%B1os-407a59246/)  \n",
    "💻 GitHub: [github.com/BrayanR03](https://github.com/BrayanR03)  \n",
    "📚 Serie: Fundamentos de Pandas y Polars\n"
   ]
  },
  {
   "cell_type": "code",
   "execution_count": 1,
   "id": "99347e8d",
   "metadata": {},
   "outputs": [],
   "source": [
    "# Instalar librería de polars: pip install polars\n",
    "# Importamos la librería\n",
    "import polars as pl"
   ]
  },
  {
   "cell_type": "markdown",
   "id": "553abd57",
   "metadata": {},
   "source": [
    "### 📌 Dataframes en Polars: ..."
   ]
  },
  {
   "cell_type": "markdown",
   "id": "61f2c617",
   "metadata": {},
   "source": [
    "#### ✅ RANGO INTERQUARTIL EN POLARS 🐻‍❄️"
   ]
  },
  {
   "cell_type": "markdown",
   "id": "c7c43bcb",
   "metadata": {},
   "source": [
    "El rango interquartil (IQR) es una métrica estadística utilizada para identificar valores atípicos en un conjunto de datos. Su uso es esencial en procesos de limpieza y validación, debido que permite evaluar la integridad del dataset al detectar registros que se desvían significativamente del comportamiento general. En proyectos de Machine Learning, una correcta identificación de outliers a través del IQR permite mejorar la calidad de los datos de entrada, lo que impacta directamente en el rendimiento y generalización de los modelos. Para perfiles como Data Analysts y Data Engineers, el IQR se convierte en una herramienta clave en la etapa de preprocesamiento de datos."
   ]
  },
  {
   "cell_type": "code",
   "execution_count": 2,
   "id": "00a42181",
   "metadata": {},
   "outputs": [
    {
     "name": "stdout",
     "output_type": "stream",
     "text": [
      "Cantidad de datos inicial: 891\n",
      "Cantidad de datos atípicos: 116\n",
      "Cantidad de datos normales: 775\n"
     ]
    }
   ],
   "source": [
    "# ESTADÍSTICA BÁSICA EN POLARS: Mediante la función .describe()\n",
    "\"\"\"\n",
    "    📝 SINTAXIS:\n",
    "    \n",
    "        dataframe_nombre.describe() ⬅️ Esta función devuelve: cantidad_valores||media||desviación_estándar||\n",
    "                                                               valor_mínimo||valor_máximo||quartil_(1,2,3) ⬅️ Quartiles con.desribe()\n",
    "    \n",
    "    ### 💡 Importante: Esta función devuelve para las columnas con datos numéricos y Strings.\n",
    "\"\"\"\n",
    "\"\"\" ✅ PARA LOS EJEMPLOS DE IQR, USAREMOS UN DATASET DE LA CARPETA datasets: titanic.csv\"\"\"\n",
    "\n",
    "df_titanic = pl.read_csv(\"../datasets/titanic.csv\",separator=\",\") # ⬅️ Lo explicaremos en próximos temas\n",
    "# df_titanic.head()\n",
    "\n",
    "# 💡 EJEMPLO 1 : \n",
    "\n",
    "# df_titanic.describe() # ⬅️ Verificamos las estadísticas básicas descriptivas del dataset\n",
    "\n",
    "\"\"\" \n",
    "    QUARTILES:\n",
    "\n",
    "    Los quartiles hacen referencia a las partes iguales divididas en 4 de todo el conjunto de datos.\n",
    "    Q1 (25% de los datos) - Q2 (50% de los datos) - Q3 (75% de los datos) y Q4 (100% de los datos).\n",
    "    \n",
    "    📝 SINTAXIS:\n",
    "\n",
    "    valor_quartil = np.percentile(ColumnaDeDataframeOSerie,CantidadCuartil)\n",
    "    \n",
    "    ### 🧠 Para los valores atípico solo usaremos los quartiles 1 y 3.\n",
    "\"\"\"\n",
    "\n",
    "# 💡 EJEMPLO 2: RANGO INTERQUARTIL (Columna \"fare\")\n",
    "\n",
    "q1_fare = df_titanic.select(pl.col(\"fare\").quantile(0.25)).item() # Percentil o Quartil 1\n",
    "q3_fare = df_titanic.select(pl.col(\"fare\").quantile(0.75)).item() # Percentil o Quartil 3\n",
    "\n",
    "range_iqr_fare = q3_fare - q1_fare # Cálculo del rango interquartil \n",
    "\n",
    "# Límite inferior\n",
    "lower_bound_fare  = q1_fare - 1.5 * range_iqr_fare # Formula para hallar valores no atípicos, es decir, valores normales.\n",
    "# Límite superior\n",
    "upper_bound_fare  = q3_fare + 1.5 * range_iqr_fare # Formula para hallar valores atípicos, es decir, valores no normales.\n",
    "\n",
    "df_titanic_atipicos = df_titanic.filter(\n",
    "    (pl.col(\"fare\")<lower_bound_fare) |\n",
    "    (pl.col(\"fare\")>upper_bound_fare) \n",
    ")\n",
    "# df_titanic_atipicos.head()\n",
    "\n",
    "\n",
    "df_titanic_normales = df_titanic.filter(\n",
    "    (pl.col(\"fare\")>=lower_bound_fare) &\n",
    "    (pl.col(\"fare\")<=upper_bound_fare) \n",
    ")\n",
    "df_titanic_normales.head()\n",
    "\n",
    "print(f\"Cantidad de datos inicial: {df_titanic.shape[0]}\")\n",
    "print(f\"Cantidad de datos atípicos: {df_titanic_atipicos.shape[0]}\")\n",
    "print(f\"Cantidad de datos normales: {df_titanic_normales.shape[0]}\")"
   ]
  }
 ],
 "metadata": {
  "kernelspec": {
   "display_name": "venv",
   "language": "python",
   "name": "python3"
  },
  "language_info": {
   "codemirror_mode": {
    "name": "ipython",
    "version": 3
   },
   "file_extension": ".py",
   "mimetype": "text/x-python",
   "name": "python",
   "nbconvert_exporter": "python",
   "pygments_lexer": "ipython3",
   "version": "3.11.5"
  }
 },
 "nbformat": 4,
 "nbformat_minor": 5
}
