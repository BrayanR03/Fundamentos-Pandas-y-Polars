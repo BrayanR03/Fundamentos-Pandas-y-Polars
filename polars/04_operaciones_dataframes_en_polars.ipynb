{
 "cells": [
  {
   "cell_type": "markdown",
   "id": "e8d484c5",
   "metadata": {},
   "source": [
    "## ⚡ Analítica Turbo con Polars: Fundamentos que todo Analista Moderno debe conocer 🐻‍❄️"
   ]
  },
  {
   "cell_type": "markdown",
   "id": "002734a6",
   "metadata": {},
   "source": [
    "---\n",
    "\n",
    "👨‍💻 Autor: Brayan Neciosup  \n",
    "📍 Portafolio: [brayanneciosup](https://bryanneciosup626.wixsite.com/brayandataanalitics)  \n",
    "🔗 LinkedIn: [linkedin.com/brayanneciosup](https://www.linkedin.com/in/brayan-rafael-neciosup-bola%C3%B1os-407a59246/)  \n",
    "💻 GitHub: [github.com/BrayanR03](https://github.com/BrayanR03)  \n",
    "📚 Serie: Fundamentos de Pandas y Polars\n"
   ]
  },
  {
   "cell_type": "code",
   "execution_count": 1,
   "id": "472aa8f1",
   "metadata": {},
   "outputs": [],
   "source": [
    "# Instalar librería de polars: pip install polars\n",
    "# Importamos la librería\n",
    "import polars as pl"
   ]
  },
  {
   "cell_type": "markdown",
   "id": "5826f6fc",
   "metadata": {},
   "source": [
    "### 📌 Dataframes en Polars: ..."
   ]
  },
  {
   "cell_type": "markdown",
   "id": "ab6ebe4a",
   "metadata": {},
   "source": [
    "#### ✅ OPERACIONES CON DATAFRAMES EN POLARS 🐻‍❄️"
   ]
  },
  {
   "cell_type": "markdown",
   "id": "055e63b9",
   "metadata": {},
   "source": [
    "Como se mencionó anteriormente, los DataFrame y LazyFrame comparten la misma sintaxis\n",
    "para aplicar operaciones. Sin embargo, su diferencia principal radica en el modo de \n",
    "ejecución: mientras que los DataFrame ejecutan cada instrucción de inmediato, \n",
    "los LazyFrame acumulan operaciones y las ejecutan todas juntas al llamar a .collect().\n",
    "\n",
    "No obstante, para mantener la continuidad del contenido, en las siguientes secciones continuaremos trabajando con DataFrame."
   ]
  },
  {
   "cell_type": "code",
   "execution_count": 2,
   "id": "a82d89b6",
   "metadata": {},
   "outputs": [
    {
     "data": {
      "text/html": [
       "<div><style>\n",
       ".dataframe > thead > tr,\n",
       ".dataframe > tbody > tr {\n",
       "  text-align: right;\n",
       "  white-space: pre-wrap;\n",
       "}\n",
       "</style>\n",
       "<small>shape: (3, 3)</small><table border=\"1\" class=\"dataframe\"><thead><tr><th>Nombre</th><th>Edad</th><th>Nota</th></tr><tr><td>str</td><td>i64</td><td>i64</td></tr></thead><tbody><tr><td>&quot;BRAYAN&quot;</td><td>15</td><td>13</td></tr><tr><td>&quot;RAFAEL&quot;</td><td>25</td><td>19</td></tr><tr><td>&quot;PEPITO&quot;</td><td>20</td><td>10</td></tr></tbody></table></div>"
      ],
      "text/plain": [
       "shape: (3, 3)\n",
       "┌────────┬──────┬──────┐\n",
       "│ Nombre ┆ Edad ┆ Nota │\n",
       "│ ---    ┆ ---  ┆ ---  │\n",
       "│ str    ┆ i64  ┆ i64  │\n",
       "╞════════╪══════╪══════╡\n",
       "│ BRAYAN ┆ 15   ┆ 13   │\n",
       "│ RAFAEL ┆ 25   ┆ 19   │\n",
       "│ PEPITO ┆ 20   ┆ 10   │\n",
       "└────────┴──────┴──────┘"
      ]
     },
     "execution_count": 2,
     "metadata": {},
     "output_type": "execute_result"
    }
   ],
   "source": [
    "df_example = pl.DataFrame(data=[[\"BRAYAN\",15,13],[\"RAFAEL\",25,19],[\"PEPITO\",20,10]],\n",
    "                          schema=[\"Nombre\",\"Edad\",\"Nota\"],orient=\"row\")\n",
    "df_example.head()"
   ]
  },
  {
   "cell_type": "code",
   "execution_count": 3,
   "id": "1fa1c796",
   "metadata": {},
   "outputs": [
    {
     "data": {
      "text/html": [
       "<div><style>\n",
       ".dataframe > thead > tr,\n",
       ".dataframe > tbody > tr {\n",
       "  text-align: right;\n",
       "  white-space: pre-wrap;\n",
       "}\n",
       "</style>\n",
       "<small>shape: (3, 2)</small><table border=\"1\" class=\"dataframe\"><thead><tr><th>Nota</th><th>Nombre</th></tr><tr><td>i64</td><td>str</td></tr></thead><tbody><tr><td>13</td><td>&quot;BRAYAN&quot;</td></tr><tr><td>19</td><td>&quot;RAFAEL&quot;</td></tr><tr><td>10</td><td>&quot;PEPITO&quot;</td></tr></tbody></table></div>"
      ],
      "text/plain": [
       "shape: (3, 2)\n",
       "┌──────┬────────┐\n",
       "│ Nota ┆ Nombre │\n",
       "│ ---  ┆ ---    │\n",
       "│ i64  ┆ str    │\n",
       "╞══════╪════════╡\n",
       "│ 13   ┆ BRAYAN │\n",
       "│ 19   ┆ RAFAEL │\n",
       "│ 10   ┆ PEPITO │\n",
       "└──────┴────────┘"
      ]
     },
     "execution_count": 3,
     "metadata": {},
     "output_type": "execute_result"
    }
   ],
   "source": [
    "# A). OBTENER EL VALOR O VALORES DE LA COLUMNA DE UN DATAFRAME MEDIANTE SU NOMBRE.\n",
    "\n",
    "\"\"\"\n",
    "    📝 SINTAXIS: \n",
    "    \n",
    "        dataframe_nombre[NombreColumna] ⬅️ Llamamos al dataframe directamente o\n",
    "        print(dataframe_nombre[NombreColumna]) ⬅️ Usamos print()\n",
    "        \n",
    "        **Importante: Cuando llamamos con solo un par de corchetes \"[]\", muestra los resultados,\n",
    "                      \n",
    "        ### 🧠 Tengamos en cuenta que podemos almacenar el resultado de estas operaciones en variables. \n",
    "\"\"\"\n",
    "# 💡 EJEMPLO 1: Obtener valores de una columna\n",
    "# df_example[\"Nota\"]\n",
    "\n",
    "# 💡 EJEMPLO 2: Obtener valores de varias columnas\n",
    "df_example[[\"Nota\",\"Nombre\"]]"
   ]
  },
  {
   "cell_type": "code",
   "execution_count": 4,
   "id": "0b10e20a",
   "metadata": {},
   "outputs": [
    {
     "data": {
      "text/html": [
       "<div><style>\n",
       ".dataframe > thead > tr,\n",
       ".dataframe > tbody > tr {\n",
       "  text-align: right;\n",
       "  white-space: pre-wrap;\n",
       "}\n",
       "</style>\n",
       "<small>shape: (1, 3)</small><table border=\"1\" class=\"dataframe\"><thead><tr><th>Nombre</th><th>Edad</th><th>Nota</th></tr><tr><td>str</td><td>i64</td><td>i64</td></tr></thead><tbody><tr><td>&quot;BRAYAN&quot;</td><td>15</td><td>13</td></tr></tbody></table></div>"
      ],
      "text/plain": [
       "shape: (1, 3)\n",
       "┌────────┬──────┬──────┐\n",
       "│ Nombre ┆ Edad ┆ Nota │\n",
       "│ ---    ┆ ---  ┆ ---  │\n",
       "│ str    ┆ i64  ┆ i64  │\n",
       "╞════════╪══════╪══════╡\n",
       "│ BRAYAN ┆ 15   ┆ 13   │\n",
       "└────────┴──────┴──────┘"
      ]
     },
     "execution_count": 4,
     "metadata": {},
     "output_type": "execute_result"
    }
   ],
   "source": [
    "# B). OBTENER UNA FILA DE VALORES ESPECÍFICAS DEL DATAFRAME\n",
    "\n",
    "\"\"\"\n",
    "    📝 SINTAXIS:\n",
    "    \n",
    "        dataframe_nombre[NumeroIndice] ⬅️ Recordemos que el indice empieza en 0.\n",
    "    \n",
    "    💡 Importante: Tener en cuenta que el índice o número a ingresar, no debe superar \n",
    "                    el tamaño de valores.    \n",
    "        \n",
    "    ### 🧠 Tengamos en cuenta que podemos almacenar el resultado de estas operaciones en variables.\n",
    "\"\"\"\n",
    "\n",
    "# 💡 EJEMPLO 1: NÚMERO DE ÍNDICE CORRECTO ✅ \n",
    "df_example[0] # ⬅️ Número de indice: 2 (Retorna todos los registros de la fila 1, índice 0).\n",
    "\n",
    "## 💡 EJEMPLO 2: NÚMERO DE ÍNDICE INCORRECTO ❌ \n",
    "\n",
    "## df_example[3] # ⬅️ Número de indice: 3.\n",
    "## ❌ Error: Índice fuera de los límites"
   ]
  },
  {
   "cell_type": "code",
   "execution_count": 5,
   "id": "d4391fb6",
   "metadata": {},
   "outputs": [
    {
     "name": "stdout",
     "output_type": "stream",
     "text": [
      "19\n"
     ]
    }
   ],
   "source": [
    "# C). OBTENER UN VALOR ESPECÍFICO DE UN REGISTRO, BASADO EN SU NÚMERO DE ÍNDICE\n",
    "#     Y EL NOMBRE DE UNA COLUMNA.\n",
    "\"\"\"\n",
    "    📝 SINTAXIS: \n",
    "    \n",
    "        dataframe_nombre[NumeroIndice,NombreColumna] ⬅️ De esta manera accederemos solo a valores específicos.\n",
    "        \n",
    "        ### 🧠 Tengamos en cuenta que podemos almacenar el resultado de estas operaciones en variables.\n",
    "\"\"\"\n",
    "# 💡 EJEMPLO: \n",
    "# df_example[1,\"Nota\"] # ⬅️ Accedemos a la fila con índice 1 y la columna de nombre Nota.\n",
    "print(df_example[1,\"Nota\"]) # ⬅️ Accedemos a la fila con índice 1 y la columna de nombre Nota."
   ]
  },
  {
   "cell_type": "code",
   "execution_count": 6,
   "id": "ec00cf6b",
   "metadata": {},
   "outputs": [
    {
     "data": {
      "text/html": [
       "<div><style>\n",
       ".dataframe > thead > tr,\n",
       ".dataframe > tbody > tr {\n",
       "  text-align: right;\n",
       "  white-space: pre-wrap;\n",
       "}\n",
       "</style>\n",
       "<small>shape: (2, 3)</small><table border=\"1\" class=\"dataframe\"><thead><tr><th>Nombre</th><th>Edad</th><th>Nota</th></tr><tr><td>str</td><td>i64</td><td>i64</td></tr></thead><tbody><tr><td>&quot;RAFAEL&quot;</td><td>25</td><td>19</td></tr><tr><td>&quot;PEPITO&quot;</td><td>20</td><td>10</td></tr></tbody></table></div>"
      ],
      "text/plain": [
       "shape: (2, 3)\n",
       "┌────────┬──────┬──────┐\n",
       "│ Nombre ┆ Edad ┆ Nota │\n",
       "│ ---    ┆ ---  ┆ ---  │\n",
       "│ str    ┆ i64  ┆ i64  │\n",
       "╞════════╪══════╪══════╡\n",
       "│ RAFAEL ┆ 25   ┆ 19   │\n",
       "│ PEPITO ┆ 20   ┆ 10   │\n",
       "└────────┴──────┴──────┘"
      ]
     },
     "execution_count": 6,
     "metadata": {},
     "output_type": "execute_result"
    }
   ],
   "source": [
    "# D). FILTRAR VALORES EN UN DATAFRAME:\n",
    "\n",
    "\"\"\" \n",
    "    Para realizar el filtro de valores nos basaremos en condiciones que la o las columnas\n",
    "    deben cumplir. Por ende, ya no utilizaremos el método .query() o el filtrado a través []\n",
    "    como en Pandas, sino mediante su propia función .filter().\n",
    "    \n",
    "   💡 Importante: Para poder acceder a una columna y realizar el filtro correspondiente,\n",
    "       utilizaremos pl.col() que crea una expresión de la columna verificando su existencia.\n",
    "    \n",
    "    📝 SINTAXIS:\n",
    "     \n",
    "        dataframe_nombre.filter( ⬅️ Método filter() para realizar filtrado.\n",
    "                pl.col(NombreColumna) |CondicionColumna|        ⬅️ Filtramos por una columna.\n",
    "                (pl.col(NombreColumna1) |CondicionColumna1| ) & \n",
    "                (pl.col(NombreColumna2) |CondicionColumna2| )   ⬅️ Filtramos por varias columnas.\n",
    "        )\n",
    "        \n",
    "        ( > || < || >= || <= || != ) ⬅️ Operadores lógicos \n",
    "        \n",
    "        ### 🧠 Tengamos en cuenta que podemos almacenar el resultado de estas operaciones en variables.\n",
    "\"\"\"\n",
    "# 💡 EJEMPLO 1: USANDO OPERADORES LÓGICOS (EN UNA COLUMNA)\n",
    "\n",
    "# df_example.filter(pl.col(\"Nota\")>15) # ⬅️ Notas mayores a 15\n",
    "# df_example.filter(pl.col(\"Nombre\")!='RAFAEL') # ⬅️ Todos los nombre diferentes a RAFAEL\n",
    "\n",
    "# 💡 EJEMPLO 2: USANDO OPERADORES LÓGICOS (EN MÁS DE UNA COLUMNA)\n",
    "\n",
    "# df_example.filter((pl.col(\"Edad\")==20) & (pl.col(\"Nota\")==10)) # ⬅️ Edad igual a 20 y Nota 10. (2 columnas)\n",
    "## ➡️ Cada condición de filtro, la debemos separar mediante paréntesis ().\n",
    "\n",
    "# 💡 EJEMPLO 3:\n",
    "\n",
    "df_filtrado = df_example.filter((pl.col(\"Edad\")==20) | (pl.col(\"Nota\")==19)) # Filtrando por dos columnas (Usamos or)\n",
    "df_filtrado.head()"
   ]
  },
  {
   "cell_type": "code",
   "execution_count": 7,
   "id": "72abe3b4",
   "metadata": {},
   "outputs": [
    {
     "data": {
      "text/html": [
       "<div><style>\n",
       ".dataframe > thead > tr,\n",
       ".dataframe > tbody > tr {\n",
       "  text-align: right;\n",
       "  white-space: pre-wrap;\n",
       "}\n",
       "</style>\n",
       "<small>shape: (3, 6)</small><table border=\"1\" class=\"dataframe\"><thead><tr><th>Nombre</th><th>Edad</th><th>Nota</th><th>Puntaje</th><th>Ranking</th><th>Extra</th></tr><tr><td>str</td><td>i64</td><td>i64</td><td>i64</td><td>i64</td><td>f64</td></tr></thead><tbody><tr><td>&quot;BRAYAN&quot;</td><td>15</td><td>13</td><td>1</td><td>13</td><td>13.0</td></tr><tr><td>&quot;RAFAEL&quot;</td><td>25</td><td>19</td><td>2</td><td>38</td><td>9.5</td></tr><tr><td>&quot;PEPITO&quot;</td><td>20</td><td>10</td><td>3</td><td>30</td><td>3.333333</td></tr></tbody></table></div>"
      ],
      "text/plain": [
       "shape: (3, 6)\n",
       "┌────────┬──────┬──────┬─────────┬─────────┬──────────┐\n",
       "│ Nombre ┆ Edad ┆ Nota ┆ Puntaje ┆ Ranking ┆ Extra    │\n",
       "│ ---    ┆ ---  ┆ ---  ┆ ---     ┆ ---     ┆ ---      │\n",
       "│ str    ┆ i64  ┆ i64  ┆ i64     ┆ i64     ┆ f64      │\n",
       "╞════════╪══════╪══════╪═════════╪═════════╪══════════╡\n",
       "│ BRAYAN ┆ 15   ┆ 13   ┆ 1       ┆ 13      ┆ 13.0     │\n",
       "│ RAFAEL ┆ 25   ┆ 19   ┆ 2       ┆ 38      ┆ 9.5      │\n",
       "│ PEPITO ┆ 20   ┆ 10   ┆ 3       ┆ 30      ┆ 3.333333 │\n",
       "└────────┴──────┴──────┴─────────┴─────────┴──────────┘"
      ]
     },
     "execution_count": 7,
     "metadata": {},
     "output_type": "execute_result"
    }
   ],
   "source": [
    "# E). AGREGAR UNA O VARIAS COLUMNAS AL DATAFRAME:\n",
    "\n",
    "\"\"\"\n",
    "    Para poder agregar una nueva columna en Polars, a diferencia de Pandas que donde se definía\n",
    "    entre [] una nueva columna, en Polars, usamos metodos directamente al dataframe, este método\n",
    "    es .with_columns(), donde podemos crear columnas nuevas a raíz del cálculo de otras columnas.\n",
    "    \n",
    "    📝 SINTAXIS:\n",
    "\n",
    "        dataframe_nombre = dataframe_nombre.with_columns(\n",
    "            pl.col(NombreColumna).alias(\"NombreNuevaColumna\")  ⬅️ Primera forma de crear una nueva columna (recomendada).\n",
    "            NombreNuevaColumna = pl.col(NombreColumnaCalculo)  ⬅️ Segunda forma de crear una nueva columna.\n",
    "            pl.Series(values=[Valores],name=\"NombreNuevaColumna\",dtype=TipoDato) ⬅️ Tercera forma de crear una nueva columna (serie).\n",
    "        )\n",
    "        \n",
    "    ### ⚠️ Tengamos en cuenta que para realizar cambios al dataframe, debemos llamar al dataframe otra vez.\n",
    "\"\"\"\n",
    "\n",
    "# 💡 EJERCICIO 1: NUEVA COLUMNA CON INFORMACIÓN\n",
    "\n",
    "df_example = df_example.with_columns(\n",
    "    pl.Series(values=[1,2,3],name=\"Puntaje\",dtype=pl.Int64) \n",
    "    # ⬅️ Recodemos que para esta forma de agregar información\n",
    "    #    debe contener la misma cantidad de datos que \n",
    "    #    el total de registros.\n",
    ")\n",
    "# df_example.head()\n",
    "\n",
    "# 💡 EJERCICIO 2: NUEVA COLUMNA CALCULADA v1.\n",
    "df_example = df_example.with_columns(\n",
    "    (pl.col(\"Nota\")*pl.col(\"Puntaje\")).alias(\"Ranking\")\n",
    ")                                                    #    a las columnas a través de los corchetes [].\n",
    "# df_example.head()\n",
    "\n",
    "\n",
    "# 💡 EJERCICIO 3: NUEVA COLUMNA CALCULADA v2.\n",
    "df_example = df_example.with_columns(\n",
    "    Extra = (pl.col(\"Nota\")/pl.col(\"Puntaje\")) \n",
    ")\n",
    "df_example.head()"
   ]
  },
  {
   "cell_type": "code",
   "execution_count": 9,
   "id": "2cee19e5",
   "metadata": {},
   "outputs": [
    {
     "data": {
      "text/html": [
       "<div><style>\n",
       ".dataframe > thead > tr,\n",
       ".dataframe > tbody > tr {\n",
       "  text-align: right;\n",
       "  white-space: pre-wrap;\n",
       "}\n",
       "</style>\n",
       "<small>shape: (3, 4)</small><table border=\"1\" class=\"dataframe\"><thead><tr><th>Nombre</th><th>Edad</th><th>Ranking</th><th>Extra</th></tr><tr><td>str</td><td>i64</td><td>i64</td><td>f64</td></tr></thead><tbody><tr><td>&quot;BRAYAN&quot;</td><td>15</td><td>13</td><td>13.0</td></tr><tr><td>&quot;RAFAEL&quot;</td><td>25</td><td>38</td><td>9.5</td></tr><tr><td>&quot;PEPITO&quot;</td><td>20</td><td>30</td><td>3.333333</td></tr></tbody></table></div>"
      ],
      "text/plain": [
       "shape: (3, 4)\n",
       "┌────────┬──────┬─────────┬──────────┐\n",
       "│ Nombre ┆ Edad ┆ Ranking ┆ Extra    │\n",
       "│ ---    ┆ ---  ┆ ---     ┆ ---      │\n",
       "│ str    ┆ i64  ┆ i64     ┆ f64      │\n",
       "╞════════╪══════╪═════════╪══════════╡\n",
       "│ BRAYAN ┆ 15   ┆ 13      ┆ 13.0     │\n",
       "│ RAFAEL ┆ 25   ┆ 38      ┆ 9.5      │\n",
       "│ PEPITO ┆ 20   ┆ 30      ┆ 3.333333 │\n",
       "└────────┴──────┴─────────┴──────────┘"
      ]
     },
     "execution_count": 9,
     "metadata": {},
     "output_type": "execute_result"
    }
   ],
   "source": [
    "# F). ELIMINAR COLUMNAS DEL DATAFRAME:\n",
    "\n",
    "\"\"\"\n",
    "   A diferencia de Pandas donde llamamos directamente a la funcion con el dataset y realizamos la operación.\n",
    "   En Polars debemos llamar al mismo dataframe y/o asignarlo a una nueva variable para poder visualizar\n",
    "   los cambios de la eliminación.\n",
    "    \n",
    "    \n",
    "    📝 SINTAXIS:\n",
    "    \n",
    "        dataframe_nombre = dataframe_nombre.drop([NombreColumna1,NombreColumna2],strict=True | False [EvaluaExistenciaDeColumnas])\n",
    "\n",
    "    ### 🧠 En este caso, debemos almacenar en una variable los cambios a realizar en el dataframe\n",
    "\n",
    "    ### ⚠️ Debemos tener en cuenta que si volvemos a ejecutar el código de eliminar columnas\n",
    "           la columna especificada como ya no existe, lanzará error.\n",
    "\n",
    "\"\"\"\n",
    "\n",
    "# 💡 EJEMPLO 1:\n",
    "# df_example = df_example.drop(\"Ranking\",strict=True) # ⬅️ Establecemos True en strict ✅\n",
    "# df_example.head() # ⬅️ Verificamos que si se elimino correctamente la columna\n",
    "\n",
    "# 💡 EJEMPLO 2:\n",
    "df_copia = df_example # ⬅️ Método .copy() que permite copiar el dataframe a otra variable.\n",
    "df_copia = df_copia.drop([\"Nota\",\"Puntaje\"],strict=True) # ⬅️ Establecemos True en strict ✅\n",
    "df_copia.head() # ⬅️ Verificamos que si se elimino correctamente las columnas\n"
   ]
  },
  {
   "cell_type": "code",
   "execution_count": 10,
   "id": "4f2dc36e",
   "metadata": {},
   "outputs": [
    {
     "data": {
      "text/html": [
       "<div><style>\n",
       ".dataframe > thead > tr,\n",
       ".dataframe > tbody > tr {\n",
       "  text-align: right;\n",
       "  white-space: pre-wrap;\n",
       "}\n",
       "</style>\n",
       "<small>shape: (3, 6)</small><table border=\"1\" class=\"dataframe\"><thead><tr><th>Nombre</th><th>Edad</th><th>Nota</th><th>Puntaje</th><th>Ranking</th><th>Extra</th></tr><tr><td>str</td><td>i64</td><td>i64</td><td>i64</td><td>i64</td><td>f64</td></tr></thead><tbody><tr><td>&quot;RAFAEL&quot;</td><td>25</td><td>19</td><td>2</td><td>38</td><td>9.5</td></tr><tr><td>&quot;PEPITO&quot;</td><td>20</td><td>10</td><td>3</td><td>30</td><td>3.333333</td></tr><tr><td>&quot;BRAYAN&quot;</td><td>15</td><td>13</td><td>1</td><td>13</td><td>13.0</td></tr></tbody></table></div>"
      ],
      "text/plain": [
       "shape: (3, 6)\n",
       "┌────────┬──────┬──────┬─────────┬─────────┬──────────┐\n",
       "│ Nombre ┆ Edad ┆ Nota ┆ Puntaje ┆ Ranking ┆ Extra    │\n",
       "│ ---    ┆ ---  ┆ ---  ┆ ---     ┆ ---     ┆ ---      │\n",
       "│ str    ┆ i64  ┆ i64  ┆ i64     ┆ i64     ┆ f64      │\n",
       "╞════════╪══════╪══════╪═════════╪═════════╪══════════╡\n",
       "│ RAFAEL ┆ 25   ┆ 19   ┆ 2       ┆ 38      ┆ 9.5      │\n",
       "│ PEPITO ┆ 20   ┆ 10   ┆ 3       ┆ 30      ┆ 3.333333 │\n",
       "│ BRAYAN ┆ 15   ┆ 13   ┆ 1       ┆ 13      ┆ 13.0     │\n",
       "└────────┴──────┴──────┴─────────┴─────────┴──────────┘"
      ]
     },
     "execution_count": 10,
     "metadata": {},
     "output_type": "execute_result"
    }
   ],
   "source": [
    "# G). ORDERNAR LOS DATOS DEL DATAFRAME POR UNA O VARIAS COLUMNAS\n",
    "\n",
    "\"\"\"\n",
    "    📝 SINTAXIS: \n",
    "\n",
    "        dataframe_nombre = dataframe_nombre.sort(by=NombreColumna,descending=True | False) \n",
    "        \n",
    "    💡 Importante: Al establecer el valor de descending en True, los datos se ordenan\n",
    "                   de mayor a menor por la columna que especifiquemos. Sin embargo, sino \n",
    "                   llamamos a la propiedad descending o por el contrario, se establece el valor en False,\n",
    "                   los datos se ordenan de menor a mayor.\n",
    "                   \n",
    "        ### 🧠 Tengamos en cuenta que podemos almacenar el resultado de estas operaciones en variables.\n",
    "\"\"\"\n",
    "# 💡 EJEMPLO 1: ➡️ Ordenamos Alfabéticamente (A-Z)\n",
    "\n",
    "# df_example.sort(by=\"Nombre\",descending=False).head()\n",
    "\n",
    "# 💡 EJEMPLO 2: ➡️ Ordenamos Alfabéticamente (Z-A)\n",
    "\n",
    "# df_example.sort(by=\"Nombre\",descending=True).head()\n",
    "\n",
    "# 💡 EJEMPLO 3: ➡️ Ordenamos por columna Numérica (De menor a mayor)\n",
    "\n",
    "# df_example.sort(by=\"Edad\",descending=False).head()\n",
    "\n",
    "# 💡 EJEMPLO 4: ➡️ Ordenamos por columna Numérica (De mayor a menor)\n",
    "\n",
    "df_example.sort(by=\"Edad\",descending=True).head()\n"
   ]
  }
 ],
 "metadata": {
  "kernelspec": {
   "display_name": "venv",
   "language": "python",
   "name": "python3"
  },
  "language_info": {
   "codemirror_mode": {
    "name": "ipython",
    "version": 3
   },
   "file_extension": ".py",
   "mimetype": "text/x-python",
   "name": "python",
   "nbconvert_exporter": "python",
   "pygments_lexer": "ipython3",
   "version": "3.11.5"
  }
 },
 "nbformat": 4,
 "nbformat_minor": 5
}
